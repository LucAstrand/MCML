{
 "cells": [
  {
   "cell_type": "code",
   "execution_count": 1,
   "id": "16ae2560",
   "metadata": {},
   "outputs": [],
   "source": [
    "import torch\n",
    "import time\n",
    "import numpy as np\n",
    "import pandas as pd\n",
    "import torch.optim as optim\n",
    "import matplotlib.pyplot as plt"
   ]
  },
  {
   "cell_type": "code",
   "execution_count": 2,
   "id": "d56d540a",
   "metadata": {},
   "outputs": [
    {
     "name": "stdout",
     "output_type": "stream",
     "text": [
      "Using device: cpu\n"
     ]
    }
   ],
   "source": [
    "device = (\n",
    "    \"cuda\" if torch.cuda.is_available()\n",
    "    else \"mps\"  if getattr(torch.backends, \"mps\", None) and torch.backends.mps.is_available()\n",
    "    else \"cpu\"\n",
    ")\n",
    "print(f\"Using device: {device}\")"
   ]
  },
  {
   "cell_type": "code",
   "execution_count": 3,
   "id": "fbed895a",
   "metadata": {},
   "outputs": [],
   "source": [
    "DAE_np_data_path = r'data\\np\\npData.csv'\n",
    "\n",
    "np_DAE_df = pd.read_csv(DAE_np_data_path)"
   ]
  },
  {
   "cell_type": "code",
   "execution_count": 4,
   "id": "99c85e17",
   "metadata": {},
   "outputs": [],
   "source": [
    "np_DAE_df = np_DAE_df[np_DAE_df['author1'] != 'K.H.Hicks+'] # Dataset has multiple authors, we keep only B.K.Park+ to ensure only one target material..."
   ]
  },
  {
   "cell_type": "code",
   "execution_count": 5,
   "id": "7ae1b6cb",
   "metadata": {},
   "outputs": [],
   "source": [
    "df = np_DAE_df[['x2(eV)', 'x3(eV)', 'x4(deg)','y', 'dy']]\n",
    "\n",
    "df = df.rename(columns={\n",
    "    'x2(eV)': 'E_inc',\n",
    "    'x3(eV)': 'E_sec',\n",
    "    'x4(deg)': 'theta',\n",
    "    'y': 'ddcs',  # double differential cross section\n",
    "    'dy': 'Errddcs'  # Error on double differential cross section \n",
    "\n",
    "})\n",
    "df = df.dropna(subset=['E_inc', 'E_sec', 'theta', 'ddcs'])\n",
    "\n",
    "df = df[df['E_inc'] != 2.5e8]"
   ]
  },
  {
   "cell_type": "code",
   "execution_count": 6,
   "id": "928da9d8",
   "metadata": {},
   "outputs": [],
   "source": [
    "import torch\n",
    "import numpy as np\n",
    "import pandas as pd\n",
    "\n",
    "\n",
    "def prepare_experimental_data(df):\n",
    "\n",
    "    # incident energy \n",
    "    E_inc_unique  = sorted(df['E_inc'].unique())\n",
    "\n",
    "    # create the grid\n",
    "    E_sec_unique  = np.asarray(sorted(df['E_sec'].unique()),  dtype=float)\n",
    "    theta_unique  = np.asarray(sorted(df['theta'].unique()), dtype=float)\n",
    "\n",
    "    # create the 2D distribution\n",
    "    out = []\n",
    "    for E_inc in E_inc_unique:\n",
    "        # Sub-select rows for this incident energy\n",
    "        sub = df[df['E_inc'] == E_inc]\n",
    "\n",
    "        # Pivot into a full 2-D grid; reindex to guarantee rectangular shape\n",
    "        grid = (\n",
    "            sub.pivot(index='E_sec', columns='theta', values='ddcs')\n",
    "               .reindex(index=E_sec_unique, columns=theta_unique)\n",
    "               .fillna(0.0)\n",
    "               .to_numpy()\n",
    "        )\n",
    "\n",
    "        out.append({\n",
    "            'E_inc' : torch.tensor(E_inc,        dtype=torch.float32),\n",
    "            'E_sec' : torch.tensor(E_sec_unique, dtype=torch.float32),\n",
    "            'theta' : torch.tensor(theta_unique, dtype=torch.float32),\n",
    "            'ddcs'  : torch.tensor(grid,         dtype=torch.float32)\n",
    "        })\n",
    "\n",
    "    return out"
   ]
  },
  {
   "cell_type": "code",
   "execution_count": 7,
   "id": "ee36dd8d",
   "metadata": {},
   "outputs": [],
   "source": [
    "out = prepare_experimental_data(df)\n",
    "\n",
    "# same as out, but cs are integrated over theta and E_sec\n",
    "# This will give us the integrated results for each incident energy\n",
    "integrated_results = []\n",
    "\n",
    "for d in out:\n",
    "    E_inc = d['E_inc']\n",
    "    E_sec = d['E_sec']\n",
    "    theta = d['theta']\n",
    "    ddcs = d['ddcs']\n",
    "\n",
    "    int_theta = torch.trapz(ddcs, theta, dim=1)  # integrate over theta\n",
    "    int_Esec = torch.trapz(ddcs, E_sec, dim=0)  # integrate over E_sec\n",
    "\n",
    "    integrated_results.append({\n",
    "        'E_inc': E_inc,\n",
    "        'E_sec': E_sec,\n",
    "        'theta': theta,\n",
    "        'int_over_theta': int_theta,\n",
    "        'int_over_E_sec': int_Esec\n",
    "    })\n",
    "\n"
   ]
  },
  {
   "cell_type": "code",
   "execution_count": 8,
   "id": "122c90df",
   "metadata": {},
   "outputs": [],
   "source": [
    "\n",
    "def plot_integrated_cross_sections(integrated_results):\n",
    "    for data in integrated_results:\n",
    "        E_inc = data['E_inc'].item()  # scalar float\n",
    "        E_sec = data['E_sec'].numpy()\n",
    "        theta = data['theta'].numpy()\n",
    "        int_over_theta = data['int_over_theta'].numpy()\n",
    "        int_over_E_sec = data['int_over_E_sec'].numpy()\n",
    "\n",
    "        # Plot integrated over theta (cross section vs E_sec)\n",
    "        plt.figure(figsize=(12,5))\n",
    "        plt.subplot(1, 2, 1)\n",
    "        plt.plot(E_sec, int_over_theta, marker='o')\n",
    "        plt.xlabel('Secondary Energy $E_{sec}$')\n",
    "        plt.ylabel('Integrated Cross Section (over θ)')\n",
    "        plt.title(f'Incident Energy $E_{{inc}}$ = {E_inc:.2f}')\n",
    "\n",
    "        # Plot integrated over E_sec (cross section vs theta)\n",
    "        plt.subplot(1, 2, 2)\n",
    "        plt.plot(theta, int_over_E_sec, marker='o')\n",
    "        plt.xlabel('Scattering Angle θ')\n",
    "        plt.ylabel('Integrated Cross Section (over $E_{sec}$)')\n",
    "        plt.title(f'Incident Energy $E_{{inc}}$ = {E_inc:.2f}')\n",
    "\n",
    "        plt.tight_layout()\n",
    "        plt.show()\n",
    "\n",
    "# plot_integrated_cross_sections(integrated_results)"
   ]
  },
  {
   "cell_type": "code",
   "execution_count": 9,
   "id": "3a734a10",
   "metadata": {},
   "outputs": [],
   "source": [
    "import math\n",
    "import torch\n",
    "import torch.nn as nn\n",
    "\n",
    "# ---------------------------\n",
    "# Minimal NPReactionSimulator (batched only)\n",
    "# ---------------------------\n",
    "class NPReactionSimulator(nn.Module):\n",
    "    def __init__(self, m_n=939.565, m_p=938.272, M_A=29785.0, S_n=7.70, S_p=13.46):\n",
    "        super().__init__()\n",
    "        self.register_buffer(\"m_n\", torch.tensor(float(m_n)))\n",
    "        self.register_buffer(\"m_p\", torch.tensor(float(m_p)))\n",
    "        self.register_buffer(\"M_A\", torch.tensor(float(M_A)))\n",
    "        self.register_buffer(\"S_n\", torch.tensor(float(S_n)))\n",
    "        self.register_buffer(\"S_p\", torch.tensor(float(S_p)))\n",
    "\n",
    "    def forward(self, Ek, r1, r2, r3):\n",
    "        # Ek: (B,) or (B,1) -> expand to (B, N)\n",
    "        if Ek.dim() == 1:\n",
    "            Ek = Ek.unsqueeze(1).expand(-1, r1.shape[1])\n",
    "        elif Ek.shape[1] == 1:\n",
    "            Ek = Ek.expand(-1, r1.shape[1])\n",
    "\n",
    "        m_n, m_p, M_A, S_n, S_p = (\n",
    "            self.m_n.to(Ek),\n",
    "            self.m_p.to(Ek),\n",
    "            self.M_A.to(Ek),\n",
    "            self.S_n.to(Ek),\n",
    "            self.S_p.to(Ek)\n",
    "        )\n",
    "\n",
    "        denom = (M_A + m_n) ** 2\n",
    "        Tk = (Ek ** 2) * m_n / (denom + 1e-12)\n",
    "        Ex = Ek - Tk + S_n\n",
    "        available_E = Ex - S_p\n",
    "        mask = available_E > 0\n",
    "\n",
    "        Ep_com = r1 * available_E\n",
    "        E_p_com = Ep_com + m_p\n",
    "        p_mag_com = torch.sqrt(torch.clamp(E_p_com**2 - m_p**2, min=0.0))\n",
    "\n",
    "        cos_theta_com = r2\n",
    "        sin_theta_com = torch.sqrt(torch.clamp(1.0 - cos_theta_com**2, min=0.0))\n",
    "        phi = r3\n",
    "\n",
    "        px_com = p_mag_com * sin_theta_com * torch.cos(phi)\n",
    "        py_com = p_mag_com * sin_theta_com * torch.sin(phi)\n",
    "        pz_com = p_mag_com * cos_theta_com\n",
    "\n",
    "        M_recoil = M_A + m_n\n",
    "        beta = torch.clamp(Tk / (M_recoil + 1e-12), max=0.999999)\n",
    "        gamma = 1.0 / torch.sqrt(torch.clamp(1.0 - beta**2, min=1e-12))\n",
    "\n",
    "        E_lab = gamma * (E_p_com + beta * pz_com)\n",
    "        pz_lab = gamma * (pz_com + beta * E_p_com)\n",
    "        p_mag_lab = torch.sqrt(px_com**2 + py_com**2 + pz_lab**2 + 1e-12)\n",
    "\n",
    "        Ep_lab = torch.where(mask, E_lab - m_p, torch.zeros_like(E_lab))\n",
    "        cos_theta_lab = torch.where(mask, pz_lab / (p_mag_lab + 1e-12), torch.zeros_like(pz_lab))\n",
    "        return Ep_lab, cos_theta_lab\n",
    "\n",
    "\n",
    "# ---------------------------\n",
    "# Minimal DifferentiableKDE (batched only)\n",
    "# ---------------------------\n",
    "class DifferentiableKDE(nn.Module):\n",
    "    def __init__(self, x_eval, bandwidth=0.6, normalize=True):\n",
    "        super().__init__()\n",
    "        self.register_buffer(\"x_eval\", x_eval.view(-1))\n",
    "        self.bandwidth = float(bandwidth)\n",
    "        self.normalize = bool(normalize)\n",
    "        self.register_buffer(\"sqrt_2pi\", torch.tensor(math.sqrt(2 * math.pi), dtype=torch.float32))\n",
    "\n",
    "    def forward(self, samples, weights=None):\n",
    "        # samples: (B, N)\n",
    "        B, N = samples.shape\n",
    "        M = self.x_eval.numel()\n",
    "\n",
    "        if weights is None:\n",
    "            weights = torch.ones_like(samples)\n",
    "\n",
    "        x = self.x_eval.view(M, 1, 1)\n",
    "        s = samples.view(1, B, N)\n",
    "\n",
    "        diffs = (x - s) / self.bandwidth\n",
    "        kernel_vals = torch.exp(-0.5 * diffs**2) / (self.bandwidth * self.sqrt_2pi)\n",
    "\n",
    "        w = weights.view(1, B, N)\n",
    "        density = (kernel_vals * w).sum(dim=2) / (w.sum(dim=2) + 1e-12)\n",
    "\n",
    "        density = density.permute(1, 0).contiguous()  # (B, M)\n",
    "\n",
    "        if self.normalize:\n",
    "            dx = (self.x_eval[1:] - self.x_eval[:-1]).mean().clamp(min=1e-12)\n",
    "            density /= (density.sum(dim=1, keepdim=True) * dx + 1e-12)\n",
    "\n",
    "        return density  # (B, M)\n",
    "\n",
    "\n",
    "# ---------------------------\n",
    "# Minimal ACSPipeline\n",
    "# ---------------------------\n",
    "class ACSPipeline(nn.Module):\n",
    "    def __init__(self, cos_theta_eval, kde_bandwidth=0.05):\n",
    "        super().__init__()\n",
    "        self.simulator = NPReactionSimulator()\n",
    "        self.kde_theta = DifferentiableKDE(cos_theta_eval, bandwidth=kde_bandwidth)\n",
    "\n",
    "    def forward(self, Ek, r1, r2, r3):\n",
    "        Ep_lab, cos_theta_lab = self.simulator(Ek, r1, r2, r3)\n",
    "        valid = (Ep_lab > 0).float()\n",
    "        return self.kde_theta(cos_theta_lab, weights=valid)\n"
   ]
  },
  {
   "cell_type": "code",
   "execution_count": 10,
   "id": "7ebde60a",
   "metadata": {},
   "outputs": [],
   "source": [
    "# import torch\n",
    "# import math\n",
    "# import matplotlib.pyplot as plt\n",
    "# import numpy as np\n",
    "\n",
    "# # --- from your data ---\n",
    "# E_sec_exp = torch.tensor(sorted(df['E_sec'].unique()), dtype=torch.float32) / 1e6\n",
    "# E_inc_unique = torch.tensor(sorted(df['E_inc'].unique()), dtype=torch.float32) / 1e6\n",
    "# cos_theta_exp = torch.tensor(sorted(np.cos(np.radians(df['theta'].unique()))), dtype=torch.float32)\n",
    "\n",
    "# device = torch.device(\"cuda\" if torch.cuda.is_available() else \"cpu\")\n",
    "\n",
    "# # Parameters\n",
    "# B = len(E_inc_unique)  # one batch per experimental incoming energy\n",
    "# N = 2000               # MC samples per Ek\n",
    "\n",
    "# # Expand energies to batch\n",
    "# Ek_batch = E_inc_unique.to(device)  # shape [B]\n",
    "\n",
    "# # Random Monte Carlo parameters\n",
    "# r1 = torch.rand((B, N), device=device)\n",
    "# r2 = torch.rand((B, N), device=device) * 2 - 1\n",
    "# r3 = torch.rand((B, N), device=device) * 2 * math.pi - math.pi\n",
    "\n",
    "# # Create pipeline\n",
    "# pipeline = ACSPipeline(cos_theta_eval=cos_theta_exp).to(device)\n",
    "\n",
    "# # Run simulation\n",
    "# with torch.no_grad():\n",
    "#     dsigma = pipeline(Ek_batch, r1, r2, r3)  # shape [B, M]\n",
    "\n",
    "# print(\"dsigma shape:\", dsigma.shape)\n",
    "\n",
    "# # Plot results\n",
    "# fig, axes = plt.subplots(1, B, figsize=(4 * B, 4), sharey=True)\n",
    "# if B == 1:\n",
    "#     axes = [axes]\n",
    "\n",
    "# for i, ax in enumerate(axes):\n",
    "#     ax.plot(cos_theta_exp.cpu(), dsigma[i].cpu(), 'b-', lw=2)\n",
    "#     ax.set_title(f\"E_k = {Ek_batch[i].item():.2f} MeV\")\n",
    "#     ax.set_xlabel(r\"$\\cos\\theta$\")\n",
    "#     if i == 0:\n",
    "#         ax.set_ylabel(r\"$\\frac{d\\sigma}{d\\Omega}$ (arb. units)\")\n",
    "\n",
    "# plt.tight_layout()\n",
    "# plt.show()\n"
   ]
  },
  {
   "cell_type": "code",
   "execution_count": 11,
   "id": "8d9a6544",
   "metadata": {},
   "outputs": [],
   "source": [
    "# # TESTING \n",
    "# pipeline = ACSPipeline(cos_theta_eval=cos_theta_exp).to(device)\n",
    "\n",
    "# Ek_batch = torch.tensor([70.0], device=device)  # Example single energy, shape [B]\n",
    "\n",
    "# r1 = torch.tensor([[0.5]], device=device)\n",
    "# r1 = torch.tensor([[0.5]], device=device)\n",
    "# r1 = torch.tensor([[0.5]], device=device)\n",
    "\n",
    "\n",
    "# # Run simulation\n",
    "# with torch.no_grad():\n",
    "#     dsigma = pipeline(Ek_batch, r1, r2, r3)\n",
    "\n",
    "# dsigma"
   ]
  },
  {
   "cell_type": "code",
   "execution_count": 28,
   "id": "e9734a76",
   "metadata": {},
   "outputs": [],
   "source": [
    "import torch\n",
    "import torch.nn.functional as F\n",
    "\n",
    "def kl_plus_sum_mse_loss(simulated_ddcs, experimental_ddcs, eps=1e-8):\n",
    "    # --- KL part (shape) ---\n",
    "    sim_sum = simulated_ddcs.sum(dim=-1, keepdim=True) + eps\n",
    "    exp_sum = experimental_ddcs.sum(dim=-1, keepdim=True) + eps\n",
    "\n",
    "    sim_dist = simulated_ddcs / sim_sum\n",
    "    exp_dist = experimental_ddcs / exp_sum\n",
    "\n",
    "    sim_dist = torch.clamp(sim_dist, min=eps)\n",
    "    exp_dist = torch.clamp(exp_dist, min=eps)\n",
    "\n",
    "    log_sim = sim_dist.log()\n",
    "    kl = F.kl_div(log_sim, exp_dist, reduction='batchmean', log_target=False)\n",
    "\n",
    "    # --- MSE part (scale/height) ---\n",
    "    mse_sums = F.mse_loss(sim_sum, exp_sum)\n",
    "\n",
    "    # Combine losses\n",
    "    loss = kl + 0.00001 * mse_sums\n",
    "\n",
    "    if torch.isnan(loss):\n",
    "        print(\"Loss is NaN\")\n",
    "        print(\"KL:\", kl)\n",
    "        print(\"MSE_sums:\", mse_sums)\n",
    "\n",
    "    return loss\n",
    "\n",
    "def mse_loss(pred: torch.Tensor, target: torch.Tensor) -> torch.Tensor:\n",
    "    \"\"\"\n",
    "    Mean Squared Error loss for comparing simulated vs experimental cross sections.\n",
    "\n",
    "    Args:\n",
    "        pred   : (B, M) Simulated dσ/dΩ values\n",
    "        target : (B, M) Experimental dσ/dΩ values\n",
    "\n",
    "    Returns:\n",
    "        Scalar tensor loss\n",
    "    \"\"\"\n",
    "    return torch.mean((pred - target) ** 2)\n",
    "\n",
    "# def weighted_mse_loss(pred: torch.Tensor, target: torch.Tensor, weights: torch.Tensor) -> torch.Tensor:\n",
    "#     \"\"\"\n",
    "#     Weighted MSE loss, e.g., with weights = 1 / (σ_err^2).\n",
    "#     \"\"\"\n",
    "#     return torch.mean(weights * (pred - target) ** 2)\n",
    "\n",
    "def hybrid_loss(simulated_ddcs, experimental_ddcs, alpha=0.0001, eps=1e-8):\n",
    "    # --- KL part (shape) ---\n",
    "    sim_sum = simulated_ddcs.sum(dim=-1, keepdim=True) + eps\n",
    "    exp_sum = experimental_ddcs.sum(dim=-1, keepdim=True) + eps\n",
    "\n",
    "    sim_dist = simulated_ddcs / sim_sum\n",
    "    exp_dist = experimental_ddcs / exp_sum\n",
    "\n",
    "    sim_dist = torch.clamp(sim_dist, min=eps)\n",
    "    exp_dist = torch.clamp(exp_dist, min=eps)\n",
    "\n",
    "    log_sim = sim_dist.log()\n",
    "    kl = F.kl_div(log_sim, exp_dist, reduction='batchmean', log_target=False)\n",
    "\n",
    "    mse_term = torch.mean((simulated_ddcs - experimental_ddcs) ** 2)\n",
    "    # pred_norm = simulated_ddcs / (simulated_ddcs.sum(dim=1, keepdim=True) + 1e-8)\n",
    "    # target_norm = experimental_ddcs / (experimental_ddcs.sum(dim=1, keepdim=True) + 1e-8)\n",
    "    \n",
    "    # kl_term = torch.sum(target_norm * torch.log((target_norm + 1e-8) / (pred_norm + 1e-8)), dim=1).mean()\n",
    "    return alpha * mse_term + (1 - alpha) * kl\n",
    "\n"
   ]
  },
  {
   "cell_type": "code",
   "execution_count": 29,
   "id": "71a680ea",
   "metadata": {},
   "outputs": [],
   "source": [
    "# ------------------------------------------------------------------\n",
    "# Hyper-parameters\n",
    "# ------------------------------------------------------------------\n",
    "n_in        = 3       # number of parameters, i.e., random numbers needed in the simulation\n",
    "n_lamda     = 1       # number of untrainable external parameter dependencies\n",
    "n_hidden    = 12      # number of hidden neurons in the network, at each layer\n",
    "n_layers    = 3       # number of hidden layers in the network\n",
    "n_out       = n_in    # must match the number of output parameters\n",
    "batch_size  = 64 #2_000   # samples of random number per batch, to build the distribution. Larger is better, but slower\n",
    "n_mc_samples = 1024\n",
    "epochs      = 10000   # number of epochs to train the network\n",
    "lr          = 1e-3    # learning rate for the optimizer\n",
    "\n",
    "# ------------------------------------------------------------------\n",
    "# MLP producing seeds in [0,1]\n",
    "# ------------------------------------------------------------------\n",
    "def make_mlp(n_in, n_lamda, n_hidden, n_layers, n_out):\n",
    "    layers, d = [], n_in + n_lamda\n",
    "    for _ in range(n_layers):\n",
    "        layers += [nn.Linear(d, n_hidden), nn.ReLU()]\n",
    "        d = n_hidden\n",
    "    layers += [nn.Linear(d, n_out), nn.Sigmoid()]\n",
    "    return nn.Sequential(*layers)\n",
    "\n",
    "net       = make_mlp(n_in, n_lamda, n_hidden, n_layers, n_out).to(device)\n",
    "optimiser = optim.Adam(net.parameters(), lr=lr)\n",
    "# ------------------------------------------------------------------"
   ]
  },
  {
   "cell_type": "code",
   "execution_count": 30,
   "id": "5c316571",
   "metadata": {},
   "outputs": [
    {
     "name": "stderr",
     "output_type": "stream",
     "text": [
      "Training Epochs:   0%|          | 3/10000 [00:00<06:11, 26.90it/s]"
     ]
    },
    {
     "name": "stdout",
     "output_type": "stream",
     "text": [
      "Epoch   1 | Loss: 17.077732\n"
     ]
    },
    {
     "name": "stderr",
     "output_type": "stream",
     "text": [
      "Training Epochs:   1%|          | 106/10000 [00:03<04:15, 38.66it/s]"
     ]
    },
    {
     "name": "stdout",
     "output_type": "stream",
     "text": [
      "Epoch 101 | Loss: 17.053852\n"
     ]
    },
    {
     "name": "stderr",
     "output_type": "stream",
     "text": [
      "Training Epochs:   2%|▏         | 209/10000 [00:05<04:00, 40.70it/s]"
     ]
    },
    {
     "name": "stdout",
     "output_type": "stream",
     "text": [
      "Epoch 201 | Loss: 17.106798\n"
     ]
    },
    {
     "name": "stderr",
     "output_type": "stream",
     "text": [
      "Training Epochs:   3%|▎         | 308/10000 [00:08<04:14, 38.10it/s]"
     ]
    },
    {
     "name": "stdout",
     "output_type": "stream",
     "text": [
      "Epoch 301 | Loss: 17.024706\n"
     ]
    },
    {
     "name": "stderr",
     "output_type": "stream",
     "text": [
      "Training Epochs:   4%|▍         | 408/10000 [00:10<03:57, 40.38it/s]"
     ]
    },
    {
     "name": "stdout",
     "output_type": "stream",
     "text": [
      "Epoch 401 | Loss: 17.107639\n"
     ]
    },
    {
     "name": "stderr",
     "output_type": "stream",
     "text": [
      "Training Epochs:   5%|▌         | 507/10000 [00:13<03:52, 40.75it/s]"
     ]
    },
    {
     "name": "stdout",
     "output_type": "stream",
     "text": [
      "Epoch 501 | Loss: 17.073227\n"
     ]
    },
    {
     "name": "stderr",
     "output_type": "stream",
     "text": [
      "Training Epochs:   6%|▌         | 606/10000 [00:15<04:01, 38.90it/s]"
     ]
    },
    {
     "name": "stdout",
     "output_type": "stream",
     "text": [
      "Epoch 601 | Loss: 17.149734\n"
     ]
    },
    {
     "name": "stderr",
     "output_type": "stream",
     "text": [
      "Training Epochs:   7%|▋         | 706/10000 [00:18<03:44, 41.32it/s]"
     ]
    },
    {
     "name": "stdout",
     "output_type": "stream",
     "text": [
      "Epoch 701 | Loss: 17.041353\n"
     ]
    },
    {
     "name": "stderr",
     "output_type": "stream",
     "text": [
      "Training Epochs:   8%|▊         | 807/10000 [00:20<03:47, 40.36it/s]"
     ]
    },
    {
     "name": "stdout",
     "output_type": "stream",
     "text": [
      "Epoch 801 | Loss: 17.070539\n"
     ]
    },
    {
     "name": "stderr",
     "output_type": "stream",
     "text": [
      "Training Epochs:   9%|▉         | 906/10000 [00:23<03:52, 39.05it/s]"
     ]
    },
    {
     "name": "stdout",
     "output_type": "stream",
     "text": [
      "Epoch 901 | Loss: 17.103764\n"
     ]
    },
    {
     "name": "stderr",
     "output_type": "stream",
     "text": [
      "Training Epochs:  10%|█         | 1005/10000 [00:25<03:33, 42.03it/s]"
     ]
    },
    {
     "name": "stdout",
     "output_type": "stream",
     "text": [
      "Epoch 1001 | Loss: 17.078787\n"
     ]
    },
    {
     "name": "stderr",
     "output_type": "stream",
     "text": [
      "Training Epochs:  11%|█         | 1106/10000 [00:28<03:41, 40.07it/s]"
     ]
    },
    {
     "name": "stdout",
     "output_type": "stream",
     "text": [
      "Epoch 1101 | Loss: 17.075672\n"
     ]
    },
    {
     "name": "stderr",
     "output_type": "stream",
     "text": [
      "Training Epochs:  12%|█▏        | 1209/10000 [00:31<03:32, 41.33it/s]"
     ]
    },
    {
     "name": "stdout",
     "output_type": "stream",
     "text": [
      "Epoch 1201 | Loss: 17.080725\n"
     ]
    },
    {
     "name": "stderr",
     "output_type": "stream",
     "text": [
      "Training Epochs:  13%|█▎        | 1309/10000 [00:34<03:26, 42.10it/s]"
     ]
    },
    {
     "name": "stdout",
     "output_type": "stream",
     "text": [
      "Epoch 1301 | Loss: 17.104742\n"
     ]
    },
    {
     "name": "stderr",
     "output_type": "stream",
     "text": [
      "Training Epochs:  14%|█▍        | 1409/10000 [00:36<03:21, 42.57it/s]"
     ]
    },
    {
     "name": "stdout",
     "output_type": "stream",
     "text": [
      "Epoch 1401 | Loss: 17.099346\n"
     ]
    },
    {
     "name": "stderr",
     "output_type": "stream",
     "text": [
      "Training Epochs:  15%|█▌        | 1507/10000 [00:38<03:13, 43.91it/s]"
     ]
    },
    {
     "name": "stdout",
     "output_type": "stream",
     "text": [
      "Epoch 1501 | Loss: 17.128977\n"
     ]
    },
    {
     "name": "stderr",
     "output_type": "stream",
     "text": [
      "Training Epochs:  16%|█▌        | 1607/10000 [00:41<03:07, 44.83it/s]"
     ]
    },
    {
     "name": "stdout",
     "output_type": "stream",
     "text": [
      "Epoch 1601 | Loss: 17.079302\n"
     ]
    },
    {
     "name": "stderr",
     "output_type": "stream",
     "text": [
      "Training Epochs:  17%|█▋        | 1707/10000 [00:43<03:07, 44.34it/s]"
     ]
    },
    {
     "name": "stdout",
     "output_type": "stream",
     "text": [
      "Epoch 1701 | Loss: 17.085808\n"
     ]
    },
    {
     "name": "stderr",
     "output_type": "stream",
     "text": [
      "Training Epochs:  18%|█▊        | 1807/10000 [00:45<03:03, 44.72it/s]"
     ]
    },
    {
     "name": "stdout",
     "output_type": "stream",
     "text": [
      "Epoch 1801 | Loss: 17.090811\n"
     ]
    },
    {
     "name": "stderr",
     "output_type": "stream",
     "text": [
      "Training Epochs:  19%|█▉        | 1907/10000 [00:48<03:09, 42.81it/s]"
     ]
    },
    {
     "name": "stdout",
     "output_type": "stream",
     "text": [
      "Epoch 1901 | Loss: 17.128660\n"
     ]
    },
    {
     "name": "stderr",
     "output_type": "stream",
     "text": [
      "Training Epochs:  20%|██        | 2007/10000 [00:50<03:09, 42.19it/s]"
     ]
    },
    {
     "name": "stdout",
     "output_type": "stream",
     "text": [
      "Epoch 2001 | Loss: 16.989540\n"
     ]
    },
    {
     "name": "stderr",
     "output_type": "stream",
     "text": [
      "Training Epochs:  21%|██        | 2107/10000 [00:53<03:03, 43.04it/s]"
     ]
    },
    {
     "name": "stdout",
     "output_type": "stream",
     "text": [
      "Epoch 2101 | Loss: 17.100636\n"
     ]
    },
    {
     "name": "stderr",
     "output_type": "stream",
     "text": [
      "Training Epochs:  22%|██▏       | 2207/10000 [00:55<02:53, 44.82it/s]"
     ]
    },
    {
     "name": "stdout",
     "output_type": "stream",
     "text": [
      "Epoch 2201 | Loss: 17.089645\n"
     ]
    },
    {
     "name": "stderr",
     "output_type": "stream",
     "text": [
      "Training Epochs:  23%|██▎       | 2307/10000 [00:57<02:58, 43.19it/s]"
     ]
    },
    {
     "name": "stdout",
     "output_type": "stream",
     "text": [
      "Epoch 2301 | Loss: 17.054512\n"
     ]
    },
    {
     "name": "stderr",
     "output_type": "stream",
     "text": [
      "Training Epochs:  24%|██▍       | 2406/10000 [01:00<02:55, 43.17it/s]"
     ]
    },
    {
     "name": "stdout",
     "output_type": "stream",
     "text": [
      "Epoch 2401 | Loss: 17.031832\n"
     ]
    },
    {
     "name": "stderr",
     "output_type": "stream",
     "text": [
      "Training Epochs:  25%|██▌       | 2509/10000 [01:02<03:05, 40.30it/s]"
     ]
    },
    {
     "name": "stdout",
     "output_type": "stream",
     "text": [
      "Epoch 2501 | Loss: 17.104275\n"
     ]
    },
    {
     "name": "stderr",
     "output_type": "stream",
     "text": [
      "Training Epochs:  26%|██▌       | 2608/10000 [01:05<02:50, 43.33it/s]"
     ]
    },
    {
     "name": "stdout",
     "output_type": "stream",
     "text": [
      "Epoch 2601 | Loss: 17.108166\n"
     ]
    },
    {
     "name": "stderr",
     "output_type": "stream",
     "text": [
      "Training Epochs:  27%|██▋       | 2708/10000 [01:07<02:46, 43.80it/s]"
     ]
    },
    {
     "name": "stdout",
     "output_type": "stream",
     "text": [
      "Epoch 2701 | Loss: 17.070593\n"
     ]
    },
    {
     "name": "stderr",
     "output_type": "stream",
     "text": [
      "Training Epochs:  28%|██▊       | 2807/10000 [01:09<02:37, 45.53it/s]"
     ]
    },
    {
     "name": "stdout",
     "output_type": "stream",
     "text": [
      "Epoch 2801 | Loss: 17.119274\n"
     ]
    },
    {
     "name": "stderr",
     "output_type": "stream",
     "text": [
      "Training Epochs:  29%|██▉       | 2907/10000 [01:12<02:43, 43.38it/s]"
     ]
    },
    {
     "name": "stdout",
     "output_type": "stream",
     "text": [
      "Epoch 2901 | Loss: 17.034439\n"
     ]
    },
    {
     "name": "stderr",
     "output_type": "stream",
     "text": [
      "Training Epochs:  30%|███       | 3007/10000 [01:14<02:35, 44.89it/s]"
     ]
    },
    {
     "name": "stdout",
     "output_type": "stream",
     "text": [
      "Epoch 3001 | Loss: 17.109812\n"
     ]
    },
    {
     "name": "stderr",
     "output_type": "stream",
     "text": [
      "Training Epochs:  31%|███       | 3107/10000 [01:16<02:35, 44.27it/s]"
     ]
    },
    {
     "name": "stdout",
     "output_type": "stream",
     "text": [
      "Epoch 3101 | Loss: 17.113829\n"
     ]
    },
    {
     "name": "stderr",
     "output_type": "stream",
     "text": [
      "Training Epochs:  32%|███▏      | 3207/10000 [01:19<02:37, 43.10it/s]"
     ]
    },
    {
     "name": "stdout",
     "output_type": "stream",
     "text": [
      "Epoch 3201 | Loss: 17.032692\n"
     ]
    },
    {
     "name": "stderr",
     "output_type": "stream",
     "text": [
      "Training Epochs:  33%|███▎      | 3306/10000 [01:21<02:33, 43.52it/s]"
     ]
    },
    {
     "name": "stdout",
     "output_type": "stream",
     "text": [
      "Epoch 3301 | Loss: 17.137957\n"
     ]
    },
    {
     "name": "stderr",
     "output_type": "stream",
     "text": [
      "Training Epochs:  34%|███▍      | 3408/10000 [01:24<02:52, 38.26it/s]"
     ]
    },
    {
     "name": "stdout",
     "output_type": "stream",
     "text": [
      "Epoch 3401 | Loss: 17.122416\n"
     ]
    },
    {
     "name": "stderr",
     "output_type": "stream",
     "text": [
      "Training Epochs:  35%|███▌      | 3506/10000 [01:26<02:55, 37.10it/s]"
     ]
    },
    {
     "name": "stdout",
     "output_type": "stream",
     "text": [
      "Epoch 3501 | Loss: 17.059036\n"
     ]
    },
    {
     "name": "stderr",
     "output_type": "stream",
     "text": [
      "Training Epochs:  36%|███▌      | 3606/10000 [01:29<03:02, 35.08it/s]"
     ]
    },
    {
     "name": "stdout",
     "output_type": "stream",
     "text": [
      "Epoch 3601 | Loss: 17.051315\n"
     ]
    },
    {
     "name": "stderr",
     "output_type": "stream",
     "text": [
      "Training Epochs:  37%|███▋      | 3706/10000 [01:32<02:40, 39.27it/s]"
     ]
    },
    {
     "name": "stdout",
     "output_type": "stream",
     "text": [
      "Epoch 3701 | Loss: 17.091614\n"
     ]
    },
    {
     "name": "stderr",
     "output_type": "stream",
     "text": [
      "Training Epochs:  38%|███▊      | 3808/10000 [01:34<02:39, 38.93it/s]"
     ]
    },
    {
     "name": "stdout",
     "output_type": "stream",
     "text": [
      "Epoch 3801 | Loss: 17.105528\n"
     ]
    },
    {
     "name": "stderr",
     "output_type": "stream",
     "text": [
      "Training Epochs:  39%|███▉      | 3908/10000 [01:37<02:30, 40.42it/s]"
     ]
    },
    {
     "name": "stdout",
     "output_type": "stream",
     "text": [
      "Epoch 3901 | Loss: 17.069530\n"
     ]
    },
    {
     "name": "stderr",
     "output_type": "stream",
     "text": [
      "Training Epochs:  40%|████      | 4006/10000 [01:40<02:41, 37.09it/s]"
     ]
    },
    {
     "name": "stdout",
     "output_type": "stream",
     "text": [
      "Epoch 4001 | Loss: 17.070688\n"
     ]
    },
    {
     "name": "stderr",
     "output_type": "stream",
     "text": [
      "Training Epochs:  41%|████      | 4104/10000 [01:42<02:43, 36.08it/s]"
     ]
    },
    {
     "name": "stdout",
     "output_type": "stream",
     "text": [
      "Epoch 4101 | Loss: 17.036674\n"
     ]
    },
    {
     "name": "stderr",
     "output_type": "stream",
     "text": [
      "Training Epochs:  42%|████▏     | 4209/10000 [01:45<02:24, 40.02it/s]"
     ]
    },
    {
     "name": "stdout",
     "output_type": "stream",
     "text": [
      "Epoch 4201 | Loss: 17.035351\n"
     ]
    },
    {
     "name": "stderr",
     "output_type": "stream",
     "text": [
      "Training Epochs:  43%|████▎     | 4305/10000 [01:48<02:25, 39.10it/s]"
     ]
    },
    {
     "name": "stdout",
     "output_type": "stream",
     "text": [
      "Epoch 4301 | Loss: 17.079565\n"
     ]
    },
    {
     "name": "stderr",
     "output_type": "stream",
     "text": [
      "Training Epochs:  44%|████▍     | 4409/10000 [01:50<02:05, 44.39it/s]"
     ]
    },
    {
     "name": "stdout",
     "output_type": "stream",
     "text": [
      "Epoch 4401 | Loss: 17.118242\n"
     ]
    },
    {
     "name": "stderr",
     "output_type": "stream",
     "text": [
      "Training Epochs:  45%|████▌     | 4509/10000 [01:53<02:02, 44.68it/s]"
     ]
    },
    {
     "name": "stdout",
     "output_type": "stream",
     "text": [
      "Epoch 4501 | Loss: 17.107359\n"
     ]
    },
    {
     "name": "stderr",
     "output_type": "stream",
     "text": [
      "Training Epochs:  46%|████▌     | 4609/10000 [01:55<02:01, 44.25it/s]"
     ]
    },
    {
     "name": "stdout",
     "output_type": "stream",
     "text": [
      "Epoch 4601 | Loss: 17.063864\n"
     ]
    },
    {
     "name": "stderr",
     "output_type": "stream",
     "text": [
      "Training Epochs:  47%|████▋     | 4709/10000 [01:57<02:00, 43.74it/s]"
     ]
    },
    {
     "name": "stdout",
     "output_type": "stream",
     "text": [
      "Epoch 4701 | Loss: 17.106745\n"
     ]
    },
    {
     "name": "stderr",
     "output_type": "stream",
     "text": [
      "Training Epochs:  48%|████▊     | 4804/10000 [02:00<02:22, 36.46it/s]"
     ]
    },
    {
     "name": "stdout",
     "output_type": "stream",
     "text": [
      "Epoch 4801 | Loss: 17.095024\n"
     ]
    },
    {
     "name": "stderr",
     "output_type": "stream",
     "text": [
      "Training Epochs:  49%|████▉     | 4908/10000 [02:02<01:58, 43.05it/s]"
     ]
    },
    {
     "name": "stdout",
     "output_type": "stream",
     "text": [
      "Epoch 4901 | Loss: 17.033768\n"
     ]
    },
    {
     "name": "stderr",
     "output_type": "stream",
     "text": [
      "Training Epochs:  50%|█████     | 5006/10000 [02:04<01:49, 45.57it/s]"
     ]
    },
    {
     "name": "stdout",
     "output_type": "stream",
     "text": [
      "Epoch 5001 | Loss: 17.076096\n"
     ]
    },
    {
     "name": "stderr",
     "output_type": "stream",
     "text": [
      "Training Epochs:  51%|█████     | 5107/10000 [02:07<02:14, 36.27it/s]"
     ]
    },
    {
     "name": "stdout",
     "output_type": "stream",
     "text": [
      "Epoch 5101 | Loss: 17.140793\n"
     ]
    },
    {
     "name": "stderr",
     "output_type": "stream",
     "text": [
      "Training Epochs:  52%|█████▏    | 5210/10000 [02:09<01:47, 44.72it/s]"
     ]
    },
    {
     "name": "stdout",
     "output_type": "stream",
     "text": [
      "Epoch 5201 | Loss: 17.134293\n"
     ]
    },
    {
     "name": "stderr",
     "output_type": "stream",
     "text": [
      "Training Epochs:  53%|█████▎    | 5305/10000 [02:12<01:44, 44.83it/s]"
     ]
    },
    {
     "name": "stdout",
     "output_type": "stream",
     "text": [
      "Epoch 5301 | Loss: 17.030167\n"
     ]
    },
    {
     "name": "stderr",
     "output_type": "stream",
     "text": [
      "Training Epochs:  54%|█████▍    | 5410/10000 [02:14<01:44, 44.02it/s]"
     ]
    },
    {
     "name": "stdout",
     "output_type": "stream",
     "text": [
      "Epoch 5401 | Loss: 17.043968\n"
     ]
    },
    {
     "name": "stderr",
     "output_type": "stream",
     "text": [
      "Training Epochs:  55%|█████▌    | 5510/10000 [02:16<01:39, 45.04it/s]"
     ]
    },
    {
     "name": "stdout",
     "output_type": "stream",
     "text": [
      "Epoch 5501 | Loss: 17.067274\n"
     ]
    },
    {
     "name": "stderr",
     "output_type": "stream",
     "text": [
      "Training Epochs:  56%|█████▌    | 5610/10000 [02:19<01:39, 44.12it/s]"
     ]
    },
    {
     "name": "stdout",
     "output_type": "stream",
     "text": [
      "Epoch 5601 | Loss: 17.017929\n"
     ]
    },
    {
     "name": "stderr",
     "output_type": "stream",
     "text": [
      "Training Epochs:  57%|█████▋    | 5709/10000 [02:21<01:34, 45.27it/s]"
     ]
    },
    {
     "name": "stdout",
     "output_type": "stream",
     "text": [
      "Epoch 5701 | Loss: 17.056980\n"
     ]
    },
    {
     "name": "stderr",
     "output_type": "stream",
     "text": [
      "Training Epochs:  58%|█████▊    | 5805/10000 [02:23<01:41, 41.49it/s]"
     ]
    },
    {
     "name": "stdout",
     "output_type": "stream",
     "text": [
      "Epoch 5801 | Loss: 17.097778\n"
     ]
    },
    {
     "name": "stderr",
     "output_type": "stream",
     "text": [
      "Training Epochs:  59%|█████▉    | 5906/10000 [02:26<01:45, 38.92it/s]"
     ]
    },
    {
     "name": "stdout",
     "output_type": "stream",
     "text": [
      "Epoch 5901 | Loss: 17.065077\n"
     ]
    },
    {
     "name": "stderr",
     "output_type": "stream",
     "text": [
      "Training Epochs:  60%|██████    | 6004/10000 [02:28<01:48, 36.89it/s]"
     ]
    },
    {
     "name": "stdout",
     "output_type": "stream",
     "text": [
      "Epoch 6001 | Loss: 17.092920\n"
     ]
    },
    {
     "name": "stderr",
     "output_type": "stream",
     "text": [
      "Training Epochs:  61%|██████    | 6106/10000 [02:31<01:27, 44.35it/s]"
     ]
    },
    {
     "name": "stdout",
     "output_type": "stream",
     "text": [
      "Epoch 6101 | Loss: 17.050373\n"
     ]
    },
    {
     "name": "stderr",
     "output_type": "stream",
     "text": [
      "Training Epochs:  62%|██████▏   | 6206/10000 [02:33<01:28, 42.86it/s]"
     ]
    },
    {
     "name": "stdout",
     "output_type": "stream",
     "text": [
      "Epoch 6201 | Loss: 17.064976\n"
     ]
    },
    {
     "name": "stderr",
     "output_type": "stream",
     "text": [
      "Training Epochs:  63%|██████▎   | 6305/10000 [02:36<01:30, 40.77it/s]"
     ]
    },
    {
     "name": "stdout",
     "output_type": "stream",
     "text": [
      "Epoch 6301 | Loss: 17.068890\n"
     ]
    },
    {
     "name": "stderr",
     "output_type": "stream",
     "text": [
      "Training Epochs:  64%|██████▍   | 6410/10000 [02:38<01:21, 44.23it/s]"
     ]
    },
    {
     "name": "stdout",
     "output_type": "stream",
     "text": [
      "Epoch 6401 | Loss: 17.095633\n"
     ]
    },
    {
     "name": "stderr",
     "output_type": "stream",
     "text": [
      "Training Epochs:  65%|██████▌   | 6510/10000 [02:40<01:17, 44.84it/s]"
     ]
    },
    {
     "name": "stdout",
     "output_type": "stream",
     "text": [
      "Epoch 6501 | Loss: 17.112143\n"
     ]
    },
    {
     "name": "stderr",
     "output_type": "stream",
     "text": [
      "Training Epochs:  66%|██████▌   | 6607/10000 [02:43<01:30, 37.60it/s]"
     ]
    },
    {
     "name": "stdout",
     "output_type": "stream",
     "text": [
      "Epoch 6601 | Loss: 17.092146\n"
     ]
    },
    {
     "name": "stderr",
     "output_type": "stream",
     "text": [
      "Training Epochs:  67%|██████▋   | 6706/10000 [02:45<01:22, 39.88it/s]"
     ]
    },
    {
     "name": "stdout",
     "output_type": "stream",
     "text": [
      "Epoch 6701 | Loss: 17.046877\n"
     ]
    },
    {
     "name": "stderr",
     "output_type": "stream",
     "text": [
      "Training Epochs:  68%|██████▊   | 6808/10000 [02:48<01:23, 38.32it/s]"
     ]
    },
    {
     "name": "stdout",
     "output_type": "stream",
     "text": [
      "Epoch 6801 | Loss: 17.108194\n"
     ]
    },
    {
     "name": "stderr",
     "output_type": "stream",
     "text": [
      "Training Epochs:  69%|██████▉   | 6906/10000 [02:50<01:09, 44.82it/s]"
     ]
    },
    {
     "name": "stdout",
     "output_type": "stream",
     "text": [
      "Epoch 6901 | Loss: 17.077410\n"
     ]
    },
    {
     "name": "stderr",
     "output_type": "stream",
     "text": [
      "Training Epochs:  70%|███████   | 7007/10000 [02:53<01:02, 47.68it/s]"
     ]
    },
    {
     "name": "stdout",
     "output_type": "stream",
     "text": [
      "Epoch 7001 | Loss: 17.075138\n"
     ]
    },
    {
     "name": "stderr",
     "output_type": "stream",
     "text": [
      "Training Epochs:  71%|███████   | 7107/10000 [02:55<01:05, 44.27it/s]"
     ]
    },
    {
     "name": "stdout",
     "output_type": "stream",
     "text": [
      "Epoch 7101 | Loss: 17.066875\n"
     ]
    },
    {
     "name": "stderr",
     "output_type": "stream",
     "text": [
      "Training Epochs:  72%|███████▏  | 7207/10000 [02:57<01:01, 45.05it/s]"
     ]
    },
    {
     "name": "stdout",
     "output_type": "stream",
     "text": [
      "Epoch 7201 | Loss: 17.033533\n"
     ]
    },
    {
     "name": "stderr",
     "output_type": "stream",
     "text": [
      "Training Epochs:  73%|███████▎  | 7307/10000 [02:59<01:01, 43.78it/s]"
     ]
    },
    {
     "name": "stdout",
     "output_type": "stream",
     "text": [
      "Epoch 7301 | Loss: 17.154013\n"
     ]
    },
    {
     "name": "stderr",
     "output_type": "stream",
     "text": [
      "Training Epochs:  74%|███████▍  | 7407/10000 [03:02<00:58, 44.02it/s]"
     ]
    },
    {
     "name": "stdout",
     "output_type": "stream",
     "text": [
      "Epoch 7401 | Loss: 17.057705\n"
     ]
    },
    {
     "name": "stderr",
     "output_type": "stream",
     "text": [
      "Training Epochs:  75%|███████▌  | 7507/10000 [03:04<00:56, 43.92it/s]"
     ]
    },
    {
     "name": "stdout",
     "output_type": "stream",
     "text": [
      "Epoch 7501 | Loss: 17.070230\n"
     ]
    },
    {
     "name": "stderr",
     "output_type": "stream",
     "text": [
      "Training Epochs:  76%|███████▌  | 7607/10000 [03:06<00:53, 44.63it/s]"
     ]
    },
    {
     "name": "stdout",
     "output_type": "stream",
     "text": [
      "Epoch 7601 | Loss: 17.092035\n"
     ]
    },
    {
     "name": "stderr",
     "output_type": "stream",
     "text": [
      "Training Epochs:  77%|███████▋  | 7707/10000 [03:09<00:49, 46.29it/s]"
     ]
    },
    {
     "name": "stdout",
     "output_type": "stream",
     "text": [
      "Epoch 7701 | Loss: 17.077593\n"
     ]
    },
    {
     "name": "stderr",
     "output_type": "stream",
     "text": [
      "Training Epochs:  78%|███████▊  | 7807/10000 [03:11<00:49, 44.50it/s]"
     ]
    },
    {
     "name": "stdout",
     "output_type": "stream",
     "text": [
      "Epoch 7801 | Loss: 17.058594\n"
     ]
    },
    {
     "name": "stderr",
     "output_type": "stream",
     "text": [
      "Training Epochs:  79%|███████▉  | 7907/10000 [03:13<00:46, 45.45it/s]"
     ]
    },
    {
     "name": "stdout",
     "output_type": "stream",
     "text": [
      "Epoch 7901 | Loss: 17.121208\n"
     ]
    },
    {
     "name": "stderr",
     "output_type": "stream",
     "text": [
      "Training Epochs:  80%|████████  | 8007/10000 [03:16<00:45, 43.81it/s]"
     ]
    },
    {
     "name": "stdout",
     "output_type": "stream",
     "text": [
      "Epoch 8001 | Loss: 17.072657\n"
     ]
    },
    {
     "name": "stderr",
     "output_type": "stream",
     "text": [
      "Training Epochs:  81%|████████  | 8107/10000 [03:18<00:41, 45.89it/s]"
     ]
    },
    {
     "name": "stdout",
     "output_type": "stream",
     "text": [
      "Epoch 8101 | Loss: 17.045788\n"
     ]
    },
    {
     "name": "stderr",
     "output_type": "stream",
     "text": [
      "Training Epochs:  82%|████████▏ | 8207/10000 [03:20<00:40, 44.14it/s]"
     ]
    },
    {
     "name": "stdout",
     "output_type": "stream",
     "text": [
      "Epoch 8201 | Loss: 17.054737\n"
     ]
    },
    {
     "name": "stderr",
     "output_type": "stream",
     "text": [
      "Training Epochs:  83%|████████▎ | 8307/10000 [03:22<00:38, 44.47it/s]"
     ]
    },
    {
     "name": "stdout",
     "output_type": "stream",
     "text": [
      "Epoch 8301 | Loss: 17.109468\n"
     ]
    },
    {
     "name": "stderr",
     "output_type": "stream",
     "text": [
      "Training Epochs:  84%|████████▍ | 8407/10000 [03:25<00:34, 46.06it/s]"
     ]
    },
    {
     "name": "stdout",
     "output_type": "stream",
     "text": [
      "Epoch 8401 | Loss: 17.133715\n"
     ]
    },
    {
     "name": "stderr",
     "output_type": "stream",
     "text": [
      "Training Epochs:  85%|████████▌ | 8507/10000 [03:27<00:33, 44.14it/s]"
     ]
    },
    {
     "name": "stdout",
     "output_type": "stream",
     "text": [
      "Epoch 8501 | Loss: 17.059595\n"
     ]
    },
    {
     "name": "stderr",
     "output_type": "stream",
     "text": [
      "Training Epochs:  86%|████████▌ | 8609/10000 [03:29<00:31, 44.56it/s]"
     ]
    },
    {
     "name": "stdout",
     "output_type": "stream",
     "text": [
      "Epoch 8601 | Loss: 17.084249\n"
     ]
    },
    {
     "name": "stderr",
     "output_type": "stream",
     "text": [
      "Training Epochs:  87%|████████▋ | 8709/10000 [03:32<00:29, 43.53it/s]"
     ]
    },
    {
     "name": "stdout",
     "output_type": "stream",
     "text": [
      "Epoch 8701 | Loss: 17.109974\n"
     ]
    },
    {
     "name": "stderr",
     "output_type": "stream",
     "text": [
      "Training Epochs:  88%|████████▊ | 8809/10000 [03:34<00:26, 44.62it/s]"
     ]
    },
    {
     "name": "stdout",
     "output_type": "stream",
     "text": [
      "Epoch 8801 | Loss: 17.101061\n"
     ]
    },
    {
     "name": "stderr",
     "output_type": "stream",
     "text": [
      "Training Epochs:  89%|████████▉ | 8909/10000 [03:36<00:23, 46.52it/s]"
     ]
    },
    {
     "name": "stdout",
     "output_type": "stream",
     "text": [
      "Epoch 8901 | Loss: 17.123569\n"
     ]
    },
    {
     "name": "stderr",
     "output_type": "stream",
     "text": [
      "Training Epochs:  90%|█████████ | 9009/10000 [03:39<00:22, 43.26it/s]"
     ]
    },
    {
     "name": "stdout",
     "output_type": "stream",
     "text": [
      "Epoch 9001 | Loss: 17.098291\n"
     ]
    },
    {
     "name": "stderr",
     "output_type": "stream",
     "text": [
      "Training Epochs:  91%|█████████ | 9109/10000 [03:41<00:19, 45.71it/s]"
     ]
    },
    {
     "name": "stdout",
     "output_type": "stream",
     "text": [
      "Epoch 9101 | Loss: 17.123610\n"
     ]
    },
    {
     "name": "stderr",
     "output_type": "stream",
     "text": [
      "Training Epochs:  92%|█████████▏| 9209/10000 [03:43<00:18, 43.84it/s]"
     ]
    },
    {
     "name": "stdout",
     "output_type": "stream",
     "text": [
      "Epoch 9201 | Loss: 17.074081\n"
     ]
    },
    {
     "name": "stderr",
     "output_type": "stream",
     "text": [
      "Training Epochs:  93%|█████████▎| 9309/10000 [03:45<00:15, 44.97it/s]"
     ]
    },
    {
     "name": "stdout",
     "output_type": "stream",
     "text": [
      "Epoch 9301 | Loss: 17.009241\n"
     ]
    },
    {
     "name": "stderr",
     "output_type": "stream",
     "text": [
      "Training Epochs:  94%|█████████▍| 9404/10000 [03:48<00:14, 41.97it/s]"
     ]
    },
    {
     "name": "stdout",
     "output_type": "stream",
     "text": [
      "Epoch 9401 | Loss: 17.077789\n"
     ]
    },
    {
     "name": "stderr",
     "output_type": "stream",
     "text": [
      "Training Epochs:  95%|█████████▌| 9508/10000 [03:50<00:11, 44.46it/s]"
     ]
    },
    {
     "name": "stdout",
     "output_type": "stream",
     "text": [
      "Epoch 9501 | Loss: 17.137430\n"
     ]
    },
    {
     "name": "stderr",
     "output_type": "stream",
     "text": [
      "Training Epochs:  96%|█████████▌| 9608/10000 [03:53<00:08, 46.27it/s]"
     ]
    },
    {
     "name": "stdout",
     "output_type": "stream",
     "text": [
      "Epoch 9601 | Loss: 17.108551\n"
     ]
    },
    {
     "name": "stderr",
     "output_type": "stream",
     "text": [
      "Training Epochs:  97%|█████████▋| 9708/10000 [03:55<00:06, 43.42it/s]"
     ]
    },
    {
     "name": "stdout",
     "output_type": "stream",
     "text": [
      "Epoch 9701 | Loss: 17.038254\n"
     ]
    },
    {
     "name": "stderr",
     "output_type": "stream",
     "text": [
      "Training Epochs:  98%|█████████▊| 9807/10000 [03:57<00:04, 44.21it/s]"
     ]
    },
    {
     "name": "stdout",
     "output_type": "stream",
     "text": [
      "Epoch 9801 | Loss: 17.113047\n"
     ]
    },
    {
     "name": "stderr",
     "output_type": "stream",
     "text": [
      "Training Epochs:  99%|█████████▉| 9907/10000 [04:00<00:02, 45.29it/s]"
     ]
    },
    {
     "name": "stdout",
     "output_type": "stream",
     "text": [
      "Epoch 9901 | Loss: 17.089039\n"
     ]
    },
    {
     "name": "stderr",
     "output_type": "stream",
     "text": [
      "Training Epochs: 100%|██████████| 10000/10000 [04:02<00:00, 41.24it/s]\n"
     ]
    }
   ],
   "source": [
    "import torch\n",
    "import torch.nn as nn\n",
    "import torch.optim as optim\n",
    "import torch.nn.functional as F\n",
    "from tqdm import trange\n",
    "\n",
    "# device = torch.device(\"cuda\" if torch.cuda.is_available() else \"cpu\")\n",
    "\n",
    "# -------------\n",
    "# Prep\n",
    "# -------------\n",
    "\n",
    "E_sec_exp = torch.tensor(sorted(df['E_sec'].unique()), dtype=torch.float32) / 1e6\n",
    "E_inc_unique = torch.tensor(sorted(df['E_inc'].unique()), dtype=torch.float32) / 1e6\n",
    "cos_theta_exp = torch.tensor(sorted(np.cos(np.radians(df['theta'].unique()))), dtype=torch.float32)\n",
    "\n",
    "# ecs_pipeline = ECSPipeline(E_eval=E_sec_exp).to(device)\n",
    "acs_pipeline = ACSPipeline(cos_theta_eval=cos_theta_exp).to(device)\n",
    "\n",
    "# -------------\n",
    "# Training loop\n",
    "# -------------\n",
    "\n",
    "net.train()\n",
    "\n",
    "all_Ek = torch.stack([res['E_inc'] for res in integrated_results]) / 1e6  # (N,)\n",
    "all_exp = torch.stack([res['int_over_E_sec'] for res in integrated_results])  # (N, dist_len)\n",
    "\n",
    "all_Ek = all_Ek.to(device)\n",
    "all_exp = all_exp.to(device)\n",
    "\n",
    "num_samples_total = all_Ek.shape[0]\n",
    "\n",
    "# --- Training loop ---\n",
    "for epoch in trange(epochs, desc='Training Epochs'):\n",
    "    # Sample random indices for batch\n",
    "    idx = torch.randint(0, num_samples_total, (batch_size,), device=device)\n",
    "\n",
    "    Ek_batch = all_Ek[idx]  # (B,)\n",
    "    dsigma_dOmega_exp = all_exp[idx]  # (B, M)\n",
    "\n",
    "    # Draw random uniform inputs for network\n",
    "    # Shape: (B, N, n_in)\n",
    "    uniform_samples = torch.rand((batch_size, n_mc_samples, n_in), device=device)\n",
    "\n",
    "    # Append Ek to each MC sample row\n",
    "    Ek_expanded = Ek_batch.unsqueeze(1).expand(-1, n_mc_samples).unsqueeze(-1)  # (B, N, 1)\n",
    "    net_input = torch.cat([uniform_samples, Ek_expanded], dim=-1)  # (B, N, n_in+1)\n",
    "\n",
    "    # Flatten for network: (B*N, n_in+1)\n",
    "    net_input_flat = net_input.reshape(-1, n_in + 1)\n",
    "\n",
    "    # Predict r1, r2, r3 in flat form then reshape\n",
    "    t = net(net_input_flat).reshape(batch_size, n_mc_samples, 3)\n",
    "    r1 = t[:, :, 0]\n",
    "    r2 = t[:, :, 1] * 2 - 1\n",
    "    r3 = t[:, :, 2] * 2 * torch.pi - torch.pi\n",
    "\n",
    "    # Run simulation\n",
    "    dsigma_dOmega_sim = acs_pipeline(Ek_batch, r1, r2, r3)  # (B, M)\n",
    "\n",
    "    # Compute loss\n",
    "    # loss = kl_plus_sum_mse_loss(dsigma_dOmega_sim, dsigma_dOmega_exp)\n",
    "    # loss = mse_loss(dsigma_dOmega_sim, dsigma_dOmega_exp)\n",
    "\n",
    "    loss = hybrid_loss(dsigma_dOmega_sim, dsigma_dOmega_exp)\n",
    "\n",
    "    optimiser.zero_grad()\n",
    "    loss.backward()\n",
    "    optimiser.step()\n",
    "\n",
    "    if epoch % 100 == 0:\n",
    "        print(f\"Epoch {epoch+1:3d} | Loss: {loss.item():.6f}\")\n"
   ]
  },
  {
   "cell_type": "code",
   "execution_count": 31,
   "id": "99a90637",
   "metadata": {},
   "outputs": [
    {
     "data": {
      "image/png": "[encoded data removed]",
      "text/plain": [
       "<Figure size 640x480 with 1 Axes>"
      ]
     },
     "metadata": {},
     "output_type": "display_data"
    },
    {
     "data": {
      "image/png": "[encoded data removed]",
      "text/plain": [
       "<Figure size 640x480 with 1 Axes>"
      ]
     },
     "metadata": {},
     "output_type": "display_data"
    },
    {
     "data": {
      "image/png": "[encoded data removed]",
      "text/plain": [
       "<Figure size 640x480 with 1 Axes>"
      ]
     },
     "metadata": {},
     "output_type": "display_data"
    }
   ],
   "source": [
    "import torch\n",
    "import matplotlib.pyplot as plt\n",
    "\n",
    "net.eval()\n",
    "\n",
    "n_mc_samples = 2000\n",
    "monitor_indices = [0, len(integrated_results) // 2, -1]  # pick a few energies\n",
    "\n",
    "for idx in monitor_indices:\n",
    "    # Experimental values\n",
    "    Ek_val = integrated_results[idx]['E_inc'] / 1e6  # scalar tensor\n",
    "    exp_dist = integrated_results[idx]['int_over_E_sec'].to(device)  # (M,)\n",
    "\n",
    "    # Shape (B=1, N) for Monte Carlo\n",
    "    Ek_batch = Ek_val.unsqueeze(0).to(device)  # (1,)\n",
    "    Ek_expanded = Ek_batch.unsqueeze(1).expand(-1, n_mc_samples)  # (1, N)\n",
    "\n",
    "    # Random latent samples: (B=1, N, n_in)\n",
    "    uniform_samples = torch.rand((1, n_mc_samples, n_in), device=device)\n",
    "\n",
    "    # Append Ek to each MC sample row: (1, N, n_in+1)\n",
    "    net_input = torch.cat([uniform_samples, Ek_expanded.unsqueeze(-1)], dim=-1)\n",
    "\n",
    "    # Flatten for net: (B*N, n_in+1)\n",
    "    net_input_flat = net_input.reshape(-1, n_in + 1)\n",
    "\n",
    "    with torch.no_grad():\n",
    "        t = net(net_input_flat).reshape(1, n_mc_samples, 3)\n",
    "        r1 = t[:, :, 0]\n",
    "        r2 = t[:, :, 1] * 2 - 1\n",
    "        r3 = t[:, :, 2] * 2 * torch.pi - torch.pi\n",
    "\n",
    "        # Now acs_pipeline gets (B=1, N) inputs for r1, r2, r3\n",
    "        sim_dist = acs_pipeline(Ek_batch, r1, r2, r3).squeeze(0)  # (M,)\n",
    "\n",
    "    # Plot\n",
    "    plt.figure()\n",
    "    plt.plot(cos_theta_exp.cpu(), exp_dist.cpu(), label='Experimental')\n",
    "    plt.plot(cos_theta_exp.cpu(), sim_dist.cpu(), label='Simulation')\n",
    "    plt.xlabel('cos(theta)')\n",
    "    plt.ylabel(r'$d\\sigma/d\\Omega$')\n",
    "    plt.title(f'E_inc = {Ek_val.item():.2f} MeV')\n",
    "    plt.legend()\n",
    "    plt.show()\n"
   ]
  },
  {
   "cell_type": "code",
   "execution_count": null,
   "id": "32551f43",
   "metadata": {},
   "outputs": [],
   "source": []
  }
 ],
 "metadata": {
  "kernelspec": {
   "display_name": "MCML-env",
   "language": "python",
   "name": "python3"
  },
  "language_info": {
   "codemirror_mode": {
    "name": "ipython",
    "version": 3
   },
   "file_extension": ".py",
   "mimetype": "text/x-python",
   "name": "python",
   "nbconvert_exporter": "python",
   "pygments_lexer": "ipython3",
   "version": "3.13.4"
  }
 },
 "nbformat": 4,
 "nbformat_minor": 5
}
