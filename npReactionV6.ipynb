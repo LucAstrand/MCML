{
 "cells": [
  {
   "cell_type": "code",
   "execution_count": 1,
   "id": "16ae2560",
   "metadata": {},
   "outputs": [],
   "source": [
    "import torch\n",
    "import time\n",
    "import numpy as np\n",
    "import pandas as pd\n",
    "import torch.optim as optim\n",
    "import matplotlib.pyplot as plt"
   ]
  },
  {
   "cell_type": "code",
   "execution_count": 2,
   "id": "d56d540a",
   "metadata": {},
   "outputs": [
    {
     "name": "stdout",
     "output_type": "stream",
     "text": [
      "Using device: cpu\n"
     ]
    }
   ],
   "source": [
    "device = (\n",
    "    \"cuda\" if torch.cuda.is_available()\n",
    "    else \"mps\"  if getattr(torch.backends, \"mps\", None) and torch.backends.mps.is_available()\n",
    "    else \"cpu\"\n",
    ")\n",
    "print(f\"Using device: {device}\")"
   ]
  },
  {
   "cell_type": "code",
   "execution_count": 3,
   "id": "fbed895a",
   "metadata": {},
   "outputs": [],
   "source": [
    "DAE_np_data_path = r'data\\np\\npData.csv'\n",
    "\n",
    "np_DAE_df = pd.read_csv(DAE_np_data_path)"
   ]
  },
  {
   "cell_type": "code",
   "execution_count": 4,
   "id": "99c85e17",
   "metadata": {},
   "outputs": [],
   "source": [
    "np_DAE_df = np_DAE_df[np_DAE_df['author1'] != 'K.H.Hicks+'] # Dataset has multiple authors, we keep only B.K.Park+ to ensure only one target material..."
   ]
  },
  {
   "cell_type": "code",
   "execution_count": 5,
   "id": "7ae1b6cb",
   "metadata": {},
   "outputs": [],
   "source": [
    "df = np_DAE_df[['x2(eV)', 'x3(eV)', 'x4(deg)','y', 'dy']]\n",
    "\n",
    "df = df.rename(columns={\n",
    "    'x2(eV)': 'E_inc',\n",
    "    'x3(eV)': 'E_sec',\n",
    "    'x4(deg)': 'theta',\n",
    "    'y': 'ddcs',  # double differential cross section\n",
    "    'dy': 'Errddcs'  # Error on double differential cross section \n",
    "\n",
    "})\n",
    "df = df.dropna(subset=['E_inc', 'E_sec', 'theta', 'ddcs'])\n",
    "\n",
    "df = df[df['E_inc'] != 2.5e8]"
   ]
  },
  {
   "cell_type": "code",
   "execution_count": 6,
   "id": "928da9d8",
   "metadata": {},
   "outputs": [],
   "source": [
    "import torch\n",
    "import numpy as np\n",
    "import pandas as pd\n",
    "\n",
    "\n",
    "def prepare_experimental_data(df):\n",
    "\n",
    "    # incident energy \n",
    "    E_inc_unique  = sorted(df['E_inc'].unique())\n",
    "\n",
    "    # create the grid\n",
    "    E_sec_unique  = np.asarray(sorted(df['E_sec'].unique()),  dtype=float)\n",
    "    theta_unique  = np.asarray(sorted(df['theta'].unique()), dtype=float)\n",
    "\n",
    "    # create the 2D distribution\n",
    "    out = []\n",
    "    for E_inc in E_inc_unique:\n",
    "        # Sub-select rows for this incident energy\n",
    "        sub = df[df['E_inc'] == E_inc]\n",
    "\n",
    "        # Pivot into a full 2-D grid; reindex to guarantee rectangular shape\n",
    "        grid = (\n",
    "            sub.pivot(index='E_sec', columns='theta', values='ddcs')\n",
    "               .reindex(index=E_sec_unique, columns=theta_unique)\n",
    "               .fillna(0.0)\n",
    "               .to_numpy()\n",
    "        )\n",
    "\n",
    "        out.append({\n",
    "            'E_inc' : torch.tensor(E_inc,        dtype=torch.float32),\n",
    "            'E_sec' : torch.tensor(E_sec_unique, dtype=torch.float32),\n",
    "            'theta' : torch.tensor(theta_unique, dtype=torch.float32),\n",
    "            'ddcs'  : torch.tensor(grid,         dtype=torch.float32)\n",
    "        })\n",
    "\n",
    "    return out"
   ]
  },
  {
   "cell_type": "code",
   "execution_count": 7,
   "id": "ee36dd8d",
   "metadata": {},
   "outputs": [],
   "source": [
    "out = prepare_experimental_data(df)\n",
    "\n",
    "# same as out, but cs are integrated over theta and E_sec\n",
    "# This will give us the integrated results for each incident energy\n",
    "integrated_results = []\n",
    "\n",
    "for d in out:\n",
    "    E_inc = d['E_inc']\n",
    "    E_sec = d['E_sec']\n",
    "    theta = d['theta']\n",
    "    ddcs = d['ddcs']\n",
    "\n",
    "    int_theta = torch.trapz(ddcs, theta, dim=1)  # integrate over theta\n",
    "    int_Esec = torch.trapz(ddcs, E_sec, dim=0)  # integrate over E_sec\n",
    "\n",
    "    integrated_results.append({\n",
    "        'E_inc': E_inc,\n",
    "        'E_sec': E_sec,\n",
    "        'theta': theta,\n",
    "        'int_over_theta': int_theta,\n",
    "        'int_over_E_sec': int_Esec\n",
    "    })\n",
    "\n"
   ]
  },
  {
   "cell_type": "code",
   "execution_count": 8,
   "id": "122c90df",
   "metadata": {},
   "outputs": [],
   "source": [
    "\n",
    "def plot_integrated_cross_sections(integrated_results):\n",
    "    for data in integrated_results:\n",
    "        E_inc = data['E_inc'].item()  # scalar float\n",
    "        E_sec = data['E_sec'].numpy()\n",
    "        theta = data['theta'].numpy()\n",
    "        int_over_theta = data['int_over_theta'].numpy()\n",
    "        int_over_E_sec = data['int_over_E_sec'].numpy()\n",
    "\n",
    "        # Plot integrated over theta (cross section vs E_sec)\n",
    "        plt.figure(figsize=(12,5))\n",
    "        plt.subplot(1, 2, 1)\n",
    "        plt.plot(E_sec, int_over_theta, marker='o')\n",
    "        plt.xlabel('Secondary Energy $E_{sec}$')\n",
    "        plt.ylabel('Integrated Cross Section (over θ)')\n",
    "        plt.title(f'Incident Energy $E_{{inc}}$ = {E_inc:.2f}')\n",
    "\n",
    "        # Plot integrated over E_sec (cross section vs theta)\n",
    "        plt.subplot(1, 2, 2)\n",
    "        plt.plot(theta, int_over_E_sec, marker='o')\n",
    "        plt.xlabel('Scattering Angle θ')\n",
    "        plt.ylabel('Integrated Cross Section (over $E_{sec}$)')\n",
    "        plt.title(f'Incident Energy $E_{{inc}}$ = {E_inc:.2f}')\n",
    "\n",
    "        plt.tight_layout()\n",
    "        plt.show()\n",
    "\n",
    "# plot_integrated_cross_sections(integrated_results)"
   ]
  },
  {
   "cell_type": "code",
   "execution_count": null,
   "id": "3a734a10",
   "metadata": {},
   "outputs": [],
   "source": [
    "import math\n",
    "import torch\n",
    "import torch.nn as nn\n",
    "from torch.autograd import Function\n",
    "\n",
    "# ---------------------------\n",
    "# Minimal NPReactionSimulator (batched only)\n",
    "# ---------------------------\n",
    "class NPReactionSimulator(nn.Module):\n",
    "    def __init__(self, m_n=939.565, m_p=938.272, M_A=29785.0, S_n=7.70, S_p=13.46):\n",
    "        super().__init__()\n",
    "        self.register_buffer(\"m_n\", torch.tensor(float(m_n)))\n",
    "        self.register_buffer(\"m_p\", torch.tensor(float(m_p)))\n",
    "        self.register_buffer(\"M_A\", torch.tensor(float(M_A)))\n",
    "        self.register_buffer(\"S_n\", torch.tensor(float(S_n)))\n",
    "        self.register_buffer(\"S_p\", torch.tensor(float(S_p)))\n",
    "\n",
    "    def forward(self, Ek, r1, r2, r3):\n",
    "        # Ek: (B,) or (B,1) -> expand to (B, N)\n",
    "        if Ek.dim() == 1:\n",
    "            Ek = Ek.unsqueeze(1).expand(-1, r1.shape[1])\n",
    "        elif Ek.shape[1] == 1:\n",
    "            Ek = Ek.expand(-1, r1.shape[1])\n",
    "\n",
    "        m_n, m_p, M_A, S_n, S_p = (\n",
    "            self.m_n.to(Ek),\n",
    "            self.m_p.to(Ek),\n",
    "            self.M_A.to(Ek),\n",
    "            self.S_n.to(Ek),\n",
    "            self.S_p.to(Ek)\n",
    "        )\n",
    "\n",
    "        denom = (M_A + m_n) ** 2\n",
    "        Tk = (Ek ** 2) * m_n / (denom + 1e-12)\n",
    "        Ex = Ek - Tk + S_n\n",
    "        available_E = Ex - S_p\n",
    "        mask = available_E > 0\n",
    "        # print(mask.unique()) # Debugging line to check mask uniqueness\n",
    "\n",
    "        Ep_com = r1 * available_E\n",
    "        E_p_com = Ep_com + m_p\n",
    "        p_mag_com = torch.sqrt(torch.clamp(E_p_com**2 - m_p**2, min=0.0))\n",
    "\n",
    "        cos_theta_com = r2\n",
    "        sin_theta_com = torch.sqrt(torch.clamp(1.0 - cos_theta_com**2, min=0.0))\n",
    "        phi = r3\n",
    "\n",
    "        px_com = p_mag_com * sin_theta_com * torch.cos(phi)\n",
    "        py_com = p_mag_com * sin_theta_com * torch.sin(phi)\n",
    "        pz_com = p_mag_com * cos_theta_com\n",
    "\n",
    "        M_recoil = M_A + m_n\n",
    "        beta = torch.clamp(Tk / (M_recoil + 1e-12), max=0.999999)\n",
    "        gamma = 1.0 / torch.sqrt(torch.clamp(1.0 - beta**2, min=1e-12))\n",
    "\n",
    "        E_lab = gamma * (E_p_com + beta * pz_com)\n",
    "        pz_lab = gamma * (pz_com + beta * E_p_com)\n",
    "        p_mag_lab = torch.sqrt(px_com**2 + py_com**2 + pz_lab**2 + 1e-12)\n",
    "\n",
    "        Ep_lab = torch.where(mask, E_lab - m_p, torch.zeros_like(E_lab))\n",
    "        cos_theta_lab = torch.where(mask, pz_lab / (p_mag_lab + 1e-12), torch.zeros_like(pz_lab))\n",
    "        return Ep_lab, cos_theta_lab\n",
    "\n",
    "\n",
    "# ---------------------------\n",
    "# Minimal DifferentiableKDE (batched only)\n",
    "# ---------------------------\n",
    "class DifferentiableKDE(nn.Module):\n",
    "    def __init__(self, x_eval, bandwidth=0.6, normalize=True):\n",
    "        super().__init__()\n",
    "        self.register_buffer(\"x_eval\", x_eval.view(-1))\n",
    "        self.bandwidth = float(bandwidth)\n",
    "        self.normalize = bool(normalize)\n",
    "        self.register_buffer(\"sqrt_2pi\", torch.tensor(math.sqrt(2 * math.pi), dtype=torch.float32))\n",
    "\n",
    "    def forward(self, samples, weights=None):\n",
    "        # samples: (B, N)\n",
    "        B, N = samples.shape\n",
    "        M = self.x_eval.numel()\n",
    "\n",
    "        if weights is None:\n",
    "            weights = torch.ones_like(samples)\n",
    "\n",
    "        x = self.x_eval.view(M, 1, 1)\n",
    "        s = samples.view(1, B, N)\n",
    "\n",
    "        diffs = (x - s) / self.bandwidth\n",
    "        kernel_vals = torch.exp(-0.5 * diffs**2) / (self.bandwidth * self.sqrt_2pi)\n",
    "\n",
    "        w = weights.view(1, B, N)\n",
    "        density = (kernel_vals * w).sum(dim=2) / (w.sum(dim=2) + 1e-12)\n",
    "\n",
    "        density = density.permute(1, 0).contiguous()  # (B, M)\n",
    "\n",
    "        if self.normalize:\n",
    "            dx = (self.x_eval[1:] - self.x_eval[:-1]).mean().clamp(min=1e-12)\n",
    "            density /= (density.sum(dim=1, keepdim=True) * dx + 1e-12)\n",
    "\n",
    "        return density  # (B, M)\n",
    "    \n",
    "\n",
    "\n",
    "class DifferentiableSoftHist(torch.nn.Module):\n",
    "    def __init__(self, bin_centers, sigma, normalize=True):\n",
    "        super().__init__()\n",
    "        self.register_buffer(\"bin_centers\", bin_centers.view(-1))\n",
    "        self.sigma = float(sigma)\n",
    "        self.normalize = normalize\n",
    "\n",
    "    def forward(self, samples, weights=None):\n",
    "        # samples: (B, N)\n",
    "        B, N = samples.shape\n",
    "        M = self.bin_centers.numel()\n",
    "\n",
    "        if weights is None:\n",
    "            weights = torch.ones_like(samples)\n",
    "\n",
    "        # (B, N, M) assignment scores\n",
    "        diffs = (samples.unsqueeze(-1) - self.bin_centers) / (self.sigma + 1e-12)\n",
    "        assign = torch.exp(-0.5 * diffs**2)\n",
    "\n",
    "        # weight and sum\n",
    "        hist = (assign * weights.unsqueeze(-1)).sum(dim=1)  # (B, M)\n",
    "\n",
    "        if self.normalize:\n",
    "            hist = hist / (hist.sum(dim=1, keepdim=True) + 1e-12)\n",
    "\n",
    "        return hist\n",
    "\n",
    "\n",
    "# ---------------------------\n",
    "# Minimal Pipeline\n",
    "# ---------------------------\n",
    "class ACSPipeline(nn.Module):\n",
    "    def __init__(self, cos_theta_eval, kde_bandwidth=0.05):\n",
    "        super().__init__()\n",
    "        self.simulator = NPReactionSimulator()\n",
    "        self.kde_theta = DifferentiableKDE(x_eval=cos_theta_eval, bandwidth=kde_bandwidth)\n",
    "        # self.softhist = DifferentiableSoftHist(bin_centers=cos_theta_eval, )\n",
    "\n",
    "\n",
    "    def forward(self, Ek, r1, r2, r3):\n",
    "        Ep_lab, cos_theta_lab = self.simulator(Ek, r1, r2, r3)\n",
    "        valid = (Ep_lab > 0).float()\n",
    "        return self.kde_theta(cos_theta_lab, weights=valid)\n",
    "    \n",
    "# class ECSPipeline(nn.Module):\n",
    "#     def __init__(self, E_eval, kde_bandwidth=0.3):\n",
    "#         super().__init__()\n",
    "#         self.simulator = NPReactionSimulator()\n",
    "#         self.kde_E = DifferentiableKDE(x_eval=E_eval, bandwidth=kde_bandwidth)\n",
    "\n",
    "#     def forward(self, Ek, r1, r2, r3):\n",
    "#         Ep_lab, _ = self.simulator(Ek, r1, r2, r3)\n",
    "#         valid = (Ep_lab > 0).float()\n",
    "#         return self.kde_E(Ep_lab, weights=valid)\n",
    "    \n",
    "\n",
    "# -------------------------------\n",
    "# ACS autograd wrapper\n",
    "# -------------------------------\n",
    "# class NPACSSimulationFunction(torch.autograd.Function):\n",
    "#     @staticmethod\n",
    "#     def forward(ctx, Ek, r1, r2, r3, acs_pipeline: nn.Module):\n",
    "#         \"\"\"\n",
    "#         Forward: runs ACS simulation pipeline\n",
    "#         Inputs:\n",
    "#             Ek: (B,)\n",
    "#             r1,r2,r3: (B,N)\n",
    "#             acs_pipeline: instance of ACSPipeline\n",
    "#         Returns:\n",
    "#             dsigma_dOmega: (B, M)\n",
    "#         \"\"\"\n",
    "#         ctx.save_for_backward(r1, r2, r3, Ek)\n",
    "#         ctx.pipeline = acs_pipeline\n",
    "\n",
    "#         # Run pipeline\n",
    "#         dsigma_dOmega = acs_pipeline(Ek, r1, r2, r3)  # (B, M)\n",
    "#         return dsigma_dOmega\n",
    "\n",
    "#     @staticmethod\n",
    "#     def backward(ctx, grad_output):\n",
    "#         r1, r2, r3, Ek = ctx.saved_tensors\n",
    "#         B, N = r1.shape\n",
    "\n",
    "#         # Simple straight-through surrogate gradient: broadcast grad_output to match r1/r2/r3\n",
    "#         grad_r1 = grad_output.mean(dim=1, keepdim=True).expand_as(r1)\n",
    "#         grad_r2 = grad_output.mean(dim=1, keepdim=True).expand_as(r2)\n",
    "#         grad_r3 = grad_output.mean(dim=1, keepdim=True).expand_as(r3)\n",
    "\n",
    "#         grad_Ek = None   # do not backprop through Ek\n",
    "#         return grad_Ek, grad_r1, grad_r2, grad_r3, None\n",
    "\n",
    "# # Helper wrapper\n",
    "# def run_acs_autograd(Ek, r1, r2, r3, pipeline: ACSPipeline):\n",
    "#     return NPACSSimulationFunction.apply(Ek, r1, r2, r3, pipeline)\n",
    "\n",
    "\n",
    "\n",
    "# -------------------------------\n",
    "# ECS autograd wrapper\n",
    "# -------------------------------\n",
    "# class NPECSSimulationFunction(torch.autograd.Function):\n",
    "#     @staticmethod\n",
    "#     def forward(ctx, Ek, r1, r2, r3, ecs_pipeline: nn.Module):\n",
    "#         ctx.save_for_backward(r1, r2, r3, Ek)\n",
    "#         ctx.pipeline = ecs_pipeline\n",
    "\n",
    "#         dsigma_dE = ecs_pipeline(Ek, r1, r2, r3)  # (B, M)\n",
    "#         return dsigma_dE\n",
    "\n",
    "#     @staticmethod\n",
    "#     def backward(ctx, grad_output):\n",
    "#         r1, r2, r3, Ek = ctx.saved_tensors\n",
    "#         B, N = r1.shape\n",
    "\n",
    "#         # Straight-through surrogate gradient\n",
    "#         grad_r1 = grad_output.mean(dim=1, keepdim=True).expand_as(r1)\n",
    "#         grad_r2 = grad_output.mean(dim=1, keepdim=True).expand_as(r2)\n",
    "#         grad_r3 = grad_output.mean(dim=1, keepdim=True).expand_as(r3)\n",
    "\n",
    "#         grad_Ek = None\n",
    "#         return grad_Ek, grad_r1, grad_r2, grad_r3, None\n",
    "\n",
    "# # Helper wrapper\n",
    "# def run_ecs_autograd(Ek, r1, r2, r3, pipeline: ECSPipeline):\n",
    "#     return NPECSSimulationFunction.apply(Ek, r1, r2, r3, pipeline)\n"
   ]
  },
  {
   "cell_type": "code",
   "execution_count": 10,
   "id": "813a5f32",
   "metadata": {},
   "outputs": [],
   "source": [
    "# import math\n",
    "# import torch\n",
    "# import torch.nn as nn\n",
    "# import torch.nn.functional as F\n",
    "\n",
    "# EPS = 1e-12\n",
    "\n",
    "# class NPReactionSimulatorSmooth(nn.Module):\n",
    "#     def __init__(self, m_n=939.565, m_p=938.272, M_A=29785.0, S_n=7.70, S_p=13.46,\n",
    "#                  mask_k=20.0, softplus_beta=1.0):\n",
    "#         \"\"\"\n",
    "#         mask_k: steepness for smooth mask sigmoid(mask_k * available_E)\n",
    "#         softplus_beta: parameter for softplus inside e.g. softplus(x, beta)\n",
    "#         \"\"\"\n",
    "#         super().__init__()\n",
    "#         self.register_buffer(\"m_n\", torch.tensor(float(m_n)))\n",
    "#         self.register_buffer(\"m_p\", torch.tensor(float(m_p)))\n",
    "#         self.register_buffer(\"M_A\", torch.tensor(float(M_A)))\n",
    "#         self.register_buffer(\"S_n\", torch.tensor(float(S_n)))\n",
    "#         self.register_buffer(\"S_p\", torch.tensor(float(S_p)))\n",
    "\n",
    "#         self.mask_k = float(mask_k)\n",
    "#         self.softplus_beta = float(softplus_beta)\n",
    "\n",
    "#     def forward(self, Ek, r1, r2, r3):\n",
    "#         # Ek: (B,) or (B,1) or (B,N) accepted; r1,r2,r3: (B,N)\n",
    "#         if Ek.dim() == 1:\n",
    "#             Ek = Ek.unsqueeze(1).expand(-1, r1.shape[1])\n",
    "#         elif Ek.shape[1] == 1:\n",
    "#             Ek = Ek.expand(-1, r1.shape[1])\n",
    "\n",
    "#         m_n = self.m_n.to(Ek)\n",
    "#         m_p = self.m_p.to(Ek)\n",
    "#         M_A = self.M_A.to(Ek)\n",
    "#         S_n = self.S_n.to(Ek)\n",
    "#         S_p = self.S_p.to(Ek)\n",
    "\n",
    "#         # ---- physics-ish intermediate quantities (made smooth) ----\n",
    "#         denom = (M_A + m_n) ** 2 + EPS\n",
    "#         Tk = (Ek ** 2) * m_n / denom              # transfer-like term (small)\n",
    "\n",
    "#         Ex = Ek - Tk + S_n\n",
    "#         available_E = Ex - S_p                    # can be negative in physics, but smooth mask handles it\n",
    "\n",
    "#         # smooth mask (in (0,1), differentiable)\n",
    "#         mask = torch.sigmoid(self.mask_k * available_E)  # (B,N) soft indicator of available phase-space\n",
    "\n",
    "#         # Make r1 meaningfully affect Ep_com even if available_E small:\n",
    "#         # use a shifted fraction in [min_frac, 1.0]\n",
    "#         min_frac = 0.05\n",
    "#         frac = min_frac + (1.0 - min_frac) * r1     # (B,N)\n",
    "#         Ep_com = frac * torch.nn.functional.softplus(available_E)  # use softplus so available_E -> positive smoothly\n",
    "\n",
    "#         # E_p_com and p_mag_com: keep softplus inside sqrt to avoid clamping\n",
    "#         E_p_com = Ep_com + m_p\n",
    "#         inside = E_p_com**2 - m_p**2\n",
    "#         inside_pos = F.softplus(inside, beta=self.softplus_beta)  # positive and smooth\n",
    "#         p_mag_com = torch.sqrt(inside_pos + EPS)\n",
    "\n",
    "#         # r2 is expected in [-1,1]; ensure it's slightly contracted to avoid exact +/-1\n",
    "#         cos_theta_com = r2.clamp(-0.999, 0.999)    # small clamp preserves gradient\n",
    "#         sin_theta_sq = F.softplus(1.0 - cos_theta_com**2, beta=self.softplus_beta)\n",
    "#         sin_theta_com = torch.sqrt(sin_theta_sq + EPS)\n",
    "\n",
    "#         # phi already in [-pi, pi]; use directly\n",
    "#         phi = r3\n",
    "\n",
    "#         px_com = p_mag_com * sin_theta_com * torch.cos(phi)\n",
    "#         py_com = p_mag_com * sin_theta_com * torch.sin(phi)\n",
    "#         pz_com = p_mag_com * cos_theta_com\n",
    "\n",
    "#         # smooth \"beta\" (avoid hard clamp)\n",
    "#         M_recoil = M_A + m_n\n",
    "#         # make beta in (0, 1) smoothly; Tk/(M_recoil) might be tiny -> use scaled tanh\n",
    "#         beta_raw = Tk / (M_recoil + EPS)\n",
    "#         beta = 0.9999 * torch.tanh(beta_raw)   # smooth, |beta| < 1\n",
    "#         gamma = 1.0 / torch.sqrt(torch.clamp(1.0 - beta**2, min=1e-6))\n",
    "\n",
    "#         # lab frame\n",
    "#         E_lab = gamma * (E_p_com + beta * pz_com)\n",
    "#         pz_lab = gamma * (pz_com + beta * E_p_com)\n",
    "\n",
    "#         # magnitude with safe sqrt\n",
    "#         p_mag_lab = torch.sqrt(px_com**2 + py_com**2 + pz_lab**2 + EPS)\n",
    "\n",
    "#         # Ep_lab: use mask smoothly; avoid hard zeroing\n",
    "#         Ep_lab_raw = E_lab - m_p\n",
    "#         Ep_lab = mask * Ep_lab_raw + (1.0 - mask) * 1e-6  # tiny positive fallback where no phase-space\n",
    "\n",
    "#         # cos_theta_lab: safe division\n",
    "#         cos_theta_lab = pz_lab / (p_mag_lab + EPS)\n",
    "#         # clamp to [-1,1] softly\n",
    "#         cos_theta_lab = cos_theta_lab.clamp(-1.0 + 1e-6, 1.0 - 1e-6)\n",
    "\n",
    "#         return Ep_lab, cos_theta_lab\n",
    "\n",
    "\n",
    "# class DifferentiableKDE(nn.Module):\n",
    "#     def __init__(self, x_eval, bandwidth=0.05, normalize=True):\n",
    "#         super().__init__()\n",
    "#         self.register_buffer(\"x_eval\", x_eval.view(-1))\n",
    "#         self.bandwidth = float(bandwidth)\n",
    "#         self.normalize = bool(normalize)\n",
    "#         self.register_buffer(\"sqrt_2pi\", torch.tensor(math.sqrt(2 * math.pi), dtype=torch.float32))\n",
    "\n",
    "#     def forward(self, samples, weights=None):\n",
    "#         # samples: (B, N)\n",
    "#         B, N = samples.shape\n",
    "#         M = self.x_eval.numel()\n",
    "\n",
    "#         if weights is None:\n",
    "#             weights = torch.ones_like(samples)\n",
    "\n",
    "#         # shape tricks: (M, B, N)\n",
    "#         x = self.x_eval.view(M, 1, 1)\n",
    "#         s = samples.view(1, B, N)\n",
    "\n",
    "#         diffs = (x - s) / (self.bandwidth + EPS)\n",
    "#         kernel_vals = torch.exp(-0.5 * diffs**2) / (self.bandwidth * self.sqrt_2pi + EPS)\n",
    "\n",
    "#         w = weights.view(1, B, N)\n",
    "#         density = (kernel_vals * w).sum(dim=2) / (w.sum(dim=2) + EPS)  # (M, B)\n",
    "\n",
    "#         density = density.permute(1, 0).contiguous()  # (B, M)\n",
    "\n",
    "#         if self.normalize:\n",
    "#             dx = (self.x_eval[1:] - self.x_eval[:-1]).mean().clamp(min=1e-12)\n",
    "#             density = density / (density.sum(dim=1, keepdim=True) * dx + EPS)\n",
    "\n",
    "#         return density  # (B, M)\n",
    "        \n",
    "\n",
    "\n",
    "# class ACSPipelineSmooth(nn.Module):\n",
    "#     def __init__(self, cos_theta_eval, kde_bandwidth=0.05, mask_k=20.0, softplus_beta=1.0):\n",
    "#         super().__init__()\n",
    "#         self.simulator = NPReactionSimulatorSmooth(mask_k=mask_k, softplus_beta=softplus_beta)\n",
    "#         self.kde_theta = DifferentiableKDE(x_eval=cos_theta_eval, bandwidth=kde_bandwidth)\n",
    "\n",
    "#     def forward(self, Ek, r1, r2, r3):\n",
    "#         Ep_lab, cos_theta_lab = self.simulator(Ek, r1, r2, r3)\n",
    "#         # use Ep_lab as soft weights (so every sample contributes, but weighted)\n",
    "#         weights = torch.sigmoid(50.0 * (Ep_lab - 1e-4))  # near 1 if Ep_lab significantly positive, smooth otherwise\n",
    "#         return self.kde_theta(cos_theta_lab, weights=weights)\n"
   ]
  },
  {
   "cell_type": "code",
   "execution_count": 11,
   "id": "e6ee8a5f",
   "metadata": {},
   "outputs": [],
   "source": [
    "# cos_theta_exp = torch.tensor(sorted(np.cos(np.radians(df['theta'].unique()))), dtype=torch.float32)\n",
    "\n",
    "# pipeline = ACSPipelineSmooth(cos_theta_exp, kde_bandwidth=0.05).to(device)\n",
    "\n",
    "# B, N, d = 64, 10, 3\n",
    "# t = torch.rand(B, N, d, requires_grad=True)  # uniform [0,1]\n",
    "# r1 = t[:, :, 0]\n",
    "# r2 = t[:, :, 1] * 2 - 1   # maps to [-1,1]\n",
    "# r3 = t[:, :, 2] * 2 * math.pi - math.pi  # maps to [-pi, pi]\n",
    "\n",
    "# Ek = torch.full((B,), 5.0)  # example kinetic energy\n",
    "# dsigma = pipeline(Ek, r1, r2, r3)\n",
    "\n",
    "# dsigma_sum = dsigma.sum()  # simple scalar to backprop\n",
    "# dsigma_sum.backward()\n",
    "\n",
    "# grad_abs = t.grad.abs()  # (B, N, d)\n",
    "# grad_std = grad_abs.view(B*N, d).std(0)\n",
    "# grad_mean = grad_abs.view(B*N, d).mean(0)\n",
    "\n",
    "# print(\"per-dimension grad mean:\", grad_mean)\n",
    "# print(\"per-dimension grad std:\", grad_std)\n",
    "\n",
    "\n",
    "# import matplotlib.pyplot as plt\n",
    "\n",
    "# plt.hist(r1.view(-1).detach().numpy(), bins=20, weights=grad_abs[:,:,0].view(-1).detach().numpy())\n",
    "# plt.title(\"Weighted histogram for r1\")\n",
    "# plt.show()\n",
    "\n",
    "\n",
    "\n"
   ]
  },
  {
   "cell_type": "code",
   "execution_count": 29,
   "id": "7ebde60a",
   "metadata": {},
   "outputs": [],
   "source": [
    "# import torch\n",
    "# import math\n",
    "# import matplotlib.pyplot as plt\n",
    "# import numpy as np\n",
    "\n",
    "# # --- from your data ---\n",
    "# E_sec_exp = torch.tensor(sorted(df['E_sec'].unique()), dtype=torch.float32) / 1e6\n",
    "# E_inc_unique = torch.tensor(sorted(df['E_inc'].unique()), dtype=torch.float32) / 1e6\n",
    "# cos_theta_exp = torch.tensor(sorted(np.cos(np.radians(df['theta'].unique()))), dtype=torch.float32)\n",
    "\n",
    "# device = torch.device(\"cuda\" if torch.cuda.is_available() else \"cpu\")\n",
    "\n",
    "# # Parameters\n",
    "# B = len(E_inc_unique)  # one batch per experimental incoming energy\n",
    "# N = 2000               # MC samples per Ek\n",
    "\n",
    "# # Expand energies to batch\n",
    "# Ek_batch = E_inc_unique.to(device)  # shape [B]\n",
    "\n",
    "# # Random Monte Carlo parameters\n",
    "# r1 = torch.rand((B, N), device=device)\n",
    "# r2 = torch.rand((B, N), device=device) * 2 - 1\n",
    "# r3 = torch.rand((B, N), device=device) * 2 * math.pi - math.pi\n",
    "# r4 = torch.rand((B, N), device=device)\n",
    "\n",
    "# # Create pipeline\n",
    "# pipeline = ACSPipeline(cos_theta_eval=cos_theta_exp).to(device)\n",
    "# # pipeline = ECSPipeline(E_eval=E_sec_exp).to(device)\n",
    "\n",
    "\n",
    "# # Run simulation\n",
    "# with torch.no_grad():\n",
    "#     dsigma = pipeline(Ek_batch, r1, r2, r3, r4)  # shape [B, M]\n",
    "\n",
    "# print(\"dsigma shape:\", dsigma.shape)\n",
    "\n",
    "# # Plot results\n",
    "# fig, axes = plt.subplots(1, B, figsize=(4 * B, 4), sharey=False)\n",
    "# if B == 1:\n",
    "#     axes = [axes]\n",
    "\n",
    "# for i, ax in enumerate(axes):\n",
    "#     ax.plot(cos_theta_exp.cpu(), dsigma[i].cpu(), 'b-', lw=2)\n",
    "#     # ax.plot(E_sec_exp.cpu(), dsigma[i].cpu(), 'b-', lw=2)\n",
    "#     # ax.set_title(f\"E_k = {Ek_batch[i].item():.2f} MeV\")\n",
    "#     ax.set_xlabel(r\"$\\cos\\theta$\")\n",
    "#     if i == 0:\n",
    "#         ax.set_ylabel(r\"$\\frac{d\\sigma}{d\\Omega}$ (arb. units)\")\n",
    "\n",
    "# plt.tight_layout()\n",
    "# plt.show()\n"
   ]
  },
  {
   "cell_type": "code",
   "execution_count": 30,
   "id": "8d9a6544",
   "metadata": {},
   "outputs": [],
   "source": [
    "# # TESTING \n",
    "# pipeline = ACSPipeline(cos_theta_eval=cos_theta_exp).to(device)\n",
    "\n",
    "# Ek_batch = torch.tensor([70.0], device=device)  # Example single energy, shape [B]\n",
    "\n",
    "# r1 = torch.tensor([[0.5]], device=device)\n",
    "# r1 = torch.tensor([[0.5]], device=device)\n",
    "# r1 = torch.tensor([[0.5]], device=device)\n",
    "\n",
    "\n",
    "# # Run simulation\n",
    "# with torch.no_grad():\n",
    "#     dsigma = pipeline(Ek_batch, r1, r2, r3)\n",
    "\n",
    "# dsigma"
   ]
  },
  {
   "cell_type": "code",
   "execution_count": 12,
   "id": "e9734a76",
   "metadata": {},
   "outputs": [],
   "source": [
    "import torch\n",
    "import torch.nn.functional as F\n",
    "\n",
    "def kl_plus_sum_mse_loss(simulated_ddcs, experimental_ddcs, eps=1e-8, mse_weight=0.00001):\n",
    "\n",
    "    # print(f\"simulated_ddcs: {simulated_ddcs.shape}, experimental_ddcs: {experimental_ddcs.shape}\")\n",
    "    # KL (shape)\n",
    "    sim_sum = simulated_ddcs.sum(dim=-1, keepdim=True) + eps\n",
    "    exp_sum = experimental_ddcs.sum(dim=-1, keepdim=True) + eps\n",
    "\n",
    "    # print(f\"sim_sum: {sim_sum.shape}, exp_sum: {exp_sum.shape}\")\n",
    "\n",
    "    sim_dist = simulated_ddcs / sim_sum\n",
    "    exp_dist = experimental_ddcs / exp_sum\n",
    "\n",
    "    # print(f\"sim_dist: {sim_dist.sum()}, exp_dist: {exp_dist.sum()}\")\n",
    "\n",
    "    sim_dist = torch.clamp(sim_dist, min=eps)\n",
    "    exp_dist = torch.clamp(exp_dist, min=eps)\n",
    "\n",
    "    kl = F.kl_div(sim_dist.log(), exp_dist, reduction='batchmean', log_target=False)\n",
    "\n",
    "    # MSE (scale)\n",
    "    mse_sums = F.mse_loss(sim_sum, exp_sum)\n",
    "\n",
    "    # Combine\n",
    "    loss = kl + mse_weight * mse_sums\n",
    "    return loss\n",
    "\n",
    "\n",
    "def wasserstein_1d_loss(mc_samples: torch.Tensor, exp_samples: torch.Tensor):\n",
    "    \"\"\"\n",
    "    Compute 1D Wasserstein (Earth Mover's) distance between two sample tensors.\n",
    "    Both tensors should be 1D: (batch_size,)\n",
    "    \"\"\"\n",
    "    # Sort samples\n",
    "    mc_sorted, _ = torch.sort(mc_samples)\n",
    "    exp_sorted, _ = torch.sort(exp_samples)\n",
    "    \n",
    "    # Pad smaller tensor if needed (optional)\n",
    "    n_mc = mc_sorted.shape[0]\n",
    "    n_exp = exp_sorted.shape[0]\n",
    "    if n_mc != n_exp:\n",
    "        # Simple linear interpolation to match sizes\n",
    "        exp_sorted = torch.interp(\n",
    "            torch.linspace(0, 1, steps=n_mc, device=mc_samples.device),\n",
    "            torch.linspace(0, 1, steps=n_exp, device=mc_samples.device),\n",
    "            exp_sorted\n",
    "        )\n",
    "    \n",
    "    # Wasserstein distance: average absolute difference\n",
    "    loss = torch.mean(torch.abs(mc_sorted - exp_sorted))\n",
    "    return loss\n",
    "\n",
    "\n",
    "def diversity_loss(t):\n",
    "    # scale each output dim to mean=0, std=1 before measuring diversity\n",
    "    t_centered = t - t.mean(dim=1, keepdim=True)\n",
    "    return -t_centered.std(dim=1).mean()\n"
   ]
  },
  {
   "cell_type": "code",
   "execution_count": 13,
   "id": "71a680ea",
   "metadata": {},
   "outputs": [],
   "source": [
    "# ------------------------------------------------------------------\n",
    "# Hyper-parameters\n",
    "# ------------------------------------------------------------------\n",
    "n_in        = 3       # number of parameters, i.e., random numbers needed in the simulation\n",
    "n_lamda     = 1       # number of untrainable external parameter dependencies\n",
    "n_hidden    = 12      # number of hidden neurons in the network, at each layer\n",
    "n_layers    = 3       # number of hidden layers in the network\n",
    "n_out       = n_in    # must match the number of output parameters\n",
    "batch_size  = 64 #2_000   # samples of random number per batch, to build the distribution. Larger is better, but slower\n",
    "n_mc_samples = 1024\n",
    "epochs      = 1000 #0   # number of epochs to train the network\n",
    "lr          = 1e-3    # learning rate for the optimizer\n",
    "\n",
    "# ------------------------------------------------------------------\n",
    "# MLP producing seeds in [0,1]\n",
    "# ------------------------------------------------------------------\n",
    "def make_mlp(n_in, n_lamda, n_hidden, n_layers, n_out):\n",
    "    layers, d = [], n_in + n_lamda\n",
    "    for _ in range(n_layers):\n",
    "        layers += [nn.Linear(d, n_hidden), nn.ReLU()]\n",
    "        d = n_hidden\n",
    "    layers += [nn.Linear(d, n_out), nn.Sigmoid()]\n",
    "    # layers += [nn.Linear(d, n_out)]\n",
    "    return nn.Sequential(*layers)\n",
    "\n",
    "net       = make_mlp(n_in, n_lamda, n_hidden, n_layers, n_out).to(device)\n",
    "\n",
    "E_sec_exp = torch.tensor(sorted(df['E_sec'].unique()), dtype=torch.float32) / 1e6\n",
    "cos_theta_exp = torch.tensor(sorted(np.cos(np.radians(df['theta'].unique()))), dtype=torch.float32)\n",
    "\n",
    "# f_layer   = NPACSSimulationLayer(cos_theta_eval=cos_theta_exp).to(device) \n",
    "# f_layer   = NPECSSimulationLayer(E_eval=E_sec_exp).to(device)\n",
    "\n",
    "optimiser = optim.Adam(net.parameters(), lr=lr)\n",
    "# ------------------------------------------------------------------"
   ]
  },
  {
   "cell_type": "code",
   "execution_count": 14,
   "id": "01cbbc20",
   "metadata": {},
   "outputs": [
    {
     "name": "stderr",
     "output_type": "stream",
     "text": [
      "Training Epochs:   0%|          | 0/1000 [00:00<?, ?it/s]"
     ]
    },
    {
     "name": "stderr",
     "output_type": "stream",
     "text": [
      "Training Epochs:   0%|          | 1/1000 [00:00<03:13,  5.15it/s]"
     ]
    },
    {
     "name": "stdout",
     "output_type": "stream",
     "text": [
      "tensor([True])\n",
      "Epoch   1 | Loss: 11.657574\n",
      "tensor([True])\n",
      "tensor([True])\n",
      "tensor([True])\n",
      "tensor([True])\n"
     ]
    },
    {
     "name": "stderr",
     "output_type": "stream",
     "text": [
      "Training Epochs:   1%|          | 9/1000 [00:00<00:39, 24.84it/s]"
     ]
    },
    {
     "name": "stdout",
     "output_type": "stream",
     "text": [
      "tensor([True])\n",
      "tensor([True])\n",
      "tensor([True])\n",
      "tensor([True])\n",
      "tensor([True])\n",
      "tensor([True])\n",
      "tensor([True])\n"
     ]
    },
    {
     "name": "stderr",
     "output_type": "stream",
     "text": [
      "Training Epochs:   2%|▏         | 17/1000 [00:00<00:35, 27.51it/s]"
     ]
    },
    {
     "name": "stdout",
     "output_type": "stream",
     "text": [
      "tensor([True])\n",
      "tensor([True])\n",
      "tensor([True])\n",
      "tensor([True])\n",
      "tensor([True])\n"
     ]
    },
    {
     "name": "stderr",
     "output_type": "stream",
     "text": [
      "Training Epochs:   2%|▏         | 21/1000 [00:00<00:33, 29.43it/s]"
     ]
    },
    {
     "name": "stdout",
     "output_type": "stream",
     "text": [
      "tensor([True])\n",
      "tensor([True])\n",
      "tensor([True])\n",
      "tensor([True])\n",
      "tensor([True])\n",
      "tensor([True])\n",
      "tensor([True])\n",
      "tensor([True])\n"
     ]
    },
    {
     "name": "stderr",
     "output_type": "stream",
     "text": [
      "Training Epochs:   3%|▎         | 29/1000 [00:01<00:31, 30.64it/s]"
     ]
    },
    {
     "name": "stdout",
     "output_type": "stream",
     "text": [
      "tensor([True])\n",
      "tensor([True])\n",
      "tensor([True])\n",
      "tensor([True])\n",
      "tensor([True])\n",
      "tensor([True])\n",
      "tensor([True])\n"
     ]
    },
    {
     "name": "stderr",
     "output_type": "stream",
     "text": [
      "Training Epochs:   4%|▎         | 37/1000 [00:01<00:29, 32.45it/s]"
     ]
    },
    {
     "name": "stdout",
     "output_type": "stream",
     "text": [
      "tensor([True])\n",
      "tensor([True])\n",
      "tensor([True])\n",
      "tensor([True])\n",
      "tensor([True])\n",
      "tensor([True])\n",
      "tensor([True])\n",
      "tensor([True])\n"
     ]
    },
    {
     "name": "stderr",
     "output_type": "stream",
     "text": [
      "Training Epochs:   4%|▍         | 45/1000 [00:01<00:27, 35.11it/s]"
     ]
    },
    {
     "name": "stdout",
     "output_type": "stream",
     "text": [
      "tensor([True])\n",
      "tensor([True])\n",
      "tensor([True])\n",
      "tensor([True])\n",
      "tensor([True])\n",
      "tensor([True])\n",
      "tensor([True])\n",
      "tensor([True])\n"
     ]
    },
    {
     "name": "stderr",
     "output_type": "stream",
     "text": [
      "Training Epochs:   5%|▌         | 53/1000 [00:01<00:27, 34.11it/s]"
     ]
    },
    {
     "name": "stdout",
     "output_type": "stream",
     "text": [
      "tensor([True])\n",
      "tensor([True])\n",
      "tensor([True])\n",
      "tensor([True])\n",
      "tensor([True])\n",
      "tensor([True])\n",
      "tensor([True])\n"
     ]
    },
    {
     "name": "stderr",
     "output_type": "stream",
     "text": [
      "Training Epochs:   6%|▌         | 61/1000 [00:01<00:26, 35.68it/s]"
     ]
    },
    {
     "name": "stdout",
     "output_type": "stream",
     "text": [
      "tensor([True])\n",
      "tensor([True])\n",
      "tensor([True])\n",
      "tensor([True])\n",
      "tensor([True])\n",
      "tensor([True])\n",
      "tensor([True])\n"
     ]
    },
    {
     "name": "stderr",
     "output_type": "stream",
     "text": [
      "Training Epochs:   7%|▋         | 69/1000 [00:02<00:27, 33.26it/s]"
     ]
    },
    {
     "name": "stdout",
     "output_type": "stream",
     "text": [
      "tensor([True])\n",
      "tensor([True])\n",
      "tensor([True])\n",
      "tensor([True])\n",
      "tensor([True])\n",
      "tensor([True])\n",
      "tensor([True])\n"
     ]
    },
    {
     "name": "stderr",
     "output_type": "stream",
     "text": [
      "Training Epochs:   7%|▋         | 73/1000 [00:02<00:27, 33.99it/s]"
     ]
    },
    {
     "name": "stdout",
     "output_type": "stream",
     "text": [
      "tensor([True])\n",
      "tensor([True])\n",
      "tensor([True])\n",
      "tensor([True])\n",
      "tensor([True])\n",
      "tensor([True])\n",
      "tensor([True])\n"
     ]
    },
    {
     "name": "stderr",
     "output_type": "stream",
     "text": [
      "Training Epochs:   8%|▊         | 81/1000 [00:02<00:26, 35.25it/s]"
     ]
    },
    {
     "name": "stdout",
     "output_type": "stream",
     "text": [
      "tensor([True])\n",
      "tensor([True])\n",
      "tensor([True])\n",
      "tensor([True])\n",
      "tensor([True])\n",
      "tensor([True])\n",
      "tensor([True])\n",
      "tensor([True])\n",
      "tensor([True])\n"
     ]
    },
    {
     "name": "stderr",
     "output_type": "stream",
     "text": [
      "Training Epochs:   9%|▉         | 90/1000 [00:02<00:25, 35.66it/s]"
     ]
    },
    {
     "name": "stdout",
     "output_type": "stream",
     "text": [
      "tensor([True])\n",
      "tensor([True])\n",
      "tensor([True])\n",
      "tensor([True])\n",
      "tensor([True])\n",
      "tensor([True])\n",
      "tensor([True])\n"
     ]
    },
    {
     "name": "stderr",
     "output_type": "stream",
     "text": [
      "Training Epochs:  10%|▉         | 98/1000 [00:03<00:25, 35.37it/s]"
     ]
    },
    {
     "name": "stdout",
     "output_type": "stream",
     "text": [
      "tensor([True])\n",
      "tensor([True])\n",
      "tensor([True])\n",
      "tensor([True])\n",
      "tensor([True])\n",
      "tensor([True])\n",
      "tensor([True])\n",
      "tensor([True])\n"
     ]
    },
    {
     "name": "stderr",
     "output_type": "stream",
     "text": [
      "Training Epochs:  11%|█         | 106/1000 [00:03<00:25, 35.70it/s]"
     ]
    },
    {
     "name": "stdout",
     "output_type": "stream",
     "text": [
      "tensor([True])\n",
      "Epoch 101 | Loss: 1.017722\n",
      "tensor([True])\n",
      "tensor([True])\n",
      "tensor([True])\n",
      "tensor([True])\n",
      "tensor([True])\n",
      "tensor([True])\n",
      "tensor([True])\n"
     ]
    },
    {
     "name": "stderr",
     "output_type": "stream",
     "text": [
      "Training Epochs:  11%|█▏        | 114/1000 [00:03<00:27, 32.64it/s]"
     ]
    },
    {
     "name": "stdout",
     "output_type": "stream",
     "text": [
      "tensor([True])\n",
      "tensor([True])\n",
      "tensor([True])\n",
      "tensor([True])\n",
      "tensor([True])\n",
      "tensor([True])\n"
     ]
    },
    {
     "name": "stderr",
     "output_type": "stream",
     "text": [
      "Training Epochs:  12%|█▏        | 119/1000 [00:03<00:25, 34.44it/s]"
     ]
    },
    {
     "name": "stdout",
     "output_type": "stream",
     "text": [
      "tensor([True])\n",
      "tensor([True])\n",
      "tensor([True])\n",
      "tensor([True])\n",
      "tensor([True])\n",
      "tensor([True])\n",
      "tensor([True])\n",
      "tensor([True])\n"
     ]
    },
    {
     "name": "stderr",
     "output_type": "stream",
     "text": [
      "Training Epochs:  13%|█▎        | 128/1000 [00:03<00:22, 38.05it/s]"
     ]
    },
    {
     "name": "stdout",
     "output_type": "stream",
     "text": [
      "tensor([True])\n",
      "tensor([True])\n",
      "tensor([True])\n",
      "tensor([True])\n",
      "tensor([True])\n",
      "tensor([True])\n",
      "tensor([True])\n",
      "tensor([True])\n"
     ]
    },
    {
     "name": "stderr",
     "output_type": "stream",
     "text": [
      "Training Epochs:  14%|█▎        | 136/1000 [00:04<00:23, 36.70it/s]"
     ]
    },
    {
     "name": "stdout",
     "output_type": "stream",
     "text": [
      "tensor([True])\n",
      "tensor([True])\n",
      "tensor([True])\n",
      "tensor([True])\n",
      "tensor([True])\n",
      "tensor([True])\n",
      "tensor([True])\n",
      "tensor([True])\n"
     ]
    },
    {
     "name": "stderr",
     "output_type": "stream",
     "text": [
      "Training Epochs:  14%|█▍        | 144/1000 [00:04<00:24, 34.40it/s]"
     ]
    },
    {
     "name": "stdout",
     "output_type": "stream",
     "text": [
      "tensor([True])\n",
      "tensor([True])\n",
      "tensor([True])\n",
      "tensor([True])\n",
      "tensor([True])\n",
      "tensor([True])\n",
      "tensor([True])\n",
      "tensor([True])\n"
     ]
    },
    {
     "name": "stderr",
     "output_type": "stream",
     "text": [
      "Training Epochs:  15%|█▌        | 152/1000 [00:04<00:24, 34.54it/s]"
     ]
    },
    {
     "name": "stdout",
     "output_type": "stream",
     "text": [
      "tensor([True])\n",
      "tensor([True])\n",
      "tensor([True])\n",
      "tensor([True])\n",
      "tensor([True])\n",
      "tensor([True])\n",
      "tensor([True])\n"
     ]
    },
    {
     "name": "stderr",
     "output_type": "stream",
     "text": [
      "Training Epochs:  16%|█▌        | 160/1000 [00:04<00:23, 35.55it/s]"
     ]
    },
    {
     "name": "stdout",
     "output_type": "stream",
     "text": [
      "tensor([True])\n",
      "tensor([True])\n",
      "tensor([True])\n",
      "tensor([True])\n",
      "tensor([True])\n",
      "tensor([True])\n",
      "tensor([True])\n"
     ]
    },
    {
     "name": "stderr",
     "output_type": "stream",
     "text": [
      "Training Epochs:  16%|█▋        | 164/1000 [00:04<00:22, 36.37it/s]"
     ]
    },
    {
     "name": "stdout",
     "output_type": "stream",
     "text": [
      "tensor([True])\n",
      "tensor([True])\n",
      "tensor([True])\n",
      "tensor([True])\n",
      "tensor([True])\n",
      "tensor([True])\n",
      "tensor([True])\n",
      "tensor([True])\n"
     ]
    },
    {
     "name": "stderr",
     "output_type": "stream",
     "text": [
      "Training Epochs:  17%|█▋        | 172/1000 [00:05<00:25, 31.92it/s]"
     ]
    },
    {
     "name": "stdout",
     "output_type": "stream",
     "text": [
      "tensor([True])\n",
      "tensor([True])\n",
      "tensor([True])\n",
      "tensor([True])\n",
      "tensor([True])\n",
      "tensor([True])\n"
     ]
    },
    {
     "name": "stderr",
     "output_type": "stream",
     "text": [
      "Training Epochs:  18%|█▊        | 177/1000 [00:05<00:23, 34.51it/s]"
     ]
    },
    {
     "name": "stdout",
     "output_type": "stream",
     "text": [
      "tensor([True])\n",
      "tensor([True])\n",
      "tensor([True])\n",
      "tensor([True])\n",
      "tensor([True])\n",
      "tensor([True])\n",
      "tensor([True])\n",
      "tensor([True])\n"
     ]
    },
    {
     "name": "stderr",
     "output_type": "stream",
     "text": [
      "Training Epochs:  19%|█▊        | 186/1000 [00:05<00:23, 35.06it/s]"
     ]
    },
    {
     "name": "stdout",
     "output_type": "stream",
     "text": [
      "tensor([True])\n",
      "tensor([True])\n",
      "tensor([True])\n",
      "tensor([True])\n",
      "tensor([True])\n",
      "tensor([True])\n"
     ]
    },
    {
     "name": "stderr",
     "output_type": "stream",
     "text": [
      "Training Epochs:  19%|█▉        | 194/1000 [00:05<00:24, 32.38it/s]"
     ]
    },
    {
     "name": "stdout",
     "output_type": "stream",
     "text": [
      "tensor([True])\n",
      "tensor([True])\n",
      "tensor([True])\n",
      "tensor([True])\n",
      "tensor([True])\n",
      "tensor([True])\n",
      "tensor([True])\n"
     ]
    },
    {
     "name": "stderr",
     "output_type": "stream",
     "text": [
      "Training Epochs:  20%|██        | 202/1000 [00:06<00:23, 33.45it/s]"
     ]
    },
    {
     "name": "stdout",
     "output_type": "stream",
     "text": [
      "tensor([True])\n",
      "tensor([True])\n",
      "tensor([True])\n",
      "tensor([True])\n",
      "tensor([True])\n",
      "tensor([True])\n",
      "Epoch 201 | Loss: 0.980011\n",
      "tensor([True])\n"
     ]
    },
    {
     "name": "stderr",
     "output_type": "stream",
     "text": [
      "Training Epochs:  21%|██        | 206/1000 [00:06<00:22, 35.00it/s]"
     ]
    },
    {
     "name": "stdout",
     "output_type": "stream",
     "text": [
      "tensor([True])\n",
      "tensor([True])\n",
      "tensor([True])\n",
      "tensor([True])\n",
      "tensor([True])\n",
      "tensor([True])\n",
      "tensor([True])\n"
     ]
    },
    {
     "name": "stderr",
     "output_type": "stream",
     "text": [
      "Training Epochs:  21%|██▏       | 214/1000 [00:06<00:24, 32.63it/s]"
     ]
    },
    {
     "name": "stdout",
     "output_type": "stream",
     "text": [
      "tensor([True])\n",
      "tensor([True])\n",
      "tensor([True])\n",
      "tensor([True])\n",
      "tensor([True])\n",
      "tensor([True])\n"
     ]
    },
    {
     "name": "stderr",
     "output_type": "stream",
     "text": [
      "Training Epochs:  22%|██▏       | 218/1000 [00:06<00:28, 27.79it/s]"
     ]
    },
    {
     "name": "stdout",
     "output_type": "stream",
     "text": [
      "tensor([True])\n",
      "tensor([True])\n",
      "tensor([True])\n",
      "tensor([True])\n",
      "tensor([True])\n"
     ]
    },
    {
     "name": "stderr",
     "output_type": "stream",
     "text": [
      "Training Epochs:  22%|██▏       | 224/1000 [00:06<00:27, 27.79it/s]"
     ]
    },
    {
     "name": "stdout",
     "output_type": "stream",
     "text": [
      "tensor([True])\n",
      "tensor([True])\n",
      "tensor([True])\n",
      "tensor([True])\n",
      "tensor([True])\n",
      "tensor([True])\n",
      "tensor([True])\n"
     ]
    },
    {
     "name": "stderr",
     "output_type": "stream",
     "text": [
      "Training Epochs:  23%|██▎       | 232/1000 [00:07<00:23, 32.35it/s]"
     ]
    },
    {
     "name": "stdout",
     "output_type": "stream",
     "text": [
      "tensor([True])\n",
      "tensor([True])\n",
      "tensor([True])\n",
      "tensor([True])\n",
      "tensor([True])\n",
      "tensor([True])\n",
      "tensor([True])\n",
      "tensor([True])\n"
     ]
    },
    {
     "name": "stderr",
     "output_type": "stream",
     "text": [
      "Training Epochs:  24%|██▍       | 240/1000 [00:07<00:22, 34.42it/s]"
     ]
    },
    {
     "name": "stdout",
     "output_type": "stream",
     "text": [
      "tensor([True])\n",
      "tensor([True])\n",
      "tensor([True])\n",
      "tensor([True])\n",
      "tensor([True])\n",
      "tensor([True])\n",
      "tensor([True])\n"
     ]
    },
    {
     "name": "stderr",
     "output_type": "stream",
     "text": [
      "Training Epochs:  25%|██▍       | 249/1000 [00:07<00:20, 37.22it/s]"
     ]
    },
    {
     "name": "stdout",
     "output_type": "stream",
     "text": [
      "tensor([True])\n",
      "tensor([True])\n",
      "tensor([True])\n",
      "tensor([True])\n",
      "tensor([True])\n",
      "tensor([True])\n",
      "tensor([True])\n",
      "tensor([True])\n",
      "tensor([True])\n"
     ]
    },
    {
     "name": "stderr",
     "output_type": "stream",
     "text": [
      "Training Epochs:  26%|██▌       | 257/1000 [00:07<00:20, 36.91it/s]"
     ]
    },
    {
     "name": "stdout",
     "output_type": "stream",
     "text": [
      "tensor([True])\n",
      "tensor([True])\n",
      "tensor([True])\n",
      "tensor([True])\n",
      "tensor([True])\n",
      "tensor([True])\n",
      "tensor([True])\n",
      "tensor([True])\n"
     ]
    },
    {
     "name": "stderr",
     "output_type": "stream",
     "text": [
      "Training Epochs:  26%|██▋       | 265/1000 [00:07<00:19, 36.98it/s]"
     ]
    },
    {
     "name": "stdout",
     "output_type": "stream",
     "text": [
      "tensor([True])\n",
      "tensor([True])\n",
      "tensor([True])\n",
      "tensor([True])\n",
      "tensor([True])\n",
      "tensor([True])\n",
      "tensor([True])\n",
      "tensor([True])\n"
     ]
    },
    {
     "name": "stderr",
     "output_type": "stream",
     "text": [
      "Training Epochs:  27%|██▋       | 269/1000 [00:08<00:22, 33.09it/s]"
     ]
    },
    {
     "name": "stdout",
     "output_type": "stream",
     "text": [
      "tensor([True])\n",
      "tensor([True])\n",
      "tensor([True])\n",
      "tensor([True])\n",
      "tensor([True])\n"
     ]
    },
    {
     "name": "stderr",
     "output_type": "stream",
     "text": [
      "Training Epochs:  28%|██▊       | 277/1000 [00:08<00:23, 31.08it/s]"
     ]
    },
    {
     "name": "stdout",
     "output_type": "stream",
     "text": [
      "tensor([True])\n",
      "tensor([True])\n",
      "tensor([True])\n",
      "tensor([True])\n",
      "tensor([True])\n",
      "tensor([True])\n",
      "tensor([True])\n",
      "tensor([True])\n"
     ]
    },
    {
     "name": "stderr",
     "output_type": "stream",
     "text": [
      "Training Epochs:  28%|██▊       | 285/1000 [00:08<00:22, 32.37it/s]"
     ]
    },
    {
     "name": "stdout",
     "output_type": "stream",
     "text": [
      "tensor([True])\n",
      "tensor([True])\n",
      "tensor([True])\n",
      "tensor([True])\n",
      "tensor([True])\n",
      "tensor([True])\n",
      "tensor([True])\n"
     ]
    },
    {
     "name": "stderr",
     "output_type": "stream",
     "text": [
      "Training Epochs:  29%|██▉       | 289/1000 [00:08<00:22, 31.61it/s]"
     ]
    },
    {
     "name": "stdout",
     "output_type": "stream",
     "text": [
      "tensor([True])\n",
      "tensor([True])\n",
      "tensor([True])\n",
      "tensor([True])\n",
      "tensor([True])\n",
      "tensor([True])\n"
     ]
    },
    {
     "name": "stderr",
     "output_type": "stream",
     "text": [
      "Training Epochs:  30%|██▉       | 297/1000 [00:08<00:22, 31.49it/s]"
     ]
    },
    {
     "name": "stdout",
     "output_type": "stream",
     "text": [
      "tensor([True])\n",
      "tensor([True])\n",
      "tensor([True])\n",
      "tensor([True])\n",
      "tensor([True])\n",
      "tensor([True])\n",
      "tensor([True])\n"
     ]
    },
    {
     "name": "stderr",
     "output_type": "stream",
     "text": [
      "Training Epochs:  30%|███       | 305/1000 [00:09<00:20, 34.52it/s]"
     ]
    },
    {
     "name": "stdout",
     "output_type": "stream",
     "text": [
      "tensor([True])\n",
      "Epoch 301 | Loss: 1.051051\n",
      "tensor([True])\n",
      "tensor([True])\n",
      "tensor([True])\n",
      "tensor([True])\n",
      "tensor([True])\n",
      "tensor([True])\n",
      "tensor([True])\n"
     ]
    },
    {
     "name": "stderr",
     "output_type": "stream",
     "text": [
      "Training Epochs:  31%|███▏      | 313/1000 [00:09<00:23, 28.77it/s]"
     ]
    },
    {
     "name": "stdout",
     "output_type": "stream",
     "text": [
      "tensor([True])\n",
      "tensor([True])\n",
      "tensor([True])\n",
      "tensor([True])\n",
      "tensor([True])\n"
     ]
    },
    {
     "name": "stderr",
     "output_type": "stream",
     "text": [
      "Training Epochs:  32%|███▏      | 317/1000 [00:09<00:24, 27.43it/s]"
     ]
    },
    {
     "name": "stdout",
     "output_type": "stream",
     "text": [
      "tensor([True])\n",
      "tensor([True])\n",
      "tensor([True])\n",
      "tensor([True])\n",
      "tensor([True])\n"
     ]
    },
    {
     "name": "stderr",
     "output_type": "stream",
     "text": [
      "Training Epochs:  32%|███▏      | 324/1000 [00:09<00:22, 29.66it/s]"
     ]
    },
    {
     "name": "stdout",
     "output_type": "stream",
     "text": [
      "tensor([True])\n",
      "tensor([True])\n",
      "tensor([True])\n",
      "tensor([True])\n",
      "tensor([True])\n",
      "tensor([True])\n",
      "tensor([True])\n",
      "tensor([True])\n"
     ]
    },
    {
     "name": "stderr",
     "output_type": "stream",
     "text": [
      "Training Epochs:  33%|███▎      | 332/1000 [00:10<00:20, 32.67it/s]"
     ]
    },
    {
     "name": "stdout",
     "output_type": "stream",
     "text": [
      "tensor([True])\n",
      "tensor([True])\n",
      "tensor([True])\n",
      "tensor([True])\n",
      "tensor([True])\n",
      "tensor([True])\n",
      "tensor([True])\n",
      "tensor([True])\n"
     ]
    },
    {
     "name": "stderr",
     "output_type": "stream",
     "text": [
      "Training Epochs:  34%|███▍      | 342/1000 [00:10<00:17, 37.06it/s]"
     ]
    },
    {
     "name": "stdout",
     "output_type": "stream",
     "text": [
      "tensor([True])\n",
      "tensor([True])\n",
      "tensor([True])\n",
      "tensor([True])\n",
      "tensor([True])\n",
      "tensor([True])\n",
      "tensor([True])\n",
      "tensor([True])\n"
     ]
    },
    {
     "name": "stderr",
     "output_type": "stream",
     "text": [
      "Training Epochs:  35%|███▌      | 350/1000 [00:10<00:17, 38.12it/s]"
     ]
    },
    {
     "name": "stdout",
     "output_type": "stream",
     "text": [
      "tensor([True])\n",
      "tensor([True])\n",
      "tensor([True])\n",
      "tensor([True])\n",
      "tensor([True])\n",
      "tensor([True])\n",
      "tensor([True])\n",
      "tensor([True])\n"
     ]
    },
    {
     "name": "stderr",
     "output_type": "stream",
     "text": [
      "Training Epochs:  35%|███▌      | 354/1000 [00:10<00:16, 38.14it/s]"
     ]
    },
    {
     "name": "stdout",
     "output_type": "stream",
     "text": [
      "tensor([True])\n",
      "tensor([True])\n",
      "tensor([True])\n",
      "tensor([True])\n",
      "tensor([True])\n",
      "tensor([True])\n",
      "tensor([True])\n",
      "tensor([True])\n"
     ]
    },
    {
     "name": "stderr",
     "output_type": "stream",
     "text": [
      "Training Epochs:  36%|███▌      | 362/1000 [00:10<00:18, 34.18it/s]"
     ]
    },
    {
     "name": "stdout",
     "output_type": "stream",
     "text": [
      "tensor([True])\n",
      "tensor([True])\n",
      "tensor([True])\n",
      "tensor([True])\n",
      "tensor([True])\n",
      "tensor([True])\n",
      "tensor([True])\n"
     ]
    },
    {
     "name": "stderr",
     "output_type": "stream",
     "text": [
      "Training Epochs:  37%|███▋      | 366/1000 [00:11<00:21, 29.84it/s]"
     ]
    },
    {
     "name": "stdout",
     "output_type": "stream",
     "text": [
      "tensor([True])\n",
      "tensor([True])\n",
      "tensor([True])\n",
      "tensor([True])\n",
      "tensor([True])\n"
     ]
    },
    {
     "name": "stderr",
     "output_type": "stream",
     "text": [
      "Training Epochs:  38%|███▊      | 375/1000 [00:11<00:19, 31.34it/s]"
     ]
    },
    {
     "name": "stdout",
     "output_type": "stream",
     "text": [
      "tensor([True])\n",
      "tensor([True])\n",
      "tensor([True])\n",
      "tensor([True])\n",
      "tensor([True])\n",
      "tensor([True])\n",
      "tensor([True])\n",
      "tensor([True])\n"
     ]
    },
    {
     "name": "stderr",
     "output_type": "stream",
     "text": [
      "Training Epochs:  38%|███▊      | 383/1000 [00:11<00:19, 31.97it/s]"
     ]
    },
    {
     "name": "stdout",
     "output_type": "stream",
     "text": [
      "tensor([True])\n",
      "tensor([True])\n",
      "tensor([True])\n",
      "tensor([True])\n",
      "tensor([True])\n",
      "tensor([True])\n",
      "tensor([True])\n"
     ]
    },
    {
     "name": "stderr",
     "output_type": "stream",
     "text": [
      "Training Epochs:  39%|███▉      | 391/1000 [00:11<00:18, 32.78it/s]"
     ]
    },
    {
     "name": "stdout",
     "output_type": "stream",
     "text": [
      "tensor([True])\n",
      "tensor([True])\n",
      "tensor([True])\n",
      "tensor([True])\n",
      "tensor([True])\n",
      "tensor([True])\n",
      "tensor([True])\n"
     ]
    },
    {
     "name": "stderr",
     "output_type": "stream",
     "text": [
      "Training Epochs:  40%|███▉      | 395/1000 [00:11<00:19, 31.70it/s]"
     ]
    },
    {
     "name": "stdout",
     "output_type": "stream",
     "text": [
      "tensor([True])\n",
      "tensor([True])\n",
      "tensor([True])\n",
      "tensor([True])\n",
      "tensor([True])\n",
      "tensor([True])\n"
     ]
    },
    {
     "name": "stderr",
     "output_type": "stream",
     "text": [
      "Training Epochs:  40%|████      | 403/1000 [00:12<00:17, 34.08it/s]"
     ]
    },
    {
     "name": "stdout",
     "output_type": "stream",
     "text": [
      "tensor([True])\n",
      "tensor([True])\n",
      "tensor([True])\n",
      "Epoch 401 | Loss: 1.083823\n",
      "tensor([True])\n",
      "tensor([True])\n",
      "tensor([True])\n",
      "tensor([True])\n",
      "tensor([True])\n"
     ]
    },
    {
     "name": "stderr",
     "output_type": "stream",
     "text": [
      "Training Epochs:  41%|████      | 411/1000 [00:12<00:17, 33.30it/s]"
     ]
    },
    {
     "name": "stdout",
     "output_type": "stream",
     "text": [
      "tensor([True])\n",
      "tensor([True])\n",
      "tensor([True])\n",
      "tensor([True])\n",
      "tensor([True])\n",
      "tensor([True])\n",
      "tensor([True])\n",
      "tensor([True])\n"
     ]
    },
    {
     "name": "stderr",
     "output_type": "stream",
     "text": [
      "Training Epochs:  42%|████▏     | 419/1000 [00:12<00:16, 34.88it/s]"
     ]
    },
    {
     "name": "stdout",
     "output_type": "stream",
     "text": [
      "tensor([True])\n",
      "tensor([True])\n",
      "tensor([True])\n",
      "tensor([True])\n",
      "tensor([True])\n",
      "tensor([True])\n",
      "tensor([True])\n",
      "tensor([True])\n"
     ]
    },
    {
     "name": "stderr",
     "output_type": "stream",
     "text": [
      "Training Epochs:  43%|████▎     | 427/1000 [00:12<00:16, 34.17it/s]"
     ]
    },
    {
     "name": "stdout",
     "output_type": "stream",
     "text": [
      "tensor([True])\n",
      "tensor([True])\n",
      "tensor([True])\n",
      "tensor([True])\n",
      "tensor([True])\n",
      "tensor([True])\n",
      "tensor([True])\n",
      "tensor([True])\n"
     ]
    },
    {
     "name": "stderr",
     "output_type": "stream",
     "text": [
      "Training Epochs:  43%|████▎     | 431/1000 [00:13<00:16, 33.53it/s]"
     ]
    },
    {
     "name": "stdout",
     "output_type": "stream",
     "text": [
      "tensor([True])\n",
      "tensor([True])\n",
      "tensor([True])\n",
      "tensor([True])\n",
      "tensor([True])\n"
     ]
    },
    {
     "name": "stderr",
     "output_type": "stream",
     "text": [
      "Training Epochs:  44%|████▍     | 439/1000 [00:13<00:19, 29.37it/s]"
     ]
    },
    {
     "name": "stdout",
     "output_type": "stream",
     "text": [
      "tensor([True])\n",
      "tensor([True])\n",
      "tensor([True])\n",
      "tensor([True])\n",
      "tensor([True])\n",
      "tensor([True])\n",
      "tensor([True])\n"
     ]
    },
    {
     "name": "stderr",
     "output_type": "stream",
     "text": [
      "Training Epochs:  44%|████▍     | 444/1000 [00:13<00:17, 31.25it/s]"
     ]
    },
    {
     "name": "stdout",
     "output_type": "stream",
     "text": [
      "tensor([True])\n",
      "tensor([True])\n",
      "tensor([True])\n",
      "tensor([True])\n"
     ]
    },
    {
     "name": "stderr",
     "output_type": "stream",
     "text": [
      "Training Epochs:  45%|████▍     | 448/1000 [00:13<00:21, 26.19it/s]"
     ]
    },
    {
     "name": "stdout",
     "output_type": "stream",
     "text": [
      "tensor([True])\n",
      "tensor([True])\n",
      "tensor([True])\n",
      "tensor([True])\n",
      "tensor([True])\n"
     ]
    },
    {
     "name": "stderr",
     "output_type": "stream",
     "text": [
      "Training Epochs:  45%|████▌     | 454/1000 [00:13<00:21, 25.85it/s]"
     ]
    },
    {
     "name": "stdout",
     "output_type": "stream",
     "text": [
      "tensor([True])\n",
      "tensor([True])\n",
      "tensor([True])\n",
      "tensor([True])\n",
      "tensor([True])\n",
      "tensor([True])\n"
     ]
    },
    {
     "name": "stderr",
     "output_type": "stream",
     "text": [
      "Training Epochs:  46%|████▌     | 461/1000 [00:14<00:19, 27.29it/s]"
     ]
    },
    {
     "name": "stdout",
     "output_type": "stream",
     "text": [
      "tensor([True])\n",
      "tensor([True])\n",
      "tensor([True])\n",
      "tensor([True])\n",
      "tensor([True])\n",
      "tensor([True])\n"
     ]
    },
    {
     "name": "stderr",
     "output_type": "stream",
     "text": [
      "Training Epochs:  47%|████▋     | 467/1000 [00:14<00:20, 26.13it/s]"
     ]
    },
    {
     "name": "stdout",
     "output_type": "stream",
     "text": [
      "tensor([True])\n",
      "tensor([True])\n",
      "tensor([True])\n",
      "tensor([True])\n",
      "tensor([True])\n",
      "tensor([True])\n"
     ]
    },
    {
     "name": "stderr",
     "output_type": "stream",
     "text": [
      "Training Epochs:  47%|████▋     | 474/1000 [00:14<00:18, 28.51it/s]"
     ]
    },
    {
     "name": "stdout",
     "output_type": "stream",
     "text": [
      "tensor([True])\n",
      "tensor([True])\n",
      "tensor([True])\n",
      "tensor([True])\n",
      "tensor([True])\n",
      "tensor([True])\n",
      "tensor([True])\n"
     ]
    },
    {
     "name": "stderr",
     "output_type": "stream",
     "text": [
      "Training Epochs:  48%|████▊     | 480/1000 [00:14<00:18, 27.71it/s]"
     ]
    },
    {
     "name": "stdout",
     "output_type": "stream",
     "text": [
      "tensor([True])\n",
      "tensor([True])\n",
      "tensor([True])\n",
      "tensor([True])\n",
      "tensor([True])\n",
      "tensor([True])\n"
     ]
    },
    {
     "name": "stderr",
     "output_type": "stream",
     "text": [
      "Training Epochs:  49%|████▊     | 486/1000 [00:15<00:19, 25.86it/s]"
     ]
    },
    {
     "name": "stdout",
     "output_type": "stream",
     "text": [
      "tensor([True])\n",
      "tensor([True])\n",
      "tensor([True])\n",
      "tensor([True])\n",
      "tensor([True])\n",
      "tensor([True])\n"
     ]
    },
    {
     "name": "stderr",
     "output_type": "stream",
     "text": [
      "Training Epochs:  49%|████▉     | 493/1000 [00:15<00:18, 27.78it/s]"
     ]
    },
    {
     "name": "stdout",
     "output_type": "stream",
     "text": [
      "tensor([True])\n",
      "tensor([True])\n",
      "tensor([True])\n",
      "tensor([True])\n",
      "tensor([True])\n",
      "tensor([True])\n"
     ]
    },
    {
     "name": "stderr",
     "output_type": "stream",
     "text": [
      "Training Epochs:  50%|█████     | 500/1000 [00:15<00:17, 29.00it/s]"
     ]
    },
    {
     "name": "stdout",
     "output_type": "stream",
     "text": [
      "tensor([True])\n",
      "tensor([True])\n",
      "tensor([True])\n",
      "tensor([True])\n",
      "tensor([True])\n",
      "tensor([True])\n"
     ]
    },
    {
     "name": "stderr",
     "output_type": "stream",
     "text": [
      "Training Epochs:  50%|█████     | 504/1000 [00:15<00:16, 30.67it/s]"
     ]
    },
    {
     "name": "stdout",
     "output_type": "stream",
     "text": [
      "tensor([True])\n",
      "Epoch 501 | Loss: 0.978327\n",
      "tensor([True])\n",
      "tensor([True])\n",
      "tensor([True])\n",
      "tensor([True])\n",
      "tensor([True])\n",
      "tensor([True])\n",
      "tensor([True])\n"
     ]
    },
    {
     "name": "stderr",
     "output_type": "stream",
     "text": [
      "Training Epochs:  51%|█████     | 512/1000 [00:15<00:15, 32.47it/s]"
     ]
    },
    {
     "name": "stdout",
     "output_type": "stream",
     "text": [
      "tensor([True])\n",
      "tensor([True])\n",
      "tensor([True])\n",
      "tensor([True])\n",
      "tensor([True])\n",
      "tensor([True])\n"
     ]
    },
    {
     "name": "stderr",
     "output_type": "stream",
     "text": [
      "Training Epochs:  52%|█████▏    | 520/1000 [00:16<00:14, 33.26it/s]"
     ]
    },
    {
     "name": "stdout",
     "output_type": "stream",
     "text": [
      "tensor([True])\n",
      "tensor([True])\n",
      "tensor([True])\n",
      "tensor([True])\n",
      "tensor([True])\n",
      "tensor([True])\n",
      "tensor([True])\n",
      "tensor([True])\n"
     ]
    },
    {
     "name": "stderr",
     "output_type": "stream",
     "text": [
      "Training Epochs:  52%|█████▏    | 524/1000 [00:16<00:15, 30.92it/s]"
     ]
    },
    {
     "name": "stdout",
     "output_type": "stream",
     "text": [
      "tensor([True])\n",
      "tensor([True])\n",
      "tensor([True])\n",
      "tensor([True])\n",
      "tensor([True])\n",
      "tensor([True])\n"
     ]
    },
    {
     "name": "stderr",
     "output_type": "stream",
     "text": [
      "Training Epochs:  53%|█████▎    | 532/1000 [00:16<00:14, 31.95it/s]"
     ]
    },
    {
     "name": "stdout",
     "output_type": "stream",
     "text": [
      "tensor([True])\n",
      "tensor([True])\n",
      "tensor([True])\n",
      "tensor([True])\n",
      "tensor([True])\n",
      "tensor([True])\n",
      "tensor([True])\n"
     ]
    },
    {
     "name": "stderr",
     "output_type": "stream",
     "text": [
      "Training Epochs:  54%|█████▍    | 540/1000 [00:16<00:13, 33.88it/s]"
     ]
    },
    {
     "name": "stdout",
     "output_type": "stream",
     "text": [
      "tensor([True])\n",
      "tensor([True])\n",
      "tensor([True])\n",
      "tensor([True])\n",
      "tensor([True])\n",
      "tensor([True])\n",
      "tensor([True])\n"
     ]
    },
    {
     "name": "stderr",
     "output_type": "stream",
     "text": [
      "Training Epochs:  55%|█████▍    | 548/1000 [00:17<00:13, 33.00it/s]"
     ]
    },
    {
     "name": "stdout",
     "output_type": "stream",
     "text": [
      "tensor([True])\n",
      "tensor([True])\n",
      "tensor([True])\n",
      "tensor([True])\n",
      "tensor([True])\n",
      "tensor([True])\n",
      "tensor([True])\n"
     ]
    },
    {
     "name": "stderr",
     "output_type": "stream",
     "text": [
      "Training Epochs:  55%|█████▌    | 552/1000 [00:17<00:13, 32.02it/s]"
     ]
    },
    {
     "name": "stdout",
     "output_type": "stream",
     "text": [
      "tensor([True])\n",
      "tensor([True])\n",
      "tensor([True])\n",
      "tensor([True])\n",
      "tensor([True])\n",
      "tensor([True])\n",
      "tensor([True])\n"
     ]
    },
    {
     "name": "stderr",
     "output_type": "stream",
     "text": [
      "Training Epochs:  56%|█████▌    | 556/1000 [00:17<00:13, 33.81it/s]"
     ]
    },
    {
     "name": "stdout",
     "output_type": "stream",
     "text": [
      "tensor([True])\n",
      "tensor([True])\n",
      "tensor([True])\n",
      "tensor([True])\n"
     ]
    },
    {
     "name": "stderr",
     "output_type": "stream",
     "text": [
      "Training Epochs:  56%|█████▋    | 563/1000 [00:17<00:17, 24.43it/s]"
     ]
    },
    {
     "name": "stdout",
     "output_type": "stream",
     "text": [
      "tensor([True])\n",
      "tensor([True])\n",
      "tensor([True])\n",
      "tensor([True])\n",
      "tensor([True])\n",
      "tensor([True])\n"
     ]
    },
    {
     "name": "stderr",
     "output_type": "stream",
     "text": [
      "Training Epochs:  57%|█████▋    | 570/1000 [00:17<00:15, 27.28it/s]"
     ]
    },
    {
     "name": "stdout",
     "output_type": "stream",
     "text": [
      "tensor([True])\n",
      "tensor([True])\n",
      "tensor([True])\n",
      "tensor([True])\n",
      "tensor([True])\n",
      "tensor([True])\n"
     ]
    },
    {
     "name": "stderr",
     "output_type": "stream",
     "text": [
      "Training Epochs:  58%|█████▊    | 576/1000 [00:18<00:15, 27.04it/s]"
     ]
    },
    {
     "name": "stdout",
     "output_type": "stream",
     "text": [
      "tensor([True])\n",
      "tensor([True])\n",
      "tensor([True])\n",
      "tensor([True])\n",
      "tensor([True])\n",
      "tensor([True])\n",
      "tensor([True])\n"
     ]
    },
    {
     "name": "stderr",
     "output_type": "stream",
     "text": [
      "Training Epochs:  58%|█████▊    | 583/1000 [00:18<00:14, 28.45it/s]"
     ]
    },
    {
     "name": "stdout",
     "output_type": "stream",
     "text": [
      "tensor([True])\n",
      "tensor([True])\n",
      "tensor([True])\n",
      "tensor([True])\n",
      "tensor([True])\n",
      "tensor([True])\n"
     ]
    },
    {
     "name": "stderr",
     "output_type": "stream",
     "text": [
      "Training Epochs:  59%|█████▉    | 590/1000 [00:18<00:13, 30.24it/s]"
     ]
    },
    {
     "name": "stdout",
     "output_type": "stream",
     "text": [
      "tensor([True])\n",
      "tensor([True])\n",
      "tensor([True])\n",
      "tensor([True])\n",
      "tensor([True])\n",
      "tensor([True])\n",
      "tensor([True])\n",
      "tensor([True])\n"
     ]
    },
    {
     "name": "stderr",
     "output_type": "stream",
     "text": [
      "Training Epochs:  60%|█████▉    | 597/1000 [00:18<00:13, 29.22it/s]"
     ]
    },
    {
     "name": "stdout",
     "output_type": "stream",
     "text": [
      "tensor([True])\n",
      "tensor([True])\n",
      "tensor([True])\n",
      "tensor([True])\n",
      "tensor([True])\n",
      "tensor([True])\n",
      "tensor([True])\n"
     ]
    },
    {
     "name": "stderr",
     "output_type": "stream",
     "text": [
      "Training Epochs:  60%|██████    | 605/1000 [00:19<00:12, 30.61it/s]"
     ]
    },
    {
     "name": "stdout",
     "output_type": "stream",
     "text": [
      "tensor([True])\n",
      "Epoch 601 | Loss: 0.954223\n",
      "tensor([True])\n",
      "tensor([True])\n",
      "tensor([True])\n",
      "tensor([True])\n",
      "tensor([True])\n",
      "tensor([True])\n"
     ]
    },
    {
     "name": "stderr",
     "output_type": "stream",
     "text": [
      "Training Epochs:  61%|██████    | 609/1000 [00:19<00:12, 32.18it/s]"
     ]
    },
    {
     "name": "stdout",
     "output_type": "stream",
     "text": [
      "tensor([True])\n",
      "tensor([True])\n",
      "tensor([True])\n",
      "tensor([True])\n",
      "tensor([True])\n",
      "tensor([True])\n"
     ]
    },
    {
     "name": "stderr",
     "output_type": "stream",
     "text": [
      "Training Epochs:  62%|██████▏   | 617/1000 [00:19<00:14, 27.20it/s]"
     ]
    },
    {
     "name": "stdout",
     "output_type": "stream",
     "text": [
      "tensor([True])\n",
      "tensor([True])\n",
      "tensor([True])\n",
      "tensor([True])\n",
      "tensor([True])\n"
     ]
    },
    {
     "name": "stderr",
     "output_type": "stream",
     "text": [
      "Training Epochs:  62%|██████▏   | 623/1000 [00:19<00:14, 26.89it/s]"
     ]
    },
    {
     "name": "stdout",
     "output_type": "stream",
     "text": [
      "tensor([True])\n",
      "tensor([True])\n",
      "tensor([True])\n",
      "tensor([True])\n",
      "tensor([True])\n"
     ]
    },
    {
     "name": "stderr",
     "output_type": "stream",
     "text": [
      "Training Epochs:  63%|██████▎   | 626/1000 [00:19<00:14, 25.52it/s]"
     ]
    },
    {
     "name": "stdout",
     "output_type": "stream",
     "text": [
      "tensor([True])\n",
      "tensor([True])\n",
      "tensor([True])\n",
      "tensor([True])\n",
      "tensor([True])\n"
     ]
    },
    {
     "name": "stderr",
     "output_type": "stream",
     "text": [
      "Training Epochs:  63%|██████▎   | 632/1000 [00:20<00:14, 25.77it/s]"
     ]
    },
    {
     "name": "stdout",
     "output_type": "stream",
     "text": [
      "tensor([True])\n",
      "tensor([True])\n",
      "tensor([True])\n",
      "tensor([True])\n",
      "tensor([True])\n",
      "tensor([True])\n"
     ]
    },
    {
     "name": "stderr",
     "output_type": "stream",
     "text": [
      "Training Epochs:  64%|██████▎   | 635/1000 [00:20<00:14, 25.66it/s]"
     ]
    },
    {
     "name": "stdout",
     "output_type": "stream",
     "text": [
      "tensor([True])\n",
      "tensor([True])\n",
      "tensor([True])\n",
      "tensor([True])\n"
     ]
    },
    {
     "name": "stderr",
     "output_type": "stream",
     "text": [
      "Training Epochs:  64%|██████▍   | 641/1000 [00:20<00:16, 21.70it/s]"
     ]
    },
    {
     "name": "stdout",
     "output_type": "stream",
     "text": [
      "tensor([True])\n",
      "tensor([True])\n",
      "tensor([True])\n",
      "tensor([True])\n",
      "tensor([True])\n"
     ]
    },
    {
     "name": "stderr",
     "output_type": "stream",
     "text": [
      "Training Epochs:  65%|██████▍   | 647/1000 [00:20<00:15, 22.74it/s]"
     ]
    },
    {
     "name": "stdout",
     "output_type": "stream",
     "text": [
      "tensor([True])\n",
      "tensor([True])\n",
      "tensor([True])\n",
      "tensor([True])\n",
      "tensor([True])\n",
      "tensor([True])\n"
     ]
    },
    {
     "name": "stderr",
     "output_type": "stream",
     "text": [
      "Training Epochs:  65%|██████▌   | 653/1000 [00:21<00:15, 23.05it/s]"
     ]
    },
    {
     "name": "stdout",
     "output_type": "stream",
     "text": [
      "tensor([True])\n",
      "tensor([True])\n",
      "tensor([True])\n",
      "tensor([True])\n",
      "tensor([True])\n"
     ]
    },
    {
     "name": "stderr",
     "output_type": "stream",
     "text": [
      "Training Epochs:  66%|██████▌   | 656/1000 [00:21<00:16, 21.07it/s]"
     ]
    },
    {
     "name": "stdout",
     "output_type": "stream",
     "text": [
      "tensor([True])\n",
      "tensor([True])\n",
      "tensor([True])\n",
      "tensor([True])\n"
     ]
    },
    {
     "name": "stderr",
     "output_type": "stream",
     "text": [
      "Training Epochs:  66%|██████▌   | 662/1000 [00:21<00:16, 20.56it/s]"
     ]
    },
    {
     "name": "stdout",
     "output_type": "stream",
     "text": [
      "tensor([True])\n",
      "tensor([True])\n",
      "tensor([True])\n",
      "tensor([True])\n"
     ]
    },
    {
     "name": "stderr",
     "output_type": "stream",
     "text": [
      "Training Epochs:  66%|██████▋   | 665/1000 [00:21<00:15, 21.38it/s]"
     ]
    },
    {
     "name": "stdout",
     "output_type": "stream",
     "text": [
      "tensor([True])\n",
      "tensor([True])\n",
      "tensor([True])\n",
      "tensor([True])\n",
      "tensor([True])\n"
     ]
    },
    {
     "name": "stderr",
     "output_type": "stream",
     "text": [
      "Training Epochs:  67%|██████▋   | 671/1000 [00:21<00:15, 21.53it/s]"
     ]
    },
    {
     "name": "stdout",
     "output_type": "stream",
     "text": [
      "tensor([True])\n",
      "tensor([True])\n",
      "tensor([True])\n",
      "tensor([True])\n"
     ]
    },
    {
     "name": "stderr",
     "output_type": "stream",
     "text": [
      "Training Epochs:  67%|██████▋   | 674/1000 [00:22<00:14, 22.18it/s]"
     ]
    },
    {
     "name": "stdout",
     "output_type": "stream",
     "text": [
      "tensor([True])\n",
      "tensor([True])\n",
      "tensor([True])\n",
      "tensor([True])\n",
      "tensor([True])\n"
     ]
    },
    {
     "name": "stderr",
     "output_type": "stream",
     "text": [
      "Training Epochs:  68%|██████▊   | 680/1000 [00:22<00:13, 23.83it/s]"
     ]
    },
    {
     "name": "stdout",
     "output_type": "stream",
     "text": [
      "tensor([True])\n",
      "tensor([True])\n",
      "tensor([True])\n",
      "tensor([True])\n",
      "tensor([True])\n"
     ]
    },
    {
     "name": "stderr",
     "output_type": "stream",
     "text": [
      "Training Epochs:  68%|██████▊   | 683/1000 [00:22<00:14, 22.18it/s]"
     ]
    },
    {
     "name": "stdout",
     "output_type": "stream",
     "text": [
      "tensor([True])\n",
      "tensor([True])\n",
      "tensor([True])\n",
      "tensor([True])\n"
     ]
    },
    {
     "name": "stderr",
     "output_type": "stream",
     "text": [
      "Training Epochs:  69%|██████▊   | 686/1000 [00:22<00:15, 20.45it/s]"
     ]
    },
    {
     "name": "stdout",
     "output_type": "stream",
     "text": [
      "tensor([True])\n",
      "tensor([True])\n",
      "tensor([True])\n",
      "tensor([True])\n"
     ]
    },
    {
     "name": "stderr",
     "output_type": "stream",
     "text": [
      "Training Epochs:  69%|██████▉   | 689/1000 [00:22<00:15, 19.83it/s]"
     ]
    },
    {
     "name": "stdout",
     "output_type": "stream",
     "text": [
      "tensor([True])\n",
      "tensor([True])\n",
      "tensor([True])\n"
     ]
    },
    {
     "name": "stderr",
     "output_type": "stream",
     "text": [
      "Training Epochs:  69%|██████▉   | 694/1000 [00:23<00:18, 16.78it/s]"
     ]
    },
    {
     "name": "stdout",
     "output_type": "stream",
     "text": [
      "tensor([True])\n",
      "tensor([True])\n",
      "tensor([True])\n"
     ]
    },
    {
     "name": "stderr",
     "output_type": "stream",
     "text": [
      "Training Epochs:  70%|██████▉   | 696/1000 [00:23<00:20, 14.85it/s]"
     ]
    },
    {
     "name": "stdout",
     "output_type": "stream",
     "text": [
      "tensor([True])\n",
      "tensor([True])\n",
      "tensor([True])\n"
     ]
    },
    {
     "name": "stderr",
     "output_type": "stream",
     "text": [
      "Training Epochs:  70%|███████   | 700/1000 [00:23<00:20, 14.84it/s]"
     ]
    },
    {
     "name": "stdout",
     "output_type": "stream",
     "text": [
      "tensor([True])\n",
      "tensor([True])\n",
      "tensor([True])\n",
      "Epoch 701 | Loss: 1.109310\n",
      "tensor([True])\n"
     ]
    },
    {
     "name": "stderr",
     "output_type": "stream",
     "text": [
      "Training Epochs:  70%|███████   | 704/1000 [00:23<00:18, 16.20it/s]"
     ]
    },
    {
     "name": "stdout",
     "output_type": "stream",
     "text": [
      "tensor([True])\n",
      "tensor([True])\n",
      "tensor([True])\n",
      "tensor([True])\n"
     ]
    },
    {
     "name": "stderr",
     "output_type": "stream",
     "text": [
      "Training Epochs:  71%|███████   | 708/1000 [00:24<00:18, 15.83it/s]"
     ]
    },
    {
     "name": "stdout",
     "output_type": "stream",
     "text": [
      "tensor([True])\n",
      "tensor([True])\n",
      "tensor([True])\n",
      "tensor([True])\n"
     ]
    },
    {
     "name": "stderr",
     "output_type": "stream",
     "text": [
      "Training Epochs:  71%|███████   | 712/1000 [00:24<00:17, 16.77it/s]"
     ]
    },
    {
     "name": "stdout",
     "output_type": "stream",
     "text": [
      "tensor([True])\n",
      "tensor([True])\n",
      "tensor([True])\n"
     ]
    },
    {
     "name": "stderr",
     "output_type": "stream",
     "text": [
      "Training Epochs:  71%|███████▏  | 714/1000 [00:24<00:18, 15.60it/s]"
     ]
    },
    {
     "name": "stdout",
     "output_type": "stream",
     "text": [
      "tensor([True])\n",
      "tensor([True])\n",
      "tensor([True])\n"
     ]
    },
    {
     "name": "stderr",
     "output_type": "stream",
     "text": [
      "Training Epochs:  72%|███████▏  | 718/1000 [00:24<00:17, 15.74it/s]"
     ]
    },
    {
     "name": "stdout",
     "output_type": "stream",
     "text": [
      "tensor([True])\n",
      "tensor([True])\n",
      "tensor([True])\n",
      "tensor([True])\n"
     ]
    },
    {
     "name": "stderr",
     "output_type": "stream",
     "text": [
      "Training Epochs:  72%|███████▏  | 722/1000 [00:24<00:17, 15.64it/s]"
     ]
    },
    {
     "name": "stdout",
     "output_type": "stream",
     "text": [
      "tensor([True])\n",
      "tensor([True])\n",
      "tensor([True])\n",
      "tensor([True])\n"
     ]
    },
    {
     "name": "stderr",
     "output_type": "stream",
     "text": [
      "Training Epochs:  73%|███████▎  | 726/1000 [00:25<00:16, 16.96it/s]"
     ]
    },
    {
     "name": "stdout",
     "output_type": "stream",
     "text": [
      "tensor([True])\n",
      "tensor([True])\n",
      "tensor([True])\n",
      "tensor([True])\n"
     ]
    },
    {
     "name": "stderr",
     "output_type": "stream",
     "text": [
      "Training Epochs:  73%|███████▎  | 730/1000 [00:25<00:15, 17.01it/s]"
     ]
    },
    {
     "name": "stdout",
     "output_type": "stream",
     "text": [
      "tensor([True])\n",
      "tensor([True])\n",
      "tensor([True])\n"
     ]
    },
    {
     "name": "stderr",
     "output_type": "stream",
     "text": [
      "Training Epochs:  73%|███████▎  | 732/1000 [00:25<00:17, 15.14it/s]"
     ]
    },
    {
     "name": "stdout",
     "output_type": "stream",
     "text": [
      "tensor([True])\n",
      "tensor([True])\n",
      "tensor([True])\n"
     ]
    },
    {
     "name": "stderr",
     "output_type": "stream",
     "text": [
      "Training Epochs:  74%|███████▎  | 736/1000 [00:25<00:18, 14.64it/s]"
     ]
    },
    {
     "name": "stdout",
     "output_type": "stream",
     "text": [
      "tensor([True])\n",
      "tensor([True])\n",
      "tensor([True])\n",
      "tensor([True])\n"
     ]
    },
    {
     "name": "stderr",
     "output_type": "stream",
     "text": [
      "Training Epochs:  74%|███████▍  | 741/1000 [00:26<00:15, 17.08it/s]"
     ]
    },
    {
     "name": "stdout",
     "output_type": "stream",
     "text": [
      "tensor([True])\n",
      "tensor([True])\n",
      "tensor([True])\n",
      "tensor([True])\n",
      "tensor([True])\n"
     ]
    },
    {
     "name": "stderr",
     "output_type": "stream",
     "text": [
      "Training Epochs:  75%|███████▍  | 747/1000 [00:26<00:12, 19.47it/s]"
     ]
    },
    {
     "name": "stdout",
     "output_type": "stream",
     "text": [
      "tensor([True])\n",
      "tensor([True])\n",
      "tensor([True])\n",
      "tensor([True])\n",
      "tensor([True])\n"
     ]
    },
    {
     "name": "stderr",
     "output_type": "stream",
     "text": [
      "Training Epochs:  75%|███████▌  | 750/1000 [00:26<00:12, 20.26it/s]"
     ]
    },
    {
     "name": "stdout",
     "output_type": "stream",
     "text": [
      "tensor([True])\n",
      "tensor([True])\n",
      "tensor([True])\n",
      "tensor([True])\n",
      "tensor([True])\n"
     ]
    },
    {
     "name": "stderr",
     "output_type": "stream",
     "text": [
      "Training Epochs:  76%|███████▌  | 756/1000 [00:26<00:11, 21.53it/s]"
     ]
    },
    {
     "name": "stdout",
     "output_type": "stream",
     "text": [
      "tensor([True])\n",
      "tensor([True])\n",
      "tensor([True])\n",
      "tensor([True])\n",
      "tensor([True])\n"
     ]
    },
    {
     "name": "stderr",
     "output_type": "stream",
     "text": [
      "Training Epochs:  76%|███████▌  | 762/1000 [00:27<00:10, 22.64it/s]"
     ]
    },
    {
     "name": "stdout",
     "output_type": "stream",
     "text": [
      "tensor([True])\n",
      "tensor([True])\n",
      "tensor([True])\n",
      "tensor([True])\n",
      "tensor([True])\n"
     ]
    },
    {
     "name": "stderr",
     "output_type": "stream",
     "text": [
      "Training Epochs:  76%|███████▋  | 765/1000 [00:27<00:10, 23.37it/s]"
     ]
    },
    {
     "name": "stdout",
     "output_type": "stream",
     "text": [
      "tensor([True])\n",
      "tensor([True])\n",
      "tensor([True])\n",
      "tensor([True])\n",
      "tensor([True])\n"
     ]
    },
    {
     "name": "stderr",
     "output_type": "stream",
     "text": [
      "Training Epochs:  77%|███████▋  | 771/1000 [00:27<00:10, 22.01it/s]"
     ]
    },
    {
     "name": "stdout",
     "output_type": "stream",
     "text": [
      "tensor([True])\n",
      "tensor([True])\n",
      "tensor([True])\n",
      "tensor([True])\n"
     ]
    },
    {
     "name": "stderr",
     "output_type": "stream",
     "text": [
      "Training Epochs:  77%|███████▋  | 774/1000 [00:27<00:10, 21.52it/s]"
     ]
    },
    {
     "name": "stdout",
     "output_type": "stream",
     "text": [
      "tensor([True])\n",
      "tensor([True])\n",
      "tensor([True])\n",
      "tensor([True])\n",
      "tensor([True])\n"
     ]
    },
    {
     "name": "stderr",
     "output_type": "stream",
     "text": [
      "Training Epochs:  78%|███████▊  | 780/1000 [00:27<00:09, 22.75it/s]"
     ]
    },
    {
     "name": "stdout",
     "output_type": "stream",
     "text": [
      "tensor([True])\n",
      "tensor([True])\n",
      "tensor([True])\n",
      "tensor([True])\n",
      "tensor([True])\n"
     ]
    },
    {
     "name": "stderr",
     "output_type": "stream",
     "text": [
      "Training Epochs:  79%|███████▊  | 786/1000 [00:28<00:10, 21.23it/s]"
     ]
    },
    {
     "name": "stdout",
     "output_type": "stream",
     "text": [
      "tensor([True])\n",
      "tensor([True])\n",
      "tensor([True])\n",
      "tensor([True])\n"
     ]
    },
    {
     "name": "stderr",
     "output_type": "stream",
     "text": [
      "Training Epochs:  79%|███████▉  | 789/1000 [00:28<00:10, 19.50it/s]"
     ]
    },
    {
     "name": "stdout",
     "output_type": "stream",
     "text": [
      "tensor([True])\n",
      "tensor([True])\n",
      "tensor([True])\n",
      "tensor([True])\n"
     ]
    },
    {
     "name": "stderr",
     "output_type": "stream",
     "text": [
      "Training Epochs:  79%|███████▉  | 792/1000 [00:28<00:11, 17.97it/s]"
     ]
    },
    {
     "name": "stdout",
     "output_type": "stream",
     "text": [
      "tensor([True])\n",
      "tensor([True])\n",
      "tensor([True])\n",
      "tensor([True])\n"
     ]
    },
    {
     "name": "stderr",
     "output_type": "stream",
     "text": [
      "Training Epochs:  80%|███████▉  | 796/1000 [00:28<00:11, 18.24it/s]"
     ]
    },
    {
     "name": "stdout",
     "output_type": "stream",
     "text": [
      "tensor([True])\n",
      "tensor([True])\n",
      "tensor([True])\n",
      "tensor([True])\n",
      "tensor([True])\n"
     ]
    },
    {
     "name": "stderr",
     "output_type": "stream",
     "text": [
      "Training Epochs:  80%|████████  | 801/1000 [00:28<00:10, 19.45it/s]"
     ]
    },
    {
     "name": "stdout",
     "output_type": "stream",
     "text": [
      "tensor([True])\n",
      "tensor([True])\n",
      "Epoch 801 | Loss: 1.001454\n",
      "tensor([True])\n",
      "tensor([True])\n"
     ]
    },
    {
     "name": "stderr",
     "output_type": "stream",
     "text": [
      "Training Epochs:  80%|████████  | 804/1000 [00:29<00:09, 19.84it/s]"
     ]
    },
    {
     "name": "stdout",
     "output_type": "stream",
     "text": [
      "tensor([True])\n",
      "tensor([True])\n",
      "tensor([True])\n",
      "tensor([True])\n"
     ]
    },
    {
     "name": "stderr",
     "output_type": "stream",
     "text": [
      "Training Epochs:  81%|████████  | 809/1000 [00:29<00:11, 16.99it/s]"
     ]
    },
    {
     "name": "stdout",
     "output_type": "stream",
     "text": [
      "tensor([True])\n",
      "tensor([True])\n",
      "tensor([True])\n",
      "tensor([True])\n"
     ]
    },
    {
     "name": "stderr",
     "output_type": "stream",
     "text": [
      "Training Epochs:  81%|████████▏ | 813/1000 [00:29<00:10, 17.58it/s]"
     ]
    },
    {
     "name": "stdout",
     "output_type": "stream",
     "text": [
      "tensor([True])\n",
      "tensor([True])\n",
      "tensor([True])\n",
      "tensor([True])\n"
     ]
    },
    {
     "name": "stderr",
     "output_type": "stream",
     "text": [
      "Training Epochs:  82%|████████▏ | 820/1000 [00:30<00:08, 20.57it/s]"
     ]
    },
    {
     "name": "stdout",
     "output_type": "stream",
     "text": [
      "tensor([True])\n",
      "tensor([True])\n",
      "tensor([True])\n",
      "tensor([True])\n",
      "tensor([True])\n"
     ]
    },
    {
     "name": "stderr",
     "output_type": "stream",
     "text": [
      "Training Epochs:  82%|████████▏ | 823/1000 [00:30<00:08, 21.14it/s]"
     ]
    },
    {
     "name": "stdout",
     "output_type": "stream",
     "text": [
      "tensor([True])\n",
      "tensor([True])\n",
      "tensor([True])\n",
      "tensor([True])\n",
      "tensor([True])\n"
     ]
    },
    {
     "name": "stderr",
     "output_type": "stream",
     "text": [
      "Training Epochs:  83%|████████▎ | 826/1000 [00:30<00:08, 20.11it/s]"
     ]
    },
    {
     "name": "stdout",
     "output_type": "stream",
     "text": [
      "tensor([True])\n",
      "tensor([True])\n",
      "tensor([True])\n"
     ]
    },
    {
     "name": "stderr",
     "output_type": "stream",
     "text": [
      "Training Epochs:  83%|████████▎ | 829/1000 [00:30<00:09, 17.65it/s]"
     ]
    },
    {
     "name": "stdout",
     "output_type": "stream",
     "text": [
      "tensor([True])\n",
      "tensor([True])\n",
      "tensor([True])\n"
     ]
    },
    {
     "name": "stderr",
     "output_type": "stream",
     "text": [
      "Training Epochs:  83%|████████▎ | 833/1000 [00:30<00:10, 15.96it/s]"
     ]
    },
    {
     "name": "stdout",
     "output_type": "stream",
     "text": [
      "tensor([True])\n",
      "tensor([True])\n",
      "tensor([True])\n"
     ]
    },
    {
     "name": "stderr",
     "output_type": "stream",
     "text": [
      "Training Epochs:  84%|████████▎ | 837/1000 [00:31<00:10, 16.01it/s]"
     ]
    },
    {
     "name": "stdout",
     "output_type": "stream",
     "text": [
      "tensor([True])\n",
      "tensor([True])\n",
      "tensor([True])\n",
      "tensor([True])\n"
     ]
    },
    {
     "name": "stderr",
     "output_type": "stream",
     "text": [
      "Training Epochs:  84%|████████▍ | 839/1000 [00:31<00:10, 15.11it/s]"
     ]
    },
    {
     "name": "stdout",
     "output_type": "stream",
     "text": [
      "tensor([True])\n",
      "tensor([True])\n",
      "tensor([True])\n"
     ]
    },
    {
     "name": "stderr",
     "output_type": "stream",
     "text": [
      "Training Epochs:  84%|████████▍ | 841/1000 [00:31<00:12, 12.97it/s]"
     ]
    },
    {
     "name": "stdout",
     "output_type": "stream",
     "text": [
      "tensor([True])\n",
      "tensor([True])\n"
     ]
    },
    {
     "name": "stderr",
     "output_type": "stream",
     "text": [
      "Training Epochs:  84%|████████▍ | 843/1000 [00:31<00:14, 10.57it/s]"
     ]
    },
    {
     "name": "stdout",
     "output_type": "stream",
     "text": [
      "tensor([True])\n"
     ]
    },
    {
     "name": "stderr",
     "output_type": "stream",
     "text": [
      "Training Epochs:  85%|████████▍ | 846/1000 [00:32<00:19,  7.93it/s]"
     ]
    },
    {
     "name": "stdout",
     "output_type": "stream",
     "text": [
      "tensor([True])\n",
      "tensor([True])\n"
     ]
    },
    {
     "name": "stderr",
     "output_type": "stream",
     "text": [
      "Training Epochs:  85%|████████▍ | 848/1000 [00:32<00:16,  9.25it/s]"
     ]
    },
    {
     "name": "stdout",
     "output_type": "stream",
     "text": [
      "tensor([True])\n",
      "tensor([True])\n",
      "tensor([True])\n"
     ]
    },
    {
     "name": "stderr",
     "output_type": "stream",
     "text": [
      "Training Epochs:  85%|████████▌ | 852/1000 [00:32<00:12, 12.10it/s]"
     ]
    },
    {
     "name": "stdout",
     "output_type": "stream",
     "text": [
      "tensor([True])\n",
      "tensor([True])\n",
      "tensor([True])\n",
      "tensor([True])\n"
     ]
    },
    {
     "name": "stderr",
     "output_type": "stream",
     "text": [
      "Training Epochs:  86%|████████▌ | 856/1000 [00:32<00:09, 14.55it/s]"
     ]
    },
    {
     "name": "stdout",
     "output_type": "stream",
     "text": [
      "tensor([True])\n",
      "tensor([True])\n",
      "tensor([True])\n",
      "tensor([True])\n"
     ]
    },
    {
     "name": "stderr",
     "output_type": "stream",
     "text": [
      "Training Epochs:  86%|████████▌ | 858/1000 [00:32<00:08, 15.80it/s]"
     ]
    },
    {
     "name": "stdout",
     "output_type": "stream",
     "text": [
      "tensor([True])\n",
      "tensor([True])\n",
      "tensor([True])\n"
     ]
    },
    {
     "name": "stderr",
     "output_type": "stream",
     "text": [
      "Training Epochs:  86%|████████▌ | 862/1000 [00:33<00:08, 15.76it/s]"
     ]
    },
    {
     "name": "stdout",
     "output_type": "stream",
     "text": [
      "tensor([True])\n",
      "tensor([True])\n",
      "tensor([True])\n",
      "tensor([True])\n"
     ]
    },
    {
     "name": "stderr",
     "output_type": "stream",
     "text": [
      "Training Epochs:  87%|████████▋ | 867/1000 [00:33<00:07, 16.65it/s]"
     ]
    },
    {
     "name": "stdout",
     "output_type": "stream",
     "text": [
      "tensor([True])\n",
      "tensor([True])\n",
      "tensor([True])\n",
      "tensor([True])\n"
     ]
    },
    {
     "name": "stderr",
     "output_type": "stream",
     "text": [
      "Training Epochs:  87%|████████▋ | 871/1000 [00:33<00:07, 17.01it/s]"
     ]
    },
    {
     "name": "stdout",
     "output_type": "stream",
     "text": [
      "tensor([True])\n",
      "tensor([True])\n",
      "tensor([True])\n",
      "tensor([True])\n"
     ]
    },
    {
     "name": "stderr",
     "output_type": "stream",
     "text": [
      "Training Epochs:  88%|████████▊ | 875/1000 [00:33<00:07, 17.67it/s]"
     ]
    },
    {
     "name": "stdout",
     "output_type": "stream",
     "text": [
      "tensor([True])\n",
      "tensor([True])\n",
      "tensor([True])\n",
      "tensor([True])\n"
     ]
    },
    {
     "name": "stderr",
     "output_type": "stream",
     "text": [
      "Training Epochs:  88%|████████▊ | 879/1000 [00:34<00:06, 17.45it/s]"
     ]
    },
    {
     "name": "stdout",
     "output_type": "stream",
     "text": [
      "tensor([True])\n",
      "tensor([True])\n",
      "tensor([True])\n",
      "tensor([True])\n"
     ]
    },
    {
     "name": "stderr",
     "output_type": "stream",
     "text": [
      "Training Epochs:  88%|████████▊ | 883/1000 [00:34<00:06, 16.88it/s]"
     ]
    },
    {
     "name": "stdout",
     "output_type": "stream",
     "text": [
      "tensor([True])\n",
      "tensor([True])\n",
      "tensor([True])\n"
     ]
    },
    {
     "name": "stderr",
     "output_type": "stream",
     "text": [
      "Training Epochs:  89%|████████▊ | 887/1000 [00:34<00:06, 17.11it/s]"
     ]
    },
    {
     "name": "stdout",
     "output_type": "stream",
     "text": [
      "tensor([True])\n",
      "tensor([True])\n",
      "tensor([True])\n",
      "tensor([True])\n"
     ]
    },
    {
     "name": "stderr",
     "output_type": "stream",
     "text": [
      "Training Epochs:  89%|████████▉ | 889/1000 [00:34<00:06, 16.97it/s]"
     ]
    },
    {
     "name": "stdout",
     "output_type": "stream",
     "text": [
      "tensor([True])\n",
      "tensor([True])\n",
      "tensor([True])\n",
      "tensor([True])\n"
     ]
    },
    {
     "name": "stderr",
     "output_type": "stream",
     "text": [
      "Training Epochs:  89%|████████▉ | 893/1000 [00:35<00:07, 15.08it/s]"
     ]
    },
    {
     "name": "stdout",
     "output_type": "stream",
     "text": [
      "tensor([True])\n",
      "tensor([True])\n",
      "tensor([True])\n"
     ]
    },
    {
     "name": "stderr",
     "output_type": "stream",
     "text": [
      "Training Epochs:  90%|████████▉ | 897/1000 [00:35<00:07, 14.49it/s]"
     ]
    },
    {
     "name": "stdout",
     "output_type": "stream",
     "text": [
      "tensor([True])\n",
      "tensor([True])\n",
      "tensor([True])\n"
     ]
    },
    {
     "name": "stderr",
     "output_type": "stream",
     "text": [
      "Training Epochs:  90%|████████▉ | 899/1000 [00:35<00:06, 14.55it/s]"
     ]
    },
    {
     "name": "stdout",
     "output_type": "stream",
     "text": [
      "tensor([True])\n",
      "tensor([True])\n",
      "tensor([True])\n"
     ]
    },
    {
     "name": "stderr",
     "output_type": "stream",
     "text": [
      "Training Epochs:  90%|█████████ | 901/1000 [00:35<00:06, 14.36it/s]"
     ]
    },
    {
     "name": "stdout",
     "output_type": "stream",
     "text": [
      "tensor([True])\n",
      "Epoch 901 | Loss: 1.015569\n",
      "tensor([True])\n"
     ]
    },
    {
     "name": "stderr",
     "output_type": "stream",
     "text": [
      "Training Epochs:  90%|█████████ | 905/1000 [00:36<00:07, 12.24it/s]"
     ]
    },
    {
     "name": "stdout",
     "output_type": "stream",
     "text": [
      "tensor([True])\n",
      "tensor([True])\n",
      "tensor([True])\n"
     ]
    },
    {
     "name": "stderr",
     "output_type": "stream",
     "text": [
      "Training Epochs:  91%|█████████ | 907/1000 [00:36<00:07, 12.37it/s]"
     ]
    },
    {
     "name": "stdout",
     "output_type": "stream",
     "text": [
      "tensor([True])\n",
      "tensor([True])\n",
      "tensor([True])\n"
     ]
    },
    {
     "name": "stderr",
     "output_type": "stream",
     "text": [
      "Training Epochs:  91%|█████████ | 909/1000 [00:36<00:07, 12.72it/s]"
     ]
    },
    {
     "name": "stdout",
     "output_type": "stream",
     "text": [
      "tensor([True])\n",
      "tensor([True])\n",
      "tensor([True])\n"
     ]
    },
    {
     "name": "stderr",
     "output_type": "stream",
     "text": [
      "Training Epochs:  91%|█████████▏| 913/1000 [00:36<00:06, 13.08it/s]"
     ]
    },
    {
     "name": "stdout",
     "output_type": "stream",
     "text": [
      "tensor([True])\n",
      "tensor([True])\n",
      "tensor([True])\n"
     ]
    },
    {
     "name": "stderr",
     "output_type": "stream",
     "text": [
      "Training Epochs:  92%|█████████▏| 915/1000 [00:36<00:06, 13.49it/s]"
     ]
    },
    {
     "name": "stdout",
     "output_type": "stream",
     "text": [
      "tensor([True])\n",
      "tensor([True])\n",
      "tensor([True])\n"
     ]
    },
    {
     "name": "stderr",
     "output_type": "stream",
     "text": [
      "Training Epochs:  92%|█████████▏| 919/1000 [00:37<00:06, 13.25it/s]"
     ]
    },
    {
     "name": "stdout",
     "output_type": "stream",
     "text": [
      "tensor([True])\n",
      "tensor([True])\n",
      "tensor([True])\n",
      "tensor([True])\n"
     ]
    },
    {
     "name": "stderr",
     "output_type": "stream",
     "text": [
      "Training Epochs:  92%|█████████▏| 923/1000 [00:37<00:05, 13.87it/s]"
     ]
    },
    {
     "name": "stdout",
     "output_type": "stream",
     "text": [
      "tensor([True])\n",
      "tensor([True])\n",
      "tensor([True])\n",
      "tensor([True])\n"
     ]
    },
    {
     "name": "stderr",
     "output_type": "stream",
     "text": [
      "Training Epochs:  92%|█████████▎| 925/1000 [00:37<00:05, 14.30it/s]"
     ]
    },
    {
     "name": "stdout",
     "output_type": "stream",
     "text": [
      "tensor([True])\n"
     ]
    },
    {
     "name": "stderr",
     "output_type": "stream",
     "text": [
      "Training Epochs:  93%|█████████▎| 927/1000 [00:37<00:06, 10.85it/s]"
     ]
    },
    {
     "name": "stdout",
     "output_type": "stream",
     "text": [
      "tensor([True])\n",
      "tensor([True])\n",
      "tensor([True])\n"
     ]
    },
    {
     "name": "stderr",
     "output_type": "stream",
     "text": [
      "Training Epochs:  93%|█████████▎| 931/1000 [00:38<00:05, 11.80it/s]"
     ]
    },
    {
     "name": "stdout",
     "output_type": "stream",
     "text": [
      "tensor([True])\n",
      "tensor([True])\n",
      "tensor([True])\n"
     ]
    },
    {
     "name": "stderr",
     "output_type": "stream",
     "text": [
      "Training Epochs:  94%|█████████▎| 935/1000 [00:38<00:04, 13.29it/s]"
     ]
    },
    {
     "name": "stdout",
     "output_type": "stream",
     "text": [
      "tensor([True])\n",
      "tensor([True])\n",
      "tensor([True])\n",
      "tensor([True])\n"
     ]
    },
    {
     "name": "stderr",
     "output_type": "stream",
     "text": [
      "Training Epochs:  94%|█████████▍| 939/1000 [00:38<00:04, 13.66it/s]"
     ]
    },
    {
     "name": "stdout",
     "output_type": "stream",
     "text": [
      "tensor([True])\n",
      "tensor([True])\n",
      "tensor([True])\n"
     ]
    },
    {
     "name": "stderr",
     "output_type": "stream",
     "text": [
      "Training Epochs:  94%|█████████▍| 941/1000 [00:38<00:04, 12.65it/s]"
     ]
    },
    {
     "name": "stdout",
     "output_type": "stream",
     "text": [
      "tensor([True])\n",
      "tensor([True])\n",
      "tensor([True])\n"
     ]
    },
    {
     "name": "stderr",
     "output_type": "stream",
     "text": [
      "Training Epochs:  94%|█████████▍| 943/1000 [00:38<00:04, 11.94it/s]"
     ]
    },
    {
     "name": "stdout",
     "output_type": "stream",
     "text": [
      "tensor([True])\n",
      "tensor([True])\n",
      "tensor([True])\n"
     ]
    },
    {
     "name": "stderr",
     "output_type": "stream",
     "text": [
      "Training Epochs:  94%|█████████▍| 945/1000 [00:39<00:04, 12.20it/s]"
     ]
    },
    {
     "name": "stdout",
     "output_type": "stream",
     "text": [
      "tensor([True])\n",
      "tensor([True])\n"
     ]
    },
    {
     "name": "stderr",
     "output_type": "stream",
     "text": [
      "Training Epochs:  95%|█████████▍| 949/1000 [00:39<00:05, 10.09it/s]"
     ]
    },
    {
     "name": "stdout",
     "output_type": "stream",
     "text": [
      "tensor([True])\n",
      "tensor([True])\n",
      "tensor([True])\n"
     ]
    },
    {
     "name": "stderr",
     "output_type": "stream",
     "text": [
      "Training Epochs:  95%|█████████▌| 951/1000 [00:39<00:04, 10.50it/s]"
     ]
    },
    {
     "name": "stdout",
     "output_type": "stream",
     "text": [
      "tensor([True])\n",
      "tensor([True])\n",
      "tensor([True])\n"
     ]
    },
    {
     "name": "stderr",
     "output_type": "stream",
     "text": [
      "Training Epochs:  96%|█████████▌| 955/1000 [00:40<00:04, 11.24it/s]"
     ]
    },
    {
     "name": "stdout",
     "output_type": "stream",
     "text": [
      "tensor([True])\n",
      "tensor([True])\n",
      "tensor([True])\n"
     ]
    },
    {
     "name": "stderr",
     "output_type": "stream",
     "text": [
      "Training Epochs:  96%|█████████▌| 957/1000 [00:40<00:03, 11.84it/s]"
     ]
    },
    {
     "name": "stdout",
     "output_type": "stream",
     "text": [
      "tensor([True])\n",
      "tensor([True])\n",
      "tensor([True])\n"
     ]
    },
    {
     "name": "stderr",
     "output_type": "stream",
     "text": [
      "Training Epochs:  96%|█████████▌| 961/1000 [00:40<00:03, 12.37it/s]"
     ]
    },
    {
     "name": "stdout",
     "output_type": "stream",
     "text": [
      "tensor([True])\n",
      "tensor([True])\n",
      "tensor([True])\n"
     ]
    },
    {
     "name": "stderr",
     "output_type": "stream",
     "text": [
      "Training Epochs:  96%|█████████▋| 963/1000 [00:40<00:03, 11.69it/s]"
     ]
    },
    {
     "name": "stdout",
     "output_type": "stream",
     "text": [
      "tensor([True])\n",
      "tensor([True])\n"
     ]
    },
    {
     "name": "stderr",
     "output_type": "stream",
     "text": [
      "Training Epochs:  96%|█████████▋| 965/1000 [00:41<00:03,  9.65it/s]"
     ]
    },
    {
     "name": "stdout",
     "output_type": "stream",
     "text": [
      "tensor([True])\n",
      "tensor([True])\n",
      "tensor([True])\n"
     ]
    },
    {
     "name": "stderr",
     "output_type": "stream",
     "text": [
      "Training Epochs:  97%|█████████▋| 969/1000 [00:41<00:02, 11.05it/s]"
     ]
    },
    {
     "name": "stdout",
     "output_type": "stream",
     "text": [
      "tensor([True])\n",
      "tensor([True])\n",
      "tensor([True])\n"
     ]
    },
    {
     "name": "stderr",
     "output_type": "stream",
     "text": [
      "Training Epochs:  97%|█████████▋| 973/1000 [00:41<00:02, 12.19it/s]"
     ]
    },
    {
     "name": "stdout",
     "output_type": "stream",
     "text": [
      "tensor([True])\n",
      "tensor([True])\n",
      "tensor([True])\n"
     ]
    },
    {
     "name": "stderr",
     "output_type": "stream",
     "text": [
      "Training Epochs:  98%|█████████▊| 975/1000 [00:41<00:01, 12.57it/s]"
     ]
    },
    {
     "name": "stdout",
     "output_type": "stream",
     "text": [
      "tensor([True])\n",
      "tensor([True])\n",
      "tensor([True])\n"
     ]
    },
    {
     "name": "stderr",
     "output_type": "stream",
     "text": [
      "Training Epochs:  98%|█████████▊| 977/1000 [00:41<00:01, 12.87it/s]"
     ]
    },
    {
     "name": "stdout",
     "output_type": "stream",
     "text": [
      "tensor([True])\n",
      "tensor([True])\n",
      "tensor([True])\n"
     ]
    },
    {
     "name": "stderr",
     "output_type": "stream",
     "text": [
      "Training Epochs:  98%|█████████▊| 981/1000 [00:42<00:01, 12.82it/s]"
     ]
    },
    {
     "name": "stdout",
     "output_type": "stream",
     "text": [
      "tensor([True])\n",
      "tensor([True])\n",
      "tensor([True])\n"
     ]
    },
    {
     "name": "stderr",
     "output_type": "stream",
     "text": [
      "Training Epochs:  98%|█████████▊| 983/1000 [00:42<00:01, 12.96it/s]"
     ]
    },
    {
     "name": "stdout",
     "output_type": "stream",
     "text": [
      "tensor([True])\n",
      "tensor([True])\n",
      "tensor([True])\n"
     ]
    },
    {
     "name": "stderr",
     "output_type": "stream",
     "text": [
      "Training Epochs:  99%|█████████▊| 987/1000 [00:42<00:01, 10.78it/s]"
     ]
    },
    {
     "name": "stdout",
     "output_type": "stream",
     "text": [
      "tensor([True])\n",
      "tensor([True])\n",
      "tensor([True])\n",
      "tensor([True])\n"
     ]
    },
    {
     "name": "stderr",
     "output_type": "stream",
     "text": [
      "Training Epochs:  99%|█████████▉| 991/1000 [00:43<00:00, 12.04it/s]"
     ]
    },
    {
     "name": "stdout",
     "output_type": "stream",
     "text": [
      "tensor([True])\n",
      "tensor([True])\n",
      "tensor([True])\n"
     ]
    },
    {
     "name": "stderr",
     "output_type": "stream",
     "text": [
      "Training Epochs: 100%|█████████▉| 995/1000 [00:43<00:00, 12.91it/s]"
     ]
    },
    {
     "name": "stdout",
     "output_type": "stream",
     "text": [
      "tensor([True])\n",
      "tensor([True])\n",
      "tensor([True])\n"
     ]
    },
    {
     "name": "stderr",
     "output_type": "stream",
     "text": [
      "Training Epochs: 100%|█████████▉| 997/1000 [00:43<00:00, 13.37it/s]"
     ]
    },
    {
     "name": "stdout",
     "output_type": "stream",
     "text": [
      "tensor([True])\n",
      "tensor([True])\n",
      "tensor([True])\n"
     ]
    },
    {
     "name": "stderr",
     "output_type": "stream",
     "text": [
      "Training Epochs: 100%|██████████| 1000/1000 [00:43<00:00, 22.81it/s]"
     ]
    },
    {
     "name": "stdout",
     "output_type": "stream",
     "text": [
      "tensor([True])\n",
      "tensor([True])\n"
     ]
    },
    {
     "name": "stderr",
     "output_type": "stream",
     "text": [
      "\n"
     ]
    }
   ],
   "source": [
    "from tqdm import trange\n",
    "\n",
    "# ---------------------------\n",
    "# Create ACS/ECS simulation layer (autograd-friendly)\n",
    "# ---------------------------\n",
    "E_sec_exp = torch.tensor(sorted(df['E_sec'].unique()), dtype=torch.float32) / 1e6\n",
    "E_inc_unique = torch.tensor(sorted(df['E_inc'].unique()), dtype=torch.float32) / 1e6\n",
    "cos_theta_exp = torch.tensor(sorted(np.cos(np.radians(df['theta'].unique()))), dtype=torch.float32)\n",
    "\n",
    "# Prep experimental data\n",
    "all_Ek = torch.stack([res['E_inc'] for res in integrated_results]) / 1e6  # (N,)\n",
    "\n",
    "all_exp = torch.stack([res['int_over_E_sec'] for res in integrated_results])  # (N, M)\n",
    "# all_exp = torch.stack([res['int_over_theta'] for res in integrated_results])  # (N, dist_len)\n",
    "\n",
    "all_Ek = all_Ek.to(device)\n",
    "all_exp = all_exp.to(device)\n",
    "num_samples_total = all_Ek.shape[0]\n",
    "\n",
    "# ecs_pipeline = ECSPipeline(E_eval=E_sec_exp).to(device)\n",
    "acs_pipeline = ACSPipeline(cos_theta_eval=cos_theta_exp).to(device)\n",
    "\n",
    "# -------------\n",
    "# Training loop\n",
    "# -------------\n",
    "\n",
    "# ==== Debug toggles ====\n",
    "USE_FIXED_IDX = False         # True = always use the same idx for Ek\n",
    "FIXED_IDX_VALUE = 5          # which dataset entry to use if above is True\n",
    "USE_FIXED_MC = False         # True = use the same MC samples each epoch\n",
    "\n",
    "# Prepare fixed MC samples if needed\n",
    "if USE_FIXED_MC:\n",
    "    fixed_uniform_samples = torch.rand((batch_size, n_mc_samples, n_in), device=device)\n",
    "\n",
    "net.train()\n",
    "for epoch in trange(epochs, desc='Training Epochs'):\n",
    "\n",
    "    # ----- Index selection -----\n",
    "    if USE_FIXED_IDX:\n",
    "        idx = torch.full((batch_size,), FIXED_IDX_VALUE, dtype=torch.long, device=device)\n",
    "    else:\n",
    "        idx = torch.randint(0, num_samples_total, (batch_size,), device=device)\n",
    "\n",
    "    Ek_batch = all_Ek[idx]           # (B,)\n",
    "    dsigma_dOmega_exp = all_exp[idx] # (B, M)\n",
    "\n",
    "    # ----- MC samples -----\n",
    "    if USE_FIXED_MC:\n",
    "        uniform_samples = fixed_uniform_samples\n",
    "    else:\n",
    "        uniform_samples = torch.rand((batch_size, n_mc_samples, n_in), device=device)\n",
    "\n",
    "    # ----- Network forward -----\n",
    "    Ek_expanded = Ek_batch[:, None, None].expand(-1, n_mc_samples, 1)  # (B, N, 1)\n",
    "    net_input = torch.cat([uniform_samples, Ek_expanded], dim=-1)       # (B, N, n_in + 1)\n",
    "    net_input_flat = net_input.reshape(-1, n_in + 1)                     # flatten\n",
    "\n",
    "    t = net(net_input_flat).reshape(batch_size, n_mc_samples, n_in) # (B, N, n_in)\n",
    "    t.retain_grad()\n",
    "\n",
    "    r1 = t[:, :, 0]\n",
    "    r2 = t[:, :, 1] * 2 - 1\n",
    "    r3 = t[:, :, 2] * 2 * torch.pi #- torch.pi\n",
    "\n",
    "    # ----- ACS forward pass -----\n",
    "    # dsigma_dOmega_sim = run_acs_autograd(Ek_batch, r1, r2, r3, acs_pipeline)  # (B, M)\n",
    "    dsigma_dOmega_sim = acs_pipeline(Ek_batch, r1, r2, r3)  # (B, M)\n",
    "    # print(dsigma_dOmega_sim)\n",
    "    # dsigma_dOmega_sim = run_acs_autograd(Ek_batch, r1, r2, r3, r4, acs_pipeline)  # (B, M)\n",
    "\n",
    "    # print(f\"dsigma_dOmega_sim: {dsigma_dOmega_sim.shape}, dsigma_dOmega_exp: {dsigma_dOmega_exp.shape}\")\n",
    "\n",
    "    # ----- Loss -----\n",
    "    physics_loss = kl_plus_sum_mse_loss(dsigma_dOmega_sim, dsigma_dOmega_exp)\n",
    "    div_loss = diversity_loss(t)\n",
    "\n",
    "    # Combine\n",
    "    lambda_div = 0.01\n",
    "    loss = physics_loss + lambda_div * div_loss\n",
    "\n",
    "    # ----- Backprop -----\n",
    "    optimiser.zero_grad()\n",
    "    loss.backward()\n",
    "\n",
    "    # g = t.grad                # t from net(...).reshape(B,N,d) and requires_grad=True\n",
    "    # print(\"per-sample grad std:\", g.view(-1, g.shape[-1]).std(0))\n",
    "\n",
    "    optimiser.step()\n",
    "\n",
    "    if epoch % 100 == 0:\n",
    "        # print(t.std(dim=1, keepdim=True).mean())\n",
    "        # print(uniform_samples, t)\n",
    "        print(f\"Epoch {epoch+1:3d} | Loss: {loss.item():.6f}\")\n",
    "\n",
    "    # t = torch.rand(1, 10, 3, requires_grad=True)\n",
    "    # r1 = t[:,:,0]\n",
    "    # r2 = t[:,:,1] * 2 - 1\n",
    "    # r3 = t[:,:,2] * 2 * torch.pi - torch.pi\n",
    "    # Ek = torch.full((1,), 65, requires_grad=False)\n",
    "\n",
    "    # out = acs_pipeline(Ek, r1, r2, r3)\n",
    "    # loss = out.mean()\n",
    "    # loss.backward()\n",
    "\n",
    "    # print(t.grad.abs().mean(), t.grad.std())\n",
    "\n",
    "\n",
    "\n",
    "    # logits = net(net_input_flat).reshape(batch_size, n_mc_samples, n_in)\n",
    "    # logits.retain_grad()\n",
    "    # target = torch.rand_like(logits)\n",
    "    # loss_test = ((logits - target)**2).mean()\n",
    "    # optimiser.zero_grad()\n",
    "    # loss_test.backward()\n",
    "    # print(\"logits.grad mean abs (sanity):\", logits.grad.abs().mean().item())\n",
    "\n",
    "\n",
    "# net.train()\n",
    "# for epoch in trange(epochs, desc='Training Epochs'):\n",
    "\n",
    "#     # ----- Index selection -----\n",
    "#     if USE_FIXED_IDX:\n",
    "#         idx = torch.full((batch_size,), FIXED_IDX_VALUE, dtype=torch.long, device=device)\n",
    "#     else:\n",
    "#         idx = torch.randint(0, num_samples_total, (batch_size,), device=device)\n",
    "\n",
    "#     Ek_batch = all_Ek[idx]           # (B,)\n",
    "#     dsigma_dE_exp = all_exp[idx]     # (B, M)  <- ECS experimental data\n",
    "\n",
    "#     # ----- MC samples -----\n",
    "#     if USE_FIXED_MC:\n",
    "#         uniform_samples = fixed_uniform_samples\n",
    "#     else:\n",
    "#         uniform_samples = torch.rand((batch_size, n_mc_samples, n_in), device=device)\n",
    "\n",
    "#     # ----- Network forward -----\n",
    "#     Ek_expanded = Ek_batch[:, None, None].expand(-1, n_mc_samples, 1)  # (B, N, 1)\n",
    "#     net_input = torch.cat([uniform_samples, Ek_expanded], dim=-1)       # (B, N, n_in + 1)\n",
    "#     net_input_flat = net_input.reshape(-1, n_in + 1)                     # flatten\n",
    "\n",
    "#     t = net(net_input_flat).reshape(batch_size, n_mc_samples, n_in) # (B, N, n_in)\n",
    "\n",
    "#     # Split seeds into r1,r2,r3 for the simulator\n",
    "#     r1 = t[:, :, 0]\n",
    "#     r2 = t[:, :, 1] * 2 - 1\n",
    "#     r3 = t[:, :, 2] * 2 * torch.pi - torch.pi\n",
    "\n",
    "#     # ----- ECS forward pass -----\n",
    "#     dsigma_dE_sim = run_ecs_autograd(Ek_batch, r1, r2, r3, ecs_pipeline)  # (B, M)\n",
    "\n",
    "#     # ----- Loss -----\n",
    "#     loss = kl_plus_sum_mse_loss(dsigma_dE_sim, dsigma_dE_exp)\n",
    "\n",
    "#     # ----- Backprop -----\n",
    "#     optimiser.zero_grad()\n",
    "#     loss.backward()\n",
    "#     optimiser.step()\n",
    "\n",
    "#     if epoch % 100 == 0:\n",
    "#         print(f\"Epoch {epoch+1:3d} | Loss: {loss.item():.6f}\")\n"
   ]
  },
  {
   "cell_type": "code",
   "execution_count": 15,
   "id": "73d72e7c",
   "metadata": {},
   "outputs": [
    {
     "name": "stdout",
     "output_type": "stream",
     "text": [
      "mean |t1 - t2|: 0.0019982976373285055\n"
     ]
    }
   ],
   "source": [
    "net.eval()\n",
    "with torch.no_grad():\n",
    "    Ek = all_Ek[:1]                             # one condition\n",
    "    u1 = torch.rand(1, 256, n_in, device=device)\n",
    "    u2 = torch.rand(1, 256, n_in, device=device)\n",
    "\n",
    "    x1 = torch.cat([u1, Ek[:, None, None].expand(-1, 256, 1)], dim=-1).reshape(-1, n_in+1)\n",
    "    x2 = torch.cat([u2, Ek[:, None, None].expand(-1, 256, 1)], dim=-1).reshape(-1, n_in+1)\n",
    "\n",
    "    t1 = net(x1).reshape(1, 256, n_in)\n",
    "    t2 = net(x2).reshape(1, 256, n_in)\n",
    "\n",
    "print(\"mean |t1 - t2|:\", (t1 - t2).abs().mean().item())"
   ]
  },
  {
   "cell_type": "code",
   "execution_count": 15,
   "id": "d93d7147",
   "metadata": {},
   "outputs": [],
   "source": [
    "# # ======== Hyperparameters ========\n",
    "# lambda_div_max = 0.1   # max weight for diversity term\n",
    "# div_ramp_epochs = 50   # linearly increase lambda_div over first div_ramp_epochs\n",
    "\n",
    "# # ======== Training loop ========\n",
    "# net.train()\n",
    "# for epoch in trange(epochs, desc='Training Epochs'):\n",
    "\n",
    "#     # ----- Index selection -----\n",
    "#     if USE_FIXED_IDX:\n",
    "#         idx = torch.full((batch_size,), FIXED_IDX_VALUE, dtype=torch.long, device=device)\n",
    "#     else:\n",
    "#         idx = torch.randint(0, num_samples_total, (batch_size,), device=device)\n",
    "\n",
    "#     Ek_batch = all_Ek[idx]           # (B,)\n",
    "#     dsigma_dOmega_exp = all_exp[idx] # (B, M)\n",
    "\n",
    "#     # ----- MC samples -----\n",
    "#     if USE_FIXED_MC:\n",
    "#         uniform_samples = fixed_uniform_samples\n",
    "#     else:\n",
    "#         uniform_samples = torch.rand((batch_size, n_mc_samples, n_in), device=device)\n",
    "\n",
    "#     # ----- Network forward -----\n",
    "#     Ek_expanded = Ek_batch[:, None, None].expand(-1, n_mc_samples, 1)  # (B, N, 1)\n",
    "#     net_input = torch.cat([uniform_samples, Ek_expanded], dim=-1)       # (B, N, n_in + 1)\n",
    "#     net_input_flat = net_input.reshape(-1, n_in + 1)\n",
    "\n",
    "#     logits = net(net_input_flat).reshape(batch_size, n_mc_samples, n_in)  # (B, N, n_in)\n",
    "\n",
    "#     # ----- Transform logits to simulator inputs -----\n",
    "#     t_mapped = torch.sigmoid(logits)\n",
    "#     r1 = t_mapped[:, :, 0]\n",
    "#     r2 = t_mapped[:, :, 1] * 2 - 1\n",
    "#     r3 = t_mapped[:, :, 2] * 2 * torch.pi - torch.pi\n",
    "\n",
    "#     dsigma_dOmega_sim = run_acs_autograd(Ek_batch, r1, r2, r3, acs_pipeline)\n",
    "\n",
    "#     # ----- Physics loss -----\n",
    "#     loss_physics = kl_plus_sum_mse_loss(dsigma_dOmega_sim, dsigma_dOmega_exp)\n",
    "\n",
    "#     # ----- Diversity loss (normalized) -----\n",
    "#     t_centered = logits - logits.mean(dim=1, keepdim=True)\n",
    "#     t_norm = t_centered / (t_centered.std(dim=1, keepdim=True) + 1e-6)\n",
    "#     loss_div = -t_norm.std(dim=1).mean()  # maximize relative std\n",
    "\n",
    "#     # ----- Ramp up lambda_div -----\n",
    "#     lambda_div = lambda_div_max * min(10, epoch / div_ramp_epochs)\n",
    "\n",
    "#     # ----- Total loss -----\n",
    "#     loss = loss_physics + lambda_div * loss_div\n",
    "\n",
    "#     # ----- Backprop -----\n",
    "#     optimiser.zero_grad()\n",
    "#     loss.backward()\n",
    "#     optimiser.step()\n",
    "\n",
    "#     if epoch % 100 == 0:\n",
    "#         print(epoch / div_ramp_epochs)\n",
    "\n",
    "#         print(f\"Epoch {epoch+1:3d} | Loss: {loss.item():.6f} | λ_div={lambda_div:.4f}\")\n"
   ]
  },
  {
   "cell_type": "code",
   "execution_count": 16,
   "id": "99a90637",
   "metadata": {},
   "outputs": [
    {
     "name": "stdout",
     "output_type": "stream",
     "text": [
      "tensor([True])\n"
     ]
    },
    {
     "data": {
      "image/png": "[encoded data removed]",
      "text/plain": [
       "<Figure size 640x480 with 1 Axes>"
      ]
     },
     "metadata": {},
     "output_type": "display_data"
    },
    {
     "name": "stdout",
     "output_type": "stream",
     "text": [
      "tensor([True])\n"
     ]
    },
    {
     "data": {
      "image/png": "[encoded data removed]",
      "text/plain": [
       "<Figure size 640x480 with 1 Axes>"
      ]
     },
     "metadata": {},
     "output_type": "display_data"
    },
    {
     "name": "stdout",
     "output_type": "stream",
     "text": [
      "tensor([True])\n"
     ]
    },
    {
     "data": {
      "image/png": "[encoded data removed]",
      "text/plain": [
       "<Figure size 640x480 with 1 Axes>"
      ]
     },
     "metadata": {},
     "output_type": "display_data"
    }
   ],
   "source": [
    "import torch\n",
    "import matplotlib.pyplot as plt\n",
    "\n",
    "net.eval()\n",
    "\n",
    "n_mc_samples = 2000\n",
    "monitor_indices = [0, len(integrated_results) // 2, -1]  # pick a few energies\n",
    "\n",
    "\n",
    "for idx in monitor_indices:\n",
    "    # Experimental values\n",
    "    Ek_val = integrated_results[idx]['E_inc'] / 1e6  # scalar tensor\n",
    "\n",
    "    exp_dist = integrated_results[idx]['int_over_E_sec'].to(device)  # (M,)\n",
    "    # exp_dist = integrated_results[idx]['int_over_theta'].to(device)  # (M,)\n",
    "\n",
    "    # Shape (B=1, N) for Monte Carlo\n",
    "    Ek_batch = Ek_val.unsqueeze(0).to(device)  # (1,)\n",
    "    Ek_expanded = Ek_batch.unsqueeze(1).expand(-1, n_mc_samples)  # (1, N)\n",
    "\n",
    "    # Random latent samples: (B=1, N, n_in)\n",
    "    uniform_samples = torch.rand((1, n_mc_samples, n_in), device=device)\n",
    "\n",
    "    # Append Ek to each MC sample row: (1, N, n_in+1)\n",
    "    net_input = torch.cat([uniform_samples, Ek_expanded.unsqueeze(-1)], dim=-1)\n",
    "\n",
    "    # Flatten for net: (B*N, n_in+1)\n",
    "    net_input_flat = net_input.reshape(-1, n_in + 1)\n",
    "\n",
    "    with torch.no_grad():\n",
    "        t = net(net_input_flat).reshape(1, n_mc_samples, 3)\n",
    "        r1 = t[:, :, 0]\n",
    "        r2 = t[:, :, 1] * 2 - 1\n",
    "        r3 = t[:, :, 2] * 2 * torch.pi #- torch.pi\n",
    "\n",
    "        # Now acs_pipeline gets (B=1, N) inputs for r1, r2, r3\n",
    "        sim_dist = acs_pipeline(Ek_batch, r1, r2, r3).squeeze(0)  # (M,)\n",
    "        # sim_dist = ecs_pipeline(Ek_batch, r1, r2, r3).squeeze(0)  # (M,)\n",
    "\n",
    "\n",
    "    # Plot\n",
    "    plt.figure()\n",
    "    plt.plot(cos_theta_exp.cpu(), exp_dist.cpu(), label='Experimental')\n",
    "    plt.plot(cos_theta_exp.cpu(), sim_dist.cpu(), label='Simulation')\n",
    "    plt.xlabel(r'$\\cos(\\theta)$')\n",
    "\n",
    "    # plt.plot(E_sec_exp.cpu(), exp_dist.cpu(), label='Experimental')\n",
    "    # plt.plot(E_sec_exp.cpu(), sim_dist.cpu(), label='Simulation')\n",
    "    # plt.xlabel(r'$E_{\\text{sec}}$ [MeV]')\n",
    "    \n",
    "    plt.ylabel(r'$d\\sigma/d\\Omega$')\n",
    "    plt.title(f'E_inc = {Ek_val.item():.2f} MeV')\n",
    "    plt.legend()\n",
    "    plt.show()\n"
   ]
  },
  {
   "cell_type": "code",
   "execution_count": null,
   "id": "24ba470d",
   "metadata": {},
   "outputs": [],
   "source": []
  }
 ],
 "metadata": {
  "kernelspec": {
   "display_name": "PyTorchEnv",
   "language": "python",
   "name": "python3"
  },
  "language_info": {
   "codemirror_mode": {
    "name": "ipython",
    "version": 3
   },
   "file_extension": ".py",
   "mimetype": "text/x-python",
   "name": "python",
   "nbconvert_exporter": "python",
   "pygments_lexer": "ipython3",
   "version": "3.11.9"
  }
 },
 "nbformat": 4,
 "nbformat_minor": 5
}
